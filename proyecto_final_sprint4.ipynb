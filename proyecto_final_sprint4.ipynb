{
 "cells": [
  {
   "cell_type": "markdown",
   "id": "3Xg_RQfnafXz",
   "metadata": {
    "id": "3Xg_RQfnafXz"
   },
   "source": [
    "# ¡Llena ese carrito!"
   ]
  },
  {
   "cell_type": "markdown",
   "id": "mhIvmmkW414q",
   "metadata": {
    "id": "mhIvmmkW414q"
   },
   "source": [
    "# Introducción\n",
    "\n",
    "Instacart es una plataforma de entregas de comestibles donde la clientela puede registrar un pedido y hacer que se lo entreguen, similar a Uber Eats y Door Dash.\n",
    "El conjunto de datos que te hemos proporcionado tiene modificaciones del original. Redujimos el tamaño del conjunto para que tus cálculos se hicieran más rápido e introdujimos valores ausentes y duplicados. Tuvimos cuidado de conservar las distribuciones de los datos originales cuando hicimos los cambios.\n",
    "\n",
    "Debes completar tres pasos. Para cada uno de ellos, escribe una breve introducción que refleje con claridad cómo pretendes resolver cada paso, y escribe párrafos explicatorios que justifiquen tus decisiones al tiempo que avanzas en tu solución.  También escribe una conclusión que resuma tus hallazgos y elecciones.\n"
   ]
  },
  {
   "cell_type": "markdown",
   "id": "3MbyzpOQZ5Or",
   "metadata": {
    "id": "3MbyzpOQZ5Or"
   },
   "source": [
    "## Diccionario de datos\n",
    "\n",
    "Hay cinco tablas en el conjunto de datos, y tendrás que usarlas todas para hacer el preprocesamiento de datos y el análisis exploratorio de datos. A continuación se muestra un diccionario de datos que enumera las columnas de cada tabla y describe los datos que contienen.\n",
    "\n",
    "- `instacart_orders.csv`: cada fila corresponde a un pedido en la aplicación Instacart.\n",
    "    - `'order_id'`: número de ID que identifica de manera única cada pedido.\n",
    "    - `'user_id'`: número de ID que identifica de manera única la cuenta de cada cliente.\n",
    "    - `'order_number'`: el número de veces que este cliente ha hecho un pedido.\n",
    "    - `'order_dow'`: día de la semana en que se hizo el pedido (0 si es domingo).\n",
    "    - `'order_hour_of_day'`: hora del día en que se hizo el pedido.\n",
    "    - `'days_since_prior_order'`: número de días transcurridos desde que este cliente hizo su pedido anterior.\n",
    "- `products.csv`: cada fila corresponde a un producto único que pueden comprar los clientes.\n",
    "    - `'product_id'`: número ID que identifica de manera única cada producto.\n",
    "    - `'product_name'`: nombre del producto.\n",
    "    - `'aisle_id'`: número ID que identifica de manera única cada categoría de pasillo de víveres.\n",
    "    - `'department_id'`: número ID que identifica de manera única cada departamento de víveres.\n",
    "- `order_products.csv`: cada fila corresponde a un artículo pedido en un pedido.\n",
    "    - `'order_id'`: número de ID que identifica de manera única cada pedido.\n",
    "    - `'product_id'`: número ID que identifica de manera única cada producto.\n",
    "    - `'add_to_cart_order'`: el orden secuencial en el que se añadió cada artículo en el carrito.\n",
    "    - `'reordered'`: 0 si el cliente nunca ha pedido este producto antes, 1 si lo ha pedido.\n",
    "- `aisles.csv`\n",
    "    - `'aisle_id'`: número ID que identifica de manera única cada categoría de pasillo de víveres.\n",
    "    - `'aisle'`: nombre del pasillo.\n",
    "- `departments.csv`\n",
    "    - `'department_id'`: número ID que identifica de manera única cada departamento de víveres.\n",
    "    - `'department'`: nombre del departamento."
   ]
  },
  {
   "cell_type": "markdown",
   "id": "n3Ha_cNSZ8lK",
   "metadata": {
    "id": "n3Ha_cNSZ8lK"
   },
   "source": [
    "# Paso 1. Descripción de los datos\n",
    "\n",
    "Lee los archivos de datos (`/datasets/instacart_orders.csv`, `/datasets/products.csv`, `/datasets/aisles.csv`, `/datasets/departments.csv` y `/datasets/order_products.csv`) con `pd.read_csv()` usando los parámetros adecuados para leer los datos correctamente. Verifica la información para cada DataFrame creado.\n"
   ]
  },
  {
   "cell_type": "markdown",
   "id": "OmlQPLlyaAfR",
   "metadata": {
    "id": "OmlQPLlyaAfR"
   },
   "source": [
    "## Plan de solución\n",
    "\n",
    "Escribe aquí tu plan de solución para el Paso 1. Descripción de los datos."
   ]
  },
  {
   "cell_type": "code",
   "execution_count": 1,
   "id": "fbf1adab",
   "metadata": {
    "id": "fbf1adab",
    "trusted": false
   },
   "outputs": [],
   "source": [
    "import pandas as pd\n",
    "import numpy as np\n",
    "from matplotlib import pyplot as plt"
   ]
  },
  {
   "cell_type": "code",
   "execution_count": 2,
   "id": "ad36396d",
   "metadata": {
    "id": "ad36396d",
    "trusted": false
   },
   "outputs": [],
   "source": [
    "df_ordenes_ic = pd.read_csv(\"/datasets/instacart_orders.csv\",sep=\";\")\n",
    "df_productos = pd.read_csv(\"/datasets/products.csv\",sep=\";\")\n",
    "df_ordenes = pd.read_csv(\"/datasets/order_products.csv\",sep=\";\")\n",
    "df_pasillos = pd.read_csv(\"/datasets/aisles.csv\",sep=\";\")\n",
    "df_dpto = pd.read_csv(\"/datasets/departments.csv\",sep=\";\")"
   ]
  },
  {
   "cell_type": "code",
   "execution_count": 3,
   "id": "ad6a1efa",
   "metadata": {
    "id": "ad6a1efa",
    "trusted": false
   },
   "outputs": [
    {
     "name": "stdout",
     "output_type": "stream",
     "text": [
      "Primeras 5 filas de df_ordenes_ic e info\n",
      "\n"
     ]
    },
    {
     "data": {
      "text/html": [
       "<div>\n",
       "<style scoped>\n",
       "    .dataframe tbody tr th:only-of-type {\n",
       "        vertical-align: middle;\n",
       "    }\n",
       "\n",
       "    .dataframe tbody tr th {\n",
       "        vertical-align: top;\n",
       "    }\n",
       "\n",
       "    .dataframe thead th {\n",
       "        text-align: right;\n",
       "    }\n",
       "</style>\n",
       "<table border=\"1\" class=\"dataframe\">\n",
       "  <thead>\n",
       "    <tr style=\"text-align: right;\">\n",
       "      <th></th>\n",
       "      <th>order_id</th>\n",
       "      <th>user_id</th>\n",
       "      <th>order_number</th>\n",
       "      <th>order_dow</th>\n",
       "      <th>order_hour_of_day</th>\n",
       "      <th>days_since_prior_order</th>\n",
       "    </tr>\n",
       "  </thead>\n",
       "  <tbody>\n",
       "    <tr>\n",
       "      <th>0</th>\n",
       "      <td>1515936</td>\n",
       "      <td>183418</td>\n",
       "      <td>11</td>\n",
       "      <td>6</td>\n",
       "      <td>13</td>\n",
       "      <td>30.0</td>\n",
       "    </tr>\n",
       "    <tr>\n",
       "      <th>1</th>\n",
       "      <td>1690866</td>\n",
       "      <td>163593</td>\n",
       "      <td>5</td>\n",
       "      <td>5</td>\n",
       "      <td>12</td>\n",
       "      <td>9.0</td>\n",
       "    </tr>\n",
       "    <tr>\n",
       "      <th>2</th>\n",
       "      <td>1454967</td>\n",
       "      <td>39980</td>\n",
       "      <td>4</td>\n",
       "      <td>5</td>\n",
       "      <td>19</td>\n",
       "      <td>2.0</td>\n",
       "    </tr>\n",
       "    <tr>\n",
       "      <th>3</th>\n",
       "      <td>1768857</td>\n",
       "      <td>82516</td>\n",
       "      <td>56</td>\n",
       "      <td>0</td>\n",
       "      <td>20</td>\n",
       "      <td>10.0</td>\n",
       "    </tr>\n",
       "    <tr>\n",
       "      <th>4</th>\n",
       "      <td>3007858</td>\n",
       "      <td>196724</td>\n",
       "      <td>2</td>\n",
       "      <td>4</td>\n",
       "      <td>12</td>\n",
       "      <td>17.0</td>\n",
       "    </tr>\n",
       "  </tbody>\n",
       "</table>\n",
       "</div>"
      ],
      "text/plain": [
       "   order_id  user_id  order_number  order_dow  order_hour_of_day  \\\n",
       "0   1515936   183418            11          6                 13   \n",
       "1   1690866   163593             5          5                 12   \n",
       "2   1454967    39980             4          5                 19   \n",
       "3   1768857    82516            56          0                 20   \n",
       "4   3007858   196724             2          4                 12   \n",
       "\n",
       "   days_since_prior_order  \n",
       "0                    30.0  \n",
       "1                     9.0  \n",
       "2                     2.0  \n",
       "3                    10.0  \n",
       "4                    17.0  "
      ]
     },
     "metadata": {},
     "output_type": "display_data"
    },
    {
     "name": "stdout",
     "output_type": "stream",
     "text": [
      "<class 'pandas.core.frame.DataFrame'>\n",
      "RangeIndex: 478967 entries, 0 to 478966\n",
      "Data columns (total 6 columns):\n",
      " #   Column                  Non-Null Count   Dtype  \n",
      "---  ------                  --------------   -----  \n",
      " 0   order_id                478967 non-null  int64  \n",
      " 1   user_id                 478967 non-null  int64  \n",
      " 2   order_number            478967 non-null  int64  \n",
      " 3   order_dow               478967 non-null  int64  \n",
      " 4   order_hour_of_day       478967 non-null  int64  \n",
      " 5   days_since_prior_order  450148 non-null  float64\n",
      "dtypes: float64(1), int64(5)\n",
      "memory usage: 21.9 MB\n"
     ]
    }
   ],
   "source": [
    "print(\"Primeras 5 filas de df_ordenes_ic e info\\n\")\n",
    "display(df_ordenes_ic.head())\n",
    "df_ordenes_ic.info()"
   ]
  },
  {
   "cell_type": "code",
   "execution_count": 4,
   "id": "5130e05e",
   "metadata": {
    "id": "5130e05e",
    "trusted": false
   },
   "outputs": [
    {
     "name": "stdout",
     "output_type": "stream",
     "text": [
      "Primeras 5 filas de df_productos e info\n",
      "\n"
     ]
    },
    {
     "data": {
      "text/html": [
       "<div>\n",
       "<style scoped>\n",
       "    .dataframe tbody tr th:only-of-type {\n",
       "        vertical-align: middle;\n",
       "    }\n",
       "\n",
       "    .dataframe tbody tr th {\n",
       "        vertical-align: top;\n",
       "    }\n",
       "\n",
       "    .dataframe thead th {\n",
       "        text-align: right;\n",
       "    }\n",
       "</style>\n",
       "<table border=\"1\" class=\"dataframe\">\n",
       "  <thead>\n",
       "    <tr style=\"text-align: right;\">\n",
       "      <th></th>\n",
       "      <th>product_id</th>\n",
       "      <th>product_name</th>\n",
       "      <th>aisle_id</th>\n",
       "      <th>department_id</th>\n",
       "    </tr>\n",
       "  </thead>\n",
       "  <tbody>\n",
       "    <tr>\n",
       "      <th>0</th>\n",
       "      <td>1</td>\n",
       "      <td>Chocolate Sandwich Cookies</td>\n",
       "      <td>61</td>\n",
       "      <td>19</td>\n",
       "    </tr>\n",
       "    <tr>\n",
       "      <th>1</th>\n",
       "      <td>2</td>\n",
       "      <td>All-Seasons Salt</td>\n",
       "      <td>104</td>\n",
       "      <td>13</td>\n",
       "    </tr>\n",
       "    <tr>\n",
       "      <th>2</th>\n",
       "      <td>3</td>\n",
       "      <td>Robust Golden Unsweetened Oolong Tea</td>\n",
       "      <td>94</td>\n",
       "      <td>7</td>\n",
       "    </tr>\n",
       "    <tr>\n",
       "      <th>3</th>\n",
       "      <td>4</td>\n",
       "      <td>Smart Ones Classic Favorites Mini Rigatoni Wit...</td>\n",
       "      <td>38</td>\n",
       "      <td>1</td>\n",
       "    </tr>\n",
       "    <tr>\n",
       "      <th>4</th>\n",
       "      <td>5</td>\n",
       "      <td>Green Chile Anytime Sauce</td>\n",
       "      <td>5</td>\n",
       "      <td>13</td>\n",
       "    </tr>\n",
       "  </tbody>\n",
       "</table>\n",
       "</div>"
      ],
      "text/plain": [
       "   product_id                                       product_name  aisle_id  \\\n",
       "0           1                         Chocolate Sandwich Cookies        61   \n",
       "1           2                                   All-Seasons Salt       104   \n",
       "2           3               Robust Golden Unsweetened Oolong Tea        94   \n",
       "3           4  Smart Ones Classic Favorites Mini Rigatoni Wit...        38   \n",
       "4           5                          Green Chile Anytime Sauce         5   \n",
       "\n",
       "   department_id  \n",
       "0             19  \n",
       "1             13  \n",
       "2              7  \n",
       "3              1  \n",
       "4             13  "
      ]
     },
     "metadata": {},
     "output_type": "display_data"
    },
    {
     "name": "stdout",
     "output_type": "stream",
     "text": [
      "<class 'pandas.core.frame.DataFrame'>\n",
      "RangeIndex: 49694 entries, 0 to 49693\n",
      "Data columns (total 4 columns):\n",
      " #   Column         Non-Null Count  Dtype \n",
      "---  ------         --------------  ----- \n",
      " 0   product_id     49694 non-null  int64 \n",
      " 1   product_name   48436 non-null  object\n",
      " 2   aisle_id       49694 non-null  int64 \n",
      " 3   department_id  49694 non-null  int64 \n",
      "dtypes: int64(3), object(1)\n",
      "memory usage: 1.5+ MB\n"
     ]
    }
   ],
   "source": [
    "print(\"Primeras 5 filas de df_productos e info\\n\")\n",
    "display(df_productos.head())\n",
    "df_productos.info()"
   ]
  },
  {
   "cell_type": "code",
   "execution_count": 5,
   "id": "d8370c05",
   "metadata": {
    "id": "d8370c05",
    "trusted": false
   },
   "outputs": [
    {
     "name": "stdout",
     "output_type": "stream",
     "text": [
      "Primeras 5 filas de df_ordenes e info\n",
      "\n"
     ]
    },
    {
     "data": {
      "text/html": [
       "<div>\n",
       "<style scoped>\n",
       "    .dataframe tbody tr th:only-of-type {\n",
       "        vertical-align: middle;\n",
       "    }\n",
       "\n",
       "    .dataframe tbody tr th {\n",
       "        vertical-align: top;\n",
       "    }\n",
       "\n",
       "    .dataframe thead th {\n",
       "        text-align: right;\n",
       "    }\n",
       "</style>\n",
       "<table border=\"1\" class=\"dataframe\">\n",
       "  <thead>\n",
       "    <tr style=\"text-align: right;\">\n",
       "      <th></th>\n",
       "      <th>order_id</th>\n",
       "      <th>product_id</th>\n",
       "      <th>add_to_cart_order</th>\n",
       "      <th>reordered</th>\n",
       "    </tr>\n",
       "  </thead>\n",
       "  <tbody>\n",
       "    <tr>\n",
       "      <th>0</th>\n",
       "      <td>2141543</td>\n",
       "      <td>11440</td>\n",
       "      <td>17.0</td>\n",
       "      <td>0</td>\n",
       "    </tr>\n",
       "    <tr>\n",
       "      <th>1</th>\n",
       "      <td>567889</td>\n",
       "      <td>1560</td>\n",
       "      <td>1.0</td>\n",
       "      <td>1</td>\n",
       "    </tr>\n",
       "    <tr>\n",
       "      <th>2</th>\n",
       "      <td>2261212</td>\n",
       "      <td>26683</td>\n",
       "      <td>1.0</td>\n",
       "      <td>1</td>\n",
       "    </tr>\n",
       "    <tr>\n",
       "      <th>3</th>\n",
       "      <td>491251</td>\n",
       "      <td>8670</td>\n",
       "      <td>35.0</td>\n",
       "      <td>1</td>\n",
       "    </tr>\n",
       "    <tr>\n",
       "      <th>4</th>\n",
       "      <td>2571142</td>\n",
       "      <td>1940</td>\n",
       "      <td>5.0</td>\n",
       "      <td>1</td>\n",
       "    </tr>\n",
       "  </tbody>\n",
       "</table>\n",
       "</div>"
      ],
      "text/plain": [
       "   order_id  product_id  add_to_cart_order  reordered\n",
       "0   2141543       11440               17.0          0\n",
       "1    567889        1560                1.0          1\n",
       "2   2261212       26683                1.0          1\n",
       "3    491251        8670               35.0          1\n",
       "4   2571142        1940                5.0          1"
      ]
     },
     "metadata": {},
     "output_type": "display_data"
    },
    {
     "name": "stdout",
     "output_type": "stream",
     "text": [
      "<class 'pandas.core.frame.DataFrame'>\n",
      "RangeIndex: 4545007 entries, 0 to 4545006\n",
      "Data columns (total 4 columns):\n",
      " #   Column             Non-Null Count    Dtype  \n",
      "---  ------             --------------    -----  \n",
      " 0   order_id           4545007 non-null  int64  \n",
      " 1   product_id         4545007 non-null  int64  \n",
      " 2   add_to_cart_order  4544171 non-null  float64\n",
      " 3   reordered          4545007 non-null  int64  \n",
      "dtypes: float64(1), int64(3)\n",
      "memory usage: 138.7 MB\n"
     ]
    }
   ],
   "source": [
    "print(\"Primeras 5 filas de df_ordenes e info\\n\")\n",
    "display(df_ordenes.head())\n",
    "df_ordenes.info(show_counts=True)"
   ]
  },
  {
   "cell_type": "code",
   "execution_count": 6,
   "id": "59e2090f",
   "metadata": {
    "id": "59e2090f",
    "trusted": false
   },
   "outputs": [
    {
     "name": "stdout",
     "output_type": "stream",
     "text": [
      "Primeras 5 filas de df_pasillos e info\n",
      "\n"
     ]
    },
    {
     "data": {
      "text/html": [
       "<div>\n",
       "<style scoped>\n",
       "    .dataframe tbody tr th:only-of-type {\n",
       "        vertical-align: middle;\n",
       "    }\n",
       "\n",
       "    .dataframe tbody tr th {\n",
       "        vertical-align: top;\n",
       "    }\n",
       "\n",
       "    .dataframe thead th {\n",
       "        text-align: right;\n",
       "    }\n",
       "</style>\n",
       "<table border=\"1\" class=\"dataframe\">\n",
       "  <thead>\n",
       "    <tr style=\"text-align: right;\">\n",
       "      <th></th>\n",
       "      <th>aisle_id</th>\n",
       "      <th>aisle</th>\n",
       "    </tr>\n",
       "  </thead>\n",
       "  <tbody>\n",
       "    <tr>\n",
       "      <th>0</th>\n",
       "      <td>1</td>\n",
       "      <td>prepared soups salads</td>\n",
       "    </tr>\n",
       "    <tr>\n",
       "      <th>1</th>\n",
       "      <td>2</td>\n",
       "      <td>specialty cheeses</td>\n",
       "    </tr>\n",
       "    <tr>\n",
       "      <th>2</th>\n",
       "      <td>3</td>\n",
       "      <td>energy granola bars</td>\n",
       "    </tr>\n",
       "    <tr>\n",
       "      <th>3</th>\n",
       "      <td>4</td>\n",
       "      <td>instant foods</td>\n",
       "    </tr>\n",
       "    <tr>\n",
       "      <th>4</th>\n",
       "      <td>5</td>\n",
       "      <td>marinades meat preparation</td>\n",
       "    </tr>\n",
       "  </tbody>\n",
       "</table>\n",
       "</div>"
      ],
      "text/plain": [
       "   aisle_id                       aisle\n",
       "0         1       prepared soups salads\n",
       "1         2           specialty cheeses\n",
       "2         3         energy granola bars\n",
       "3         4               instant foods\n",
       "4         5  marinades meat preparation"
      ]
     },
     "metadata": {},
     "output_type": "display_data"
    },
    {
     "name": "stdout",
     "output_type": "stream",
     "text": [
      "<class 'pandas.core.frame.DataFrame'>\n",
      "RangeIndex: 134 entries, 0 to 133\n",
      "Data columns (total 2 columns):\n",
      " #   Column    Non-Null Count  Dtype \n",
      "---  ------    --------------  ----- \n",
      " 0   aisle_id  134 non-null    int64 \n",
      " 1   aisle     134 non-null    object\n",
      "dtypes: int64(1), object(1)\n",
      "memory usage: 2.2+ KB\n"
     ]
    }
   ],
   "source": [
    "print(\"Primeras 5 filas de df_pasillos e info\\n\")\n",
    "display(df_pasillos.head())\n",
    "df_pasillos.info()"
   ]
  },
  {
   "cell_type": "code",
   "execution_count": 7,
   "id": "6fc81694",
   "metadata": {
    "id": "6fc81694",
    "trusted": false
   },
   "outputs": [
    {
     "name": "stdout",
     "output_type": "stream",
     "text": [
      "Primeras 5 filas de df_dpto e info\n",
      "\n"
     ]
    },
    {
     "data": {
      "text/html": [
       "<div>\n",
       "<style scoped>\n",
       "    .dataframe tbody tr th:only-of-type {\n",
       "        vertical-align: middle;\n",
       "    }\n",
       "\n",
       "    .dataframe tbody tr th {\n",
       "        vertical-align: top;\n",
       "    }\n",
       "\n",
       "    .dataframe thead th {\n",
       "        text-align: right;\n",
       "    }\n",
       "</style>\n",
       "<table border=\"1\" class=\"dataframe\">\n",
       "  <thead>\n",
       "    <tr style=\"text-align: right;\">\n",
       "      <th></th>\n",
       "      <th>department_id</th>\n",
       "      <th>department</th>\n",
       "    </tr>\n",
       "  </thead>\n",
       "  <tbody>\n",
       "    <tr>\n",
       "      <th>0</th>\n",
       "      <td>1</td>\n",
       "      <td>frozen</td>\n",
       "    </tr>\n",
       "    <tr>\n",
       "      <th>1</th>\n",
       "      <td>2</td>\n",
       "      <td>other</td>\n",
       "    </tr>\n",
       "    <tr>\n",
       "      <th>2</th>\n",
       "      <td>3</td>\n",
       "      <td>bakery</td>\n",
       "    </tr>\n",
       "    <tr>\n",
       "      <th>3</th>\n",
       "      <td>4</td>\n",
       "      <td>produce</td>\n",
       "    </tr>\n",
       "    <tr>\n",
       "      <th>4</th>\n",
       "      <td>5</td>\n",
       "      <td>alcohol</td>\n",
       "    </tr>\n",
       "  </tbody>\n",
       "</table>\n",
       "</div>"
      ],
      "text/plain": [
       "   department_id department\n",
       "0              1     frozen\n",
       "1              2      other\n",
       "2              3     bakery\n",
       "3              4    produce\n",
       "4              5    alcohol"
      ]
     },
     "metadata": {},
     "output_type": "display_data"
    },
    {
     "name": "stdout",
     "output_type": "stream",
     "text": [
      "<class 'pandas.core.frame.DataFrame'>\n",
      "RangeIndex: 21 entries, 0 to 20\n",
      "Data columns (total 2 columns):\n",
      " #   Column         Non-Null Count  Dtype \n",
      "---  ------         --------------  ----- \n",
      " 0   department_id  21 non-null     int64 \n",
      " 1   department     21 non-null     object\n",
      "dtypes: int64(1), object(1)\n",
      "memory usage: 464.0+ bytes\n"
     ]
    }
   ],
   "source": [
    "print(\"Primeras 5 filas de df_dpto e info\\n\")\n",
    "display(df_dpto.head())\n",
    "df_dpto.info()"
   ]
  },
  {
   "cell_type": "markdown",
   "id": "t75BD19oaR5f",
   "metadata": {
    "id": "t75BD19oaR5f"
   },
   "source": [
    "## Conclusiones\n",
    "\n",
    "- Del archivo instacart_orders.csv, noto los siguientes detalles:\n",
    "    1. Tanto el día de la semana como la hora en la que se hizo el pedido está como un número entero, creo sería más fácil o entendible si se simplifica a una sola columna y se usara un formato datetime.\n",
    "    2. la columna de días transcurridos es de tipo flotante, tal vez sería mejor tenerla como entero. También se tienen valores ausentes en dicha columna.\n",
    "\n",
    "\n",
    "- Del archivo products.csv, noto los siguientes detalles:\n",
    "    1. Hay valores ausentes en la columna de product_name.\n",
    "    2. Tanto en la columna aisle_id como department_id se tienen valores enteros, creo que lo mejor sería utilizar los otros archivos csv para obtener los nombres descriptivos de los pasillos y sustituirlos en éste DF para una mayor claridad de la información y no tener que estar yendo a otros DF para saber que significa cada número.\n",
    "    3. La columna product_name tiene strings con mayúsculas y minúsculas haciendo que haya posibles datos duplicados. \n",
    "\n",
    "- Del archivo order_products.csv noto los siguientes detalles:\n",
    "    1. Hay valores ausentes en cuanto al orden en el que se agrego algún producto, posteriormente veré que tanto impactan éstos valores, ya que son muy pocos y podrían ser eliminados.\n",
    "\n",
    "- Tanto del archivo aisles.csv y departments.csv, se usan más como un diccionario o para saber exactamente a que se refieren sus id en los otros archivos, como manera de simplificar la información y no saturae con texto los otros archivos. \n",
    "\n",
    "Como pregunta para mi examinador me gustaría saber ¿de que manera es mejor proceder en cuanto a renombrar los primeros DF?, por ejemplo en el segundo DF donde se tiene la columna deparment_id que tan correcto o conveniente es cambiarla para que en lugar de un número pueda ver el string con el nombre del departamento? \n",
    "\n",
    "Como yo no sé o no he leído que se me va a pedir más adelante, para mi sería mejor cambiarlos y trabajar con menos DFs aunque haya columnas con textos largos.\n",
    "\n",
    "También, otra duda que tengo es ¿si conviene tratar de juntar los 5 DFs en uno solo y borrar las columnas que no sean relevantes? Para evitar trabajar con tantos DFs al mismmo tiempo."
   ]
  },
  {
   "cell_type": "markdown",
   "id": "8RJHqxVmaVsF",
   "metadata": {
    "id": "8RJHqxVmaVsF"
   },
   "source": [
    "# Paso 2. Preprocesamiento de los datos\n",
    "\n",
    "Preprocesa los datos de la siguiente manera:\n",
    "\n",
    "- Verifica y corrige los tipos de datos (por ejemplo, asegúrate de que las columnas de ID sean números enteros).\n",
    "- Identifica y completa los valores ausentes.\n",
    "- Identifica y elimina los valores duplicados.\n",
    "\n",
    "Asegúrate de explicar qué tipos de valores ausentes y duplicados encontraste, cómo los completaste o eliminaste y por qué usaste esos métodos. ¿Por qué crees que estos valores ausentes y duplicados pueden haber estado presentes en el conjunto de datos?"
   ]
  },
  {
   "cell_type": "markdown",
   "id": "p6poABZQaZYb",
   "metadata": {
    "id": "p6poABZQaZYb"
   },
   "source": [
    "## Plan de solución\n",
    "\n"
   ]
  },
  {
   "cell_type": "markdown",
   "id": "c9f5df0c",
   "metadata": {},
   "source": [
    "Voy a aplicar métodos como isna(), fillna(), unique(), duplicated() para encontrar los datos tanto ausentes como duplicados y evaluar con que valores sustituir los ausentes. \n",
    "\n",
    "Si bien de momento hay datos ausentes en los archivos products.csv y order_products.csv, la cantidad de datos ausentes es muy baja (1258 en el primero y 836 en el segundo), yo pienso que se pueden eliminar ya que representan un porcentaje muy bajo del total de cada una de sus respectivas columnas. \n",
    "\n",
    "Si bien de momento no he buscado datos duplicados, una vez que los encuentre y vea cuales sean los valores duplicados ya decidiré que hacer con ellos. \n",
    "\n",
    "Desconozco cual pueda ser el motivo de tener valores ausentes o duplicados, tal vez algún error con la aplicacion, que las bases de datos no tienen la información completa o haya productos que ya no existen, se descontinuaron o son nuevos y no se ha actualizado la base de datos. "
   ]
  },
  {
   "cell_type": "markdown",
   "id": "07357848-dc64-4156-9cc3-01ff4365226d",
   "metadata": {
    "id": "07357848-dc64-4156-9cc3-01ff4365226d"
   },
   "source": [
    "## Encuentra y elimina los valores duplicados (y describe cómo tomaste tus decisiones)."
   ]
  },
  {
   "cell_type": "markdown",
   "id": "f179f0a9",
   "metadata": {
    "id": "f179f0a9"
   },
   "source": [
    "### `orders` data frame"
   ]
  },
  {
   "cell_type": "code",
   "execution_count": 8,
   "id": "b99297a5-405a-463d-8535-9adc3da4ad74",
   "metadata": {
    "id": "b99297a5-405a-463d-8535-9adc3da4ad74",
    "trusted": false
   },
   "outputs": [
    {
     "name": "stdout",
     "output_type": "stream",
     "text": [
      "        order_id  user_id  order_number  order_dow  order_hour_of_day  \\\n",
      "145574    794638    50898            24          3                  2   \n",
      "223105   2160484   107525            16          3                  2   \n",
      "230807   1918001   188546            14          3                  2   \n",
      "266232   1782114   106752             1          3                  2   \n",
      "273805   1112182   202304            84          3                  2   \n",
      "284038   2845099    31189            11          3                  2   \n",
      "311713   1021560    53767             3          3                  2   \n",
      "321100    408114    68324             4          3                  2   \n",
      "323900   1919531   191501            32          3                  2   \n",
      "345917   2232988    82565             1          3                  2   \n",
      "371905    391768    57671            19          3                  2   \n",
      "394347    467134    63189            21          3                  2   \n",
      "411408   1286742   183220            48          3                  2   \n",
      "415163   2282673    86751            49          3                  2   \n",
      "441599   2125197    14050            48          3                  2   \n",
      "\n",
      "        days_since_prior_order  \n",
      "145574                     2.0  \n",
      "223105                    30.0  \n",
      "230807                    16.0  \n",
      "266232                     NaN  \n",
      "273805                     6.0  \n",
      "284038                     7.0  \n",
      "311713                     9.0  \n",
      "321100                    18.0  \n",
      "323900                     7.0  \n",
      "345917                     NaN  \n",
      "371905                    10.0  \n",
      "394347                     2.0  \n",
      "411408                     4.0  \n",
      "415163                     2.0  \n",
      "441599                     3.0  \n"
     ]
    }
   ],
   "source": [
    "# Para encontrar los datos duplicados voy a utilizar el método duplicated() y voy a mantener todas las columnas.\n",
    "print(df_ordenes_ic[df_ordenes_ic.duplicated()])"
   ]
  },
  {
   "cell_type": "markdown",
   "id": "PEkwUX_gvt5A",
   "metadata": {
    "id": "PEkwUX_gvt5A"
   },
   "source": [
    "¿Tienes líneas duplicadas? Si sí, ¿qué tienen en común?\n",
    "\n",
    "**Todos los pedidos duplicados tienen en común el día 3 (miércoles) y la hora de las 2 a.m.**"
   ]
  },
  {
   "cell_type": "code",
   "execution_count": 9,
   "id": "0d44de5d",
   "metadata": {
    "id": "0d44de5d",
    "trusted": false
   },
   "outputs": [
    {
     "name": "stdout",
     "output_type": "stream",
     "text": [
      "        order_id  user_id  order_number  order_dow  order_hour_of_day  \\\n",
      "4838     2766110   162084            41          3                  2   \n",
      "5156     2190225   138285            18          3                  2   \n",
      "15506     553049    58599            13          3                  2   \n",
      "18420     382357   120200            19          3                  2   \n",
      "24691     690242    77357             2          3                  2   \n",
      "...          ...      ...           ...        ...                ...   \n",
      "457013   3384021    14881             6          3                  2   \n",
      "458816    910166   164782            18          3                  2   \n",
      "459635   1680532   106435             6          3                  2   \n",
      "468324    222962    54979            59          3                  2   \n",
      "477526   2592344    46860            38          3                  2   \n",
      "\n",
      "        days_since_prior_order  \n",
      "4838                      16.0  \n",
      "5156                      11.0  \n",
      "15506                      7.0  \n",
      "18420                     11.0  \n",
      "24691                      9.0  \n",
      "...                        ...  \n",
      "457013                    30.0  \n",
      "458816                     4.0  \n",
      "459635                    21.0  \n",
      "468324                     3.0  \n",
      "477526                     3.0  \n",
      "\n",
      "[121 rows x 6 columns]\n"
     ]
    }
   ],
   "source": [
    "# Basándote en tus hallazgos,\n",
    "# Verifica todos los pedidos que se hicieron el miércoles a las 2:00 a.m.\n",
    "\n",
    "pedidos_mie_2am = df_ordenes_ic[df_ordenes_ic[\"order_dow\"] == 3]\n",
    "pedidos_mie_2am = pedidos_mie_2am[pedidos_mie_2am[\"order_hour_of_day\"] == 2]\n",
    "print(pedidos_mie_2am)"
   ]
  },
  {
   "cell_type": "markdown",
   "id": "vu2OWyoqwOx5",
   "metadata": {
    "id": "vu2OWyoqwOx5"
   },
   "source": [
    "¿Qué sugiere este resultado? \n",
    "\n",
    "**Honestamente no sé que pueda significar, tal vez algún problema con la aplicación en esa hora...**"
   ]
  },
  {
   "cell_type": "code",
   "execution_count": 10,
   "id": "480563c7",
   "metadata": {
    "id": "480563c7",
    "trusted": false
   },
   "outputs": [
    {
     "name": "stdout",
     "output_type": "stream",
     "text": [
      "0\n"
     ]
    }
   ],
   "source": [
    "# Elimina los pedidos duplicados\n",
    "df_ordenes_ic.drop_duplicates(inplace=True)\n",
    "df_ordenes_ic.reset_index(drop=True)\n",
    "print(df_ordenes_ic.duplicated().sum())"
   ]
  },
  {
   "cell_type": "code",
   "execution_count": 11,
   "id": "0b2396a2",
   "metadata": {
    "id": "0b2396a2",
    "trusted": false
   },
   "outputs": [
    {
     "name": "stdout",
     "output_type": "stream",
     "text": [
      "Empty DataFrame\n",
      "Columns: [order_id, user_id, order_number, order_dow, order_hour_of_day, days_since_prior_order]\n",
      "Index: []\n"
     ]
    }
   ],
   "source": [
    "# Vuelve a verificar si hay filas duplicadas\n",
    "print(df_ordenes_ic[df_ordenes_ic.duplicated()])"
   ]
  },
  {
   "cell_type": "code",
   "execution_count": 12,
   "id": "f6113ef1",
   "metadata": {
    "id": "f6113ef1",
    "trusted": false
   },
   "outputs": [
    {
     "name": "stdout",
     "output_type": "stream",
     "text": [
      "0\n"
     ]
    }
   ],
   "source": [
    "# Vuelve a verificar únicamente si hay IDs duplicados de pedidos\n",
    "dup_order_id = df_ordenes_ic[\"order_id\"].duplicated().sum()\n",
    "print(dup_order_id)"
   ]
  },
  {
   "cell_type": "markdown",
   "id": "5e8905ae",
   "metadata": {
    "id": "5e8905ae"
   },
   "source": [
    "Describe brevemente tus hallazgos y lo que hiciste con ellos.\n",
    "\n",
    "**Al tener lineas completamente iguales procedí a eliminarlas e hice un reset al índice del dataframe original.**"
   ]
  },
  {
   "cell_type": "markdown",
   "id": "45e6bc46",
   "metadata": {
    "id": "45e6bc46"
   },
   "source": [
    "### `products` data frame"
   ]
  },
  {
   "cell_type": "code",
   "execution_count": 13,
   "id": "5f526b5b-8175-46fa-a0fd-441767d50e64",
   "metadata": {
    "id": "5f526b5b-8175-46fa-a0fd-441767d50e64",
    "trusted": false
   },
   "outputs": [
    {
     "name": "stdout",
     "output_type": "stream",
     "text": [
      "Empty DataFrame\n",
      "Columns: [product_id, product_name, aisle_id, department_id]\n",
      "Index: []\n"
     ]
    }
   ],
   "source": [
    "# Verifica si hay filas totalmente duplicadas\n",
    "print(df_productos[df_productos.duplicated()])"
   ]
  },
  {
   "cell_type": "code",
   "execution_count": 14,
   "id": "88daa4f4",
   "metadata": {
    "id": "88daa4f4",
    "trusted": false
   },
   "outputs": [
    {
     "name": "stdout",
     "output_type": "stream",
     "text": [
      "49673\n"
     ]
    }
   ],
   "source": [
    "# Revisa únicamente si hay ID de departamentos duplicados\n",
    "print(df_productos[\"department_id\"].duplicated().sum())"
   ]
  },
  {
   "cell_type": "code",
   "execution_count": 15,
   "id": "c773f0bf",
   "metadata": {
    "id": "c773f0bf",
    "trusted": false
   },
   "outputs": [
    {
     "name": "stdout",
     "output_type": "stream",
     "text": [
      "1361\n"
     ]
    }
   ],
   "source": [
    "# Revisa únicamente si hay nombres duplicados de productos (convierte los nombres a letras mayúsculas para compararlos mejor)\n",
    "df_productos[\"product_name\"] = df_productos[\"product_name\"].str.lower()\n",
    "print(df_productos[\"product_name\"].duplicated().sum())"
   ]
  },
  {
   "cell_type": "code",
   "execution_count": 16,
   "id": "01efd02e",
   "metadata": {
    "id": "01efd02e",
    "trusted": false
   },
   "outputs": [
    {
     "name": "stdout",
     "output_type": "stream",
     "text": [
      "       product_id                                     product_name  aisle_id  \\\n",
      "71             72                                              NaN       100   \n",
      "109           110                                              NaN       100   \n",
      "296           297                                              NaN       100   \n",
      "416           417                                              NaN       100   \n",
      "436           437                                              NaN       100   \n",
      "...           ...                                              ...       ...   \n",
      "49689       49690                    high performance energy drink        64   \n",
      "49690       49691                    original pancake & waffle mix       130   \n",
      "49691       49692  organic instant oatmeal light maple brown sugar       130   \n",
      "49692       49693                           spring water body wash       127   \n",
      "49693       49694                          burrito- steak & cheese        38   \n",
      "\n",
      "       department_id  \n",
      "71                21  \n",
      "109               21  \n",
      "296               21  \n",
      "416               21  \n",
      "436               21  \n",
      "...              ...  \n",
      "49689              7  \n",
      "49690             14  \n",
      "49691             14  \n",
      "49692             11  \n",
      "49693              1  \n",
      "\n",
      "[1361 rows x 4 columns]\n"
     ]
    }
   ],
   "source": [
    "# Revisa si hay nombres duplicados de productos no faltantes\n",
    "print(df_productos[df_productos[\"product_name\"].duplicated()])"
   ]
  },
  {
   "cell_type": "markdown",
   "id": "9da8d293",
   "metadata": {
    "id": "9da8d293"
   },
   "source": [
    "Describe brevemente tus hallazgos y lo que hiciste con ellos. \n",
    "\n",
    "**Los únicos datos duplicados que encontré en el DF de la columna product_name son los datos ausentes que se habían detectado desde el inicio.**"
   ]
  },
  {
   "cell_type": "markdown",
   "id": "60f30db1",
   "metadata": {
    "id": "60f30db1"
   },
   "source": [
    "### `departments` data frame"
   ]
  },
  {
   "cell_type": "code",
   "execution_count": 17,
   "id": "fb410ad4-0fbf-4b80-bb09-23fdea79afe3",
   "metadata": {
    "id": "fb410ad4-0fbf-4b80-bb09-23fdea79afe3",
    "trusted": false
   },
   "outputs": [
    {
     "name": "stdout",
     "output_type": "stream",
     "text": [
      "0\n"
     ]
    }
   ],
   "source": [
    "# Revisa si hay filas totalmente duplicadas\n",
    "print(df_ordenes.duplicated().sum())"
   ]
  },
  {
   "cell_type": "code",
   "execution_count": 18,
   "id": "332b12bb",
   "metadata": {
    "id": "332b12bb",
    "trusted": false
   },
   "outputs": [
    {
     "name": "stdout",
     "output_type": "stream",
     "text": [
      "4499434\n"
     ]
    }
   ],
   "source": [
    "# Revisa únicamente si hay IDs duplicadas de productos\n",
    "print(df_ordenes[\"product_id\"].duplicated().sum())"
   ]
  },
  {
   "cell_type": "markdown",
   "id": "bd30d78e",
   "metadata": {
    "id": "bd30d78e"
   },
   "source": [
    "Describe brevemente tus hallazgos y lo que hiciste con ellos. \n",
    "\n",
    "**No hay líneas completamente duplicadas por lo cual no hay nada que hacer en este DF.**"
   ]
  },
  {
   "cell_type": "markdown",
   "id": "889349c1",
   "metadata": {
    "id": "889349c1"
   },
   "source": [
    "### `aisles` data frame"
   ]
  },
  {
   "cell_type": "code",
   "execution_count": 19,
   "id": "9da89fb9-4679-40f5-ad0d-c34df753a3f8",
   "metadata": {
    "id": "9da89fb9-4679-40f5-ad0d-c34df753a3f8",
    "trusted": false
   },
   "outputs": [
    {
     "name": "stdout",
     "output_type": "stream",
     "text": [
      "0\n"
     ]
    }
   ],
   "source": [
    "# Revisa si hay filas totalmente duplicadas\n",
    "print(df_pasillos.duplicated().sum())"
   ]
  },
  {
   "cell_type": "code",
   "execution_count": 20,
   "id": "da7c2822",
   "metadata": {
    "id": "da7c2822",
    "trusted": false
   },
   "outputs": [
    {
     "name": "stdout",
     "output_type": "stream",
     "text": [
      "Valores duplicados en la columna aisle_id\n",
      "0\n",
      "Valores duplicados en la columna aisle\n",
      "0\n"
     ]
    }
   ],
   "source": [
    "# Revisa únicamente si hay IDs duplicadas de pasillos\n",
    "df_pasillos[\"aisle\"] = df_pasillos[\"aisle\"].str.lower() # Este método solo lo utilice para comprobar que no hay nombres dupplicados\n",
    "print(\"Valores duplicados en la columna aisle_id\")\n",
    "print(df_pasillos[\"aisle_id\"].duplicated().sum())\n",
    "print(\"Valores duplicados en la columna aisle\")\n",
    "print(df_pasillos[\"aisle\"].duplicated().sum())"
   ]
  },
  {
   "cell_type": "markdown",
   "id": "ac63826f",
   "metadata": {
    "id": "ac63826f"
   },
   "source": [
    "Describe brevemente tus hallazgos y lo que hiciste con ellos.\n",
    "\n",
    "**No hay ningún valor duplicado en este DF.**"
   ]
  },
  {
   "cell_type": "markdown",
   "id": "274cd06a",
   "metadata": {
    "id": "274cd06a"
   },
   "source": [
    "### `order_products` data frame"
   ]
  },
  {
   "cell_type": "code",
   "execution_count": 21,
   "id": "52326689-84a8-4b8f-a881-7c68780f62c9",
   "metadata": {
    "id": "52326689-84a8-4b8f-a881-7c68780f62c9",
    "trusted": false
   },
   "outputs": [
    {
     "name": "stdout",
     "output_type": "stream",
     "text": [
      "0\n"
     ]
    }
   ],
   "source": [
    "# Revisa si hay filas totalmente duplicadas\n",
    "print(df_dpto.duplicated().sum())"
   ]
  },
  {
   "cell_type": "code",
   "execution_count": 22,
   "id": "7b861391",
   "metadata": {
    "id": "7b861391",
    "trusted": false
   },
   "outputs": [
    {
     "name": "stdout",
     "output_type": "stream",
     "text": [
      "Valores duplicados en la columna department_id\n",
      "0\n",
      "Valores duplicados en la columna department\n",
      "0\n"
     ]
    }
   ],
   "source": [
    "# Vuelve a verificar si hay cualquier otro duplicado engañoso\n",
    "df_dpto[\"department\"] = df_dpto[\"department\"].str.lower() # Este método solo lo utilice para comprobar que no hay nombres dupplicados\n",
    "print(\"Valores duplicados en la columna department_id\")\n",
    "print(df_dpto[\"department_id\"].duplicated().sum())\n",
    "print(\"Valores duplicados en la columna department\")\n",
    "print(df_dpto[\"department\"].duplicated().sum())"
   ]
  },
  {
   "cell_type": "markdown",
   "id": "0b890492",
   "metadata": {
    "id": "0b890492"
   },
   "source": [
    "Describe brevemente tus hallazgos y lo que hiciste con ellos.\n",
    "\n",
    "**No hay ningún valor duplicado en este DF.**"
   ]
  },
  {
   "cell_type": "markdown",
   "id": "1e46de76",
   "metadata": {
    "id": "1e46de76"
   },
   "source": [
    "## Encuentra y elimina los valores ausentes\n",
    "\n",
    "Al trabajar con valores duplicados, pudimos observar que también nos falta investigar valores ausentes:\n",
    "\n",
    "* La columna `'product_name'` de la tabla products.\n",
    "* La columna `'days_since_prior_order'` de la tabla orders.\n",
    "* La columna `'add_to_cart_order'` de la tabla order_productos."
   ]
  },
  {
   "cell_type": "markdown",
   "id": "c0aebd78",
   "metadata": {
    "id": "c0aebd78"
   },
   "source": [
    "### `products` data frame"
   ]
  },
  {
   "cell_type": "code",
   "execution_count": 23,
   "id": "fe4a8b0f",
   "metadata": {
    "id": "fe4a8b0f",
    "trusted": false
   },
   "outputs": [
    {
     "name": "stdout",
     "output_type": "stream",
     "text": [
      "       product_id product_name  aisle_id  department_id\n",
      "37             38          NaN       100             21\n",
      "71             72          NaN       100             21\n",
      "109           110          NaN       100             21\n",
      "296           297          NaN       100             21\n",
      "416           417          NaN       100             21\n",
      "...           ...          ...       ...            ...\n",
      "49552       49553          NaN       100             21\n",
      "49574       49575          NaN       100             21\n",
      "49640       49641          NaN       100             21\n",
      "49663       49664          NaN       100             21\n",
      "49668       49669          NaN       100             21\n",
      "\n",
      "[1258 rows x 4 columns]\n"
     ]
    }
   ],
   "source": [
    "# Encuentra los valores ausentes en la columna 'product_name'\n",
    "print(df_productos[df_productos[\"product_name\"].isna()])\n",
    "df_aisle100_dpto21 = df_productos[df_productos[\"product_name\"].isna()]"
   ]
  },
  {
   "cell_type": "markdown",
   "id": "-A6x1AbJhjkp",
   "metadata": {
    "id": "-A6x1AbJhjkp"
   },
   "source": [
    "Describe brevemente cuáles son tus hallazgos.\n",
    "\n",
    "**Todos los valores ausentes del DF principal tienen en común el pasillo número 100 del departamento 21**"
   ]
  },
  {
   "cell_type": "code",
   "execution_count": 24,
   "id": "e96167bc",
   "metadata": {
    "id": "e96167bc",
    "trusted": false
   },
   "outputs": [
    {
     "name": "stdout",
     "output_type": "stream",
     "text": [
      "[100]\n"
     ]
    }
   ],
   "source": [
    "#  ¿Todos los nombres de productos ausentes están relacionados con el pasillo con ID 100?\n",
    "print(df_aisle100_dpto21[\"aisle_id\"].unique())"
   ]
  },
  {
   "cell_type": "markdown",
   "id": "WRpIfXRphpSL",
   "metadata": {
    "id": "WRpIfXRphpSL"
   },
   "source": [
    "Describe brevemente cuáles son tus hallazgos.\n",
    "\n",
    "**El mismo DF de los pasillos denomina al pasillo 100 como perdidos**"
   ]
  },
  {
   "cell_type": "code",
   "execution_count": 25,
   "id": "8fd0a541",
   "metadata": {
    "id": "8fd0a541",
    "trusted": false
   },
   "outputs": [
    {
     "name": "stdout",
     "output_type": "stream",
     "text": [
      "[21]\n"
     ]
    }
   ],
   "source": [
    "# ¿Todos los nombres de productos ausentes están relacionados con el departamento con ID 21?\n",
    "print(df_aisle100_dpto21[\"department_id\"].unique())"
   ]
  },
  {
   "cell_type": "markdown",
   "id": "qDpdYn1Fht_I",
   "metadata": {
    "id": "qDpdYn1Fht_I"
   },
   "source": [
    "Describe brevemente cuáles son tus hallazgos.\n",
    "\n",
    "**El mismo DF de los departamentos denomina al departamento 21 como perdidos**"
   ]
  },
  {
   "cell_type": "code",
   "execution_count": 26,
   "id": "325c3464",
   "metadata": {
    "id": "325c3464",
    "trusted": false
   },
   "outputs": [
    {
     "name": "stdout",
     "output_type": "stream",
     "text": [
      "    aisle_id    aisle\n",
      "99       100  missing\n",
      "\n",
      "    department_id department\n",
      "20             21    missing\n"
     ]
    }
   ],
   "source": [
    "# Usa las tablas department y aisle para revisar los datos del pasillo con ID 100 y el departamento con ID 21.\n",
    "print(df_pasillos[df_pasillos[\"aisle_id\"] == 100])\n",
    "print()\n",
    "print(df_dpto[df_dpto[\"department_id\"]==21])"
   ]
  },
  {
   "cell_type": "markdown",
   "id": "nqhSTUPhhvEJ",
   "metadata": {
    "id": "nqhSTUPhhvEJ"
   },
   "source": [
    "Describe brevemente cuáles son tus hallazgos."
   ]
  },
  {
   "cell_type": "code",
   "execution_count": 27,
   "id": "6b295120",
   "metadata": {
    "id": "6b295120",
    "trusted": false
   },
   "outputs": [
    {
     "name": "stdout",
     "output_type": "stream",
     "text": [
      "product_id       0\n",
      "product_name     0\n",
      "aisle_id         0\n",
      "department_id    0\n",
      "dtype: int64\n"
     ]
    }
   ],
   "source": [
    "# Completa los nombres de productos ausentes con 'Unknown'\n",
    "df_productos[\"product_name\"] = df_productos[\"product_name\"].fillna(\"unknown\")\n",
    "print(df_productos.isna().sum())"
   ]
  },
  {
   "cell_type": "markdown",
   "id": "fc70e5ad",
   "metadata": {
    "id": "fc70e5ad"
   },
   "source": [
    "Describe brevemente tus hallazgos y lo que hiciste con ellos."
   ]
  },
  {
   "cell_type": "markdown",
   "id": "7eb45c86",
   "metadata": {
    "id": "7eb45c86"
   },
   "source": [
    "### `orders` data frame"
   ]
  },
  {
   "cell_type": "code",
   "execution_count": 28,
   "id": "93e41d96",
   "metadata": {
    "id": "93e41d96",
    "trusted": false
   },
   "outputs": [
    {
     "name": "stdout",
     "output_type": "stream",
     "text": [
      "order_id                      0\n",
      "user_id                       0\n",
      "order_number                  0\n",
      "order_dow                     0\n",
      "order_hour_of_day             0\n",
      "days_since_prior_order    28817\n",
      "dtype: int64\n"
     ]
    }
   ],
   "source": [
    "# Encuentra los valores ausentes\n",
    "print(df_ordenes_ic.isna().sum())"
   ]
  },
  {
   "cell_type": "code",
   "execution_count": 29,
   "id": "166e5a86",
   "metadata": {
    "id": "166e5a86",
    "trusted": false
   },
   "outputs": [
    {
     "name": "stdout",
     "output_type": "stream",
     "text": [
      "        order_id  user_id  order_number  order_dow  order_hour_of_day  \\\n",
      "28        133707   182261             1          3                 10   \n",
      "96        787445    25685             1          6                 18   \n",
      "100       294410   111449             1          0                 19   \n",
      "103      2869915   123958             1          4                 16   \n",
      "104      2521921    42286             1          3                 18   \n",
      "...          ...      ...           ...        ...                ...   \n",
      "478895   2589657   205028             1          0                 16   \n",
      "478896   2222353   141211             1          2                 13   \n",
      "478922   2272807   204154             1          1                 15   \n",
      "478926   2499542    68810             1          4                 19   \n",
      "478945   1387033    22496             1          5                 14   \n",
      "\n",
      "        days_since_prior_order  \n",
      "28                         NaN  \n",
      "96                         NaN  \n",
      "100                        NaN  \n",
      "103                        NaN  \n",
      "104                        NaN  \n",
      "...                        ...  \n",
      "478895                     NaN  \n",
      "478896                     NaN  \n",
      "478922                     NaN  \n",
      "478926                     NaN  \n",
      "478945                     NaN  \n",
      "\n",
      "[28817 rows x 6 columns]\n",
      "Aquí comprobamos que solo hay valores de 1 en order_number\n",
      "[1]\n"
     ]
    }
   ],
   "source": [
    "# ¿Hay algún valor ausente que no sea el primer pedido del cliente?\n",
    "dias_ausentes_pedido1 = df_ordenes_ic[df_ordenes_ic.isna().any(axis=1)] \n",
    "\n",
    "# Aún y cuando con la línea anterior pareciera que todos los valores ausentes tienen el valor de 1 en el número de orden\n",
    "# me aseguré con la siguiente línea de código que solo sean los valores donde el número de orden sea el 1.\n",
    "\n",
    "dias_ausentes_pedido1 = dias_ausentes_pedido1[dias_ausentes_pedido1[\"order_number\"] == 1]\n",
    "print(dias_ausentes_pedido1)\n",
    "print(\"Aquí comprobamos que solo hay valores de 1 en order_number\")\n",
    "print(dias_ausentes_pedido1[\"order_number\"].unique())"
   ]
  },
  {
   "cell_type": "markdown",
   "id": "4e23d089",
   "metadata": {
    "id": "4e23d089"
   },
   "source": [
    "Describe brevemente tus hallazgos y lo que hiciste con ellos.\n",
    "\n",
    "**Arriba describí como encontré los valores ausentes (isna), que método utilicé(fillna) y que valor le asigné y el porque (median)**"
   ]
  },
  {
   "cell_type": "markdown",
   "id": "69dc9ca4",
   "metadata": {
    "id": "69dc9ca4"
   },
   "source": [
    "### `order_products` data frame"
   ]
  },
  {
   "cell_type": "code",
   "execution_count": 30,
   "id": "b8240253",
   "metadata": {
    "id": "b8240253",
    "trusted": false
   },
   "outputs": [
    {
     "name": "stdout",
     "output_type": "stream",
     "text": [
      "         order_id  product_id  add_to_cart_order  reordered\n",
      "737       2449164        5068                NaN          0\n",
      "9926      1968313       43867                NaN          0\n",
      "14394     2926893       11688                NaN          0\n",
      "16418     1717990        4142                NaN          0\n",
      "30114     1959075       42828                NaN          1\n",
      "...           ...         ...                ...        ...\n",
      "4505662   1800005        7411                NaN          0\n",
      "4511400   1633337         260                NaN          0\n",
      "4517562    404157        9517                NaN          0\n",
      "4534112   1673227       17835                NaN          0\n",
      "4535739   1832957       17949                NaN          1\n",
      "\n",
      "[836 rows x 4 columns]\n"
     ]
    }
   ],
   "source": [
    "# Encuentra los valores ausentes\n",
    "add_to_cart_nan = df_ordenes[df_ordenes.isna().any(axis=1)]\n",
    "print(add_to_cart_nan)"
   ]
  },
  {
   "cell_type": "code",
   "execution_count": 31,
   "id": "9a78e5ee",
   "metadata": {
    "id": "9a78e5ee",
    "trusted": false
   },
   "outputs": [
    {
     "name": "stdout",
     "output_type": "stream",
     "text": [
      "El valor mínimo de la columna add_to_cart_order es: 1.0\n",
      "El valor máximo de la columna add_to_cart_order es: 64.0\n"
     ]
    }
   ],
   "source": [
    "# ¿Cuáles son los valores mínimos y máximos en esta columna?\n",
    "print(f'El valor mínimo de la columna add_to_cart_order es: {df_ordenes[\"add_to_cart_order\"].min()}')\n",
    "print(f'El valor máximo de la columna add_to_cart_order es: {df_ordenes[\"add_to_cart_order\"].max()}')"
   ]
  },
  {
   "cell_type": "markdown",
   "id": "-Z2Ja215jW78",
   "metadata": {
    "id": "-Z2Ja215jW78"
   },
   "source": [
    "Describe brevemente cuáles son tus hallazgos.\n",
    "\n",
    "**El carrito con mayor cantidad de productos fue de 64 productos.**"
   ]
  },
  {
   "cell_type": "code",
   "execution_count": 32,
   "id": "ab9d0c2b",
   "metadata": {
    "id": "ab9d0c2b",
    "trusted": false
   },
   "outputs": [
    {
     "name": "stdout",
     "output_type": "stream",
     "text": [
      "    order_id  product_id  add_to_cart_order  reordered\n",
      "0       9310           1                  0          1\n",
      "1      61355          63                  0         63\n",
      "2     102236          31                  0         31\n",
      "3     129627           5                  0          5\n",
      "4     165801           6                  0          6\n",
      "..       ...         ...                ...        ...\n",
      "65   2999801           6                  0          6\n",
      "66   3125735          22                  0         22\n",
      "67   3308010          51                  0         51\n",
      "68   3347453           7                  0          7\n",
      "69   3383594           5                  0          5\n",
      "\n",
      "[70 rows x 4 columns]\n"
     ]
    }
   ],
   "source": [
    "# Guarda todas las IDs de pedidos que tengan un valor ausente en 'add_to_cart_order'\n",
    "add_to_cart_nan = add_to_cart_nan.groupby(\"order_id\").count()\n",
    "add_to_cart_nan = add_to_cart_nan.reset_index()\n",
    "print(add_to_cart_nan)"
   ]
  },
  {
   "cell_type": "code",
   "execution_count": 33,
   "id": "54c31695",
   "metadata": {
    "id": "54c31695",
    "trusted": false
   },
   "outputs": [
    {
     "name": "stdout",
     "output_type": "stream",
     "text": [
      "    order_id  add_to_cart_order\n",
      "0       9310                 64\n",
      "1      61355                 64\n",
      "2     102236                 64\n",
      "3     129627                 64\n",
      "4     165801                 64\n",
      "..       ...                ...\n",
      "65   2999801                 64\n",
      "66   3125735                 64\n",
      "67   3308010                 64\n",
      "68   3347453                 64\n",
      "69   3383594                 64\n",
      "\n",
      "[70 rows x 2 columns]\n"
     ]
    }
   ],
   "source": [
    "# ¿Todos los pedidos con valores ausentes tienen más de 64 productos? Ya que tengo agrupados los \n",
    "# id de pedidos con valores ausentes, voy a filtrar el DF principal por id de pedidos y después\n",
    "# unirlo con el ya filtrado anteriormente para obtener la columna add_to_cart_order.\n",
    "\n",
    "add_to_cart_nan = add_to_cart_nan.drop([\"product_id\",\"add_to_cart_order\",\"reordered\"],axis=1)\n",
    "df_por_pedidos = df_ordenes.groupby(\"order_id\").count()\n",
    "df_por_pedidos = df_por_pedidos.reset_index()\n",
    "df_por_pedidos = df_por_pedidos.drop([\"product_id\",\"reordered\"],axis=1)\n",
    "df_merged = add_to_cart_nan.merge(df_por_pedidos,on=\"order_id\")\n",
    "print(df_merged)"
   ]
  },
  {
   "cell_type": "markdown",
   "id": "p9V6pddtjglj",
   "metadata": {
    "id": "p9V6pddtjglj"
   },
   "source": [
    "**No estoy seguro de los últimos dos resultados de agrupar por la columan de orden y productos pero fue como lo entendí** "
   ]
  },
  {
   "cell_type": "code",
   "execution_count": 34,
   "id": "7a987d08",
   "metadata": {
    "id": "7a987d08",
    "trusted": false
   },
   "outputs": [
    {
     "name": "stdout",
     "output_type": "stream",
     "text": [
      "Información general del df:\n",
      "<class 'pandas.core.frame.DataFrame'>\n",
      "RangeIndex: 4545007 entries, 0 to 4545006\n",
      "Data columns (total 4 columns):\n",
      " #   Column             Non-Null Count    Dtype\n",
      "---  ------             --------------    -----\n",
      " 0   order_id           4545007 non-null  int64\n",
      " 1   product_id         4545007 non-null  int64\n",
      " 2   add_to_cart_order  4545007 non-null  int64\n",
      " 3   reordered          4545007 non-null  int64\n",
      "dtypes: int64(4)\n",
      "memory usage: 138.7 MB\n"
     ]
    }
   ],
   "source": [
    "# Remplaza los valores ausentes en la columna 'add_to_cart? con 999 y convierte la columna al tipo entero.\n",
    "\n",
    "df_ordenes[\"add_to_cart_order\"] = df_ordenes[\"add_to_cart_order\"].fillna(999.0)\n",
    "df_ordenes[\"add_to_cart_order\"] = df_ordenes[\"add_to_cart_order\"].astype(\"int\")\n",
    "print(\"Información general del df:\")\n",
    "df_ordenes.info(show_counts=True)"
   ]
  },
  {
   "cell_type": "markdown",
   "id": "fea4bcc7",
   "metadata": {
    "id": "fea4bcc7"
   },
   "source": [
    "**Podría el examinador explicarme porque a los valores nulos de este DF se le asigno el 999? para mi hubiera sido mejor eliminarlos ya que son muy pocos valores nulos.**"
   ]
  },
  {
   "cell_type": "markdown",
   "id": "RnplPFY1gSrb",
   "metadata": {
    "id": "RnplPFY1gSrb"
   },
   "source": [
    "## Conclusiones\n",
    "\n",
    "**Aplique distintos métodos para evaluar y revisar los valores ausentes y al final remplazarlos por el o los valores más adecuados.**\n"
   ]
  },
  {
   "cell_type": "markdown",
   "id": "UjrOIwTcz3ri",
   "metadata": {
    "id": "UjrOIwTcz3ri"
   },
   "source": [
    "# Paso 3. Análisis de los datos\n",
    "\n",
    "Una vez los datos estén procesados y listos, haz el siguiente análisis:"
   ]
  },
  {
   "cell_type": "markdown",
   "id": "turkish-kidney",
   "metadata": {
    "id": "turkish-kidney"
   },
   "source": [
    "# [A] Fácil (deben completarse todos para aprobar)\n",
    "\n",
    "1. Verifica que los valores en las columnas `'order_hour_of_day'` y `'order_dow'` en la tabla orders sean razonables (es decir, `'order_hour_of_day'` oscile entre 0 y 23 y `'order_dow'` oscile entre 0 y 6).\n",
    "2. Crea un gráfico que muestre el número de personas que hacen pedidos dependiendo de la hora del día.\n",
    "3. Crea un gráfico que muestre qué día de la semana la gente hace sus compras.\n",
    "4. Crea un gráfico que muestre el tiempo que la gente espera hasta hacer su siguiente pedido, y comenta sobre los valores mínimos y máximos."
   ]
  },
  {
   "cell_type": "markdown",
   "id": "short-capability",
   "metadata": {
    "id": "short-capability"
   },
   "source": [
    "### [A1] Verifica que los valores sean sensibles"
   ]
  },
  {
   "cell_type": "code",
   "execution_count": 35,
   "id": "growing-fruit",
   "metadata": {
    "id": "growing-fruit",
    "trusted": false
   },
   "outputs": [
    {
     "name": "stdout",
     "output_type": "stream",
     "text": [
      "Valor mínimo de la columna order_hour_of_day: 0\n",
      "Valor mínimo de la columna order_hour_of_day: 23\n",
      "Valor mínimo de la columna order_dow: 0\n",
      "Valor mínimo de la columna order_dow: 6\n"
     ]
    }
   ],
   "source": [
    "print(f'Valor mínimo de la columna order_hour_of_day: {df_ordenes_ic[\"order_hour_of_day\"].min()}')\n",
    "print(f'Valor mínimo de la columna order_hour_of_day: {df_ordenes_ic[\"order_hour_of_day\"].max()}')\n",
    "print(f'Valor mínimo de la columna order_dow: {df_ordenes_ic[\"order_dow\"].min()}')\n",
    "print(f'Valor mínimo de la columna order_dow: {df_ordenes_ic[\"order_dow\"].max()}')"
   ]
  },
  {
   "cell_type": "markdown",
   "id": "hmR2GNQ6lCsX",
   "metadata": {
    "id": "hmR2GNQ6lCsX"
   },
   "source": [
    "**Los datos están bien delimitados en cuanto al formato de 0-23 horas y 0-6 días** "
   ]
  },
  {
   "cell_type": "markdown",
   "id": "a6743a70",
   "metadata": {
    "id": "a6743a70"
   },
   "source": [
    "### [A2] Para cada hora del día, ¿cuántas personas hacen órdenes?"
   ]
  },
  {
   "cell_type": "code",
   "execution_count": 36,
   "id": "a36cca27",
   "metadata": {
    "id": "a36cca27",
    "trusted": false
   },
   "outputs": [
    {
     "data": {
      "image/png": "[encoded data removed]",
      "text/plain": [
       "<Figure size 640x480 with 1 Axes>"
      ]
     },
     "metadata": {},
     "output_type": "display_data"
    }
   ],
   "source": [
    "df_ord_num_pedidos = df_ordenes_ic.groupby(\"order_hour_of_day\")[\"order_number\"].count()\n",
    "df_ord_num_pedidos.plot(title=\"Cantidad de pedidos a diferentes horas del días\",\n",
    "                   xlabel=\"Hora del día (0-23 hrs)\",\n",
    "                   ylabel=\"Cantidad de pedidos\",\n",
    "                   legend=False,\n",
    "                   grid=True,\n",
    "                   color=\"red\",\n",
    "                   xlim=[0,23],\n",
    "                   ylim=[0,41000])\n",
    "plt.show()"
   ]
  },
  {
   "cell_type": "markdown",
   "id": "11270eed",
   "metadata": {
    "id": "11270eed"
   },
   "source": [
    "**La mayoría de los pedidos se suelen hacer entre las 10 am y las 15 pm**"
   ]
  },
  {
   "cell_type": "markdown",
   "id": "documented-command",
   "metadata": {
    "id": "documented-command"
   },
   "source": [
    "### [A3] ¿Qué día de la semana compran víveres las personas?"
   ]
  },
  {
   "cell_type": "code",
   "execution_count": 37,
   "id": "chief-digit",
   "metadata": {
    "id": "chief-digit",
    "trusted": false
   },
   "outputs": [
    {
     "data": {
      "image/png": "[encoded data removed]",
      "text/plain": [
       "<Figure size 640x480 with 1 Axes>"
      ]
     },
     "metadata": {},
     "output_type": "display_data"
    }
   ],
   "source": [
    "df_ord_num_pedidos = df_ordenes_ic.groupby(\"order_dow\")[\"order_number\"].count()\n",
    "df_ord_num_pedidos.plot(title=\"Cantidad de pedidos en distintos días\",\n",
    "                   xlabel=\"Día de la semana (0: Domingo - 6:Sábado)\",\n",
    "                   ylabel=\"Cantidad de pedidos\",\n",
    "                   legend=False,\n",
    "                   grid=True,\n",
    "                   color=\"green\", \n",
    "                   xlim=[0,6],\n",
    "                   ylim=[55000,85000])\n",
    "plt.show()"
   ]
  },
  {
   "cell_type": "markdown",
   "id": "dominant-lightning",
   "metadata": {
    "id": "dominant-lightning"
   },
   "source": [
    "**Las personas hacen más pedidos los días Domingo y Lunes**"
   ]
  },
  {
   "cell_type": "markdown",
   "id": "cutting-concert",
   "metadata": {
    "id": "cutting-concert"
   },
   "source": [
    "### [A4] ¿Cuánto tiempo esperan las personas hasta hacer otro pedido? Comenta sobre los valores mínimos y máximos."
   ]
  },
  {
   "cell_type": "code",
   "execution_count": 38,
   "id": "c231f523",
   "metadata": {
    "id": "c231f523",
    "trusted": false
   },
   "outputs": [
    {
     "data": {
      "image/png": "[encoded data removed]",
      "text/plain": [
       "<Figure size 640x480 with 1 Axes>"
      ]
     },
     "metadata": {},
     "output_type": "display_data"
    }
   ],
   "source": [
    "df_ord_dias_ult_orden = df_ordenes_ic.groupby(\"days_since_prior_order\")[\"order_number\"].count()\n",
    "df_ord_dias_ult_orden.plot(title=\"Días que transcurren entre pedidos de los clientes\",\n",
    "                    xlabel=\"Días\",\n",
    "                    ylabel=\"Cantidad de pedidos después de x número de días\",\n",
    "                    kind=\"bar\",\n",
    "                    legend=False,\n",
    "                    grid=True,\n",
    "                    color=\"blue\", \n",
    "                    xlim=[0,30],\n",
    "                    ylim=[0,80000])\n",
    "plt.show()"
   ]
  },
  {
   "cell_type": "markdown",
   "id": "discrete-vertex",
   "metadata": {
    "id": "discrete-vertex"
   },
   "source": [
    "### Conclusiones\n",
    "\n",
    "**Como bien lo observamos cuando queriamos sustituir los valores ausentes en el DF df_ordenes_ic, la gente suele esperar al menos 1 semana para volver a hacer un pedido en la aplicación.**"
   ]
  },
  {
   "cell_type": "markdown",
   "id": "tight-staff",
   "metadata": {
    "id": "tight-staff"
   },
   "source": [
    "# [B] Intermedio (deben completarse todos para aprobar)\n",
    "\n",
    "1. ¿Existe alguna diferencia entre las distribuciones `'order_hour_of_day'` de los miércoles y los sábados? Traza gráficos de barra de `'order_hour_of_day'` para ambos días en la misma figura y describe las diferencias que observes.\n",
    "2. Grafica la distribución para el número de órdenes que hacen los clientes (es decir, cuántos clientes hicieron solo 1 pedido, cuántos hicieron 2, cuántos 3, y así sucesivamente...).\n",
    "3. ¿Cuáles son los 20 principales productos que se piden con más frecuencia (muestra su identificación y nombre)?"
   ]
  },
  {
   "cell_type": "markdown",
   "id": "packed-classic",
   "metadata": {
    "id": "packed-classic"
   },
   "source": [
    "### [B1] Diferencia entre miércoles y sábados para  `'order_hour_of_day'`. Traza gráficos de barra para los dos días y describe las diferencias que veas."
   ]
  },
  {
   "cell_type": "code",
   "execution_count": 39,
   "id": "d89b8403",
   "metadata": {
    "id": "d89b8403",
    "trusted": false
   },
   "outputs": [
    {
     "data": {
      "image/png": "[encoded data removed]",
      "text/plain": [
       "<Figure size 1100x400 with 1 Axes>"
      ]
     },
     "metadata": {},
     "output_type": "display_data"
    }
   ],
   "source": [
    "# Primero voy a filtrar el DF principal en 2 DFs donde solo haya order_dow igual a 3 y 6, para obtener la información de los\n",
    "# miércoles y sábados.\n",
    "\n",
    "df_mie = df_ordenes_ic[df_ordenes_ic[\"order_dow\"]==3]\n",
    "df_sab = df_ordenes_ic[df_ordenes_ic[\"order_dow\"]==6]\n",
    "df_mie = df_mie.groupby(\"order_hour_of_day\")[\"order_id\"].count()\n",
    "df_mie.name = \"miércoles\"\n",
    "df_sab = df_sab.groupby(\"order_hour_of_day\")[\"order_id\"].count()\n",
    "df_sab.name = \"sábado\"\n",
    "\n",
    "# Después voy a unir ambos Series en un DF \n",
    "\n",
    "df_combinados = pd.concat([df_mie,df_sab],axis=\"columns\")\n",
    "\n",
    "# Y ahora solo imprimo el gráfico de barras.\n",
    "\n",
    "df_combinados.plot(title=\"Comparación entre los pedidos de los días Miércoles y Sábados\",\n",
    "            xlabel=\"Hora del día (0 - 23 horas)\",\n",
    "            ylabel=\"Cantidad de pedidos\",\n",
    "            kind=\"bar\",figsize=[11,4])\n",
    "plt.show()"
   ]
  },
  {
   "cell_type": "markdown",
   "id": "charitable-congo",
   "metadata": {
    "id": "charitable-congo"
   },
   "source": [
    "**Hay mucha similitud entre ambos días, sin embargo la gente suele hacer más pedidos entre las 12 pm y las 14 pm**"
   ]
  },
  {
   "cell_type": "markdown",
   "id": "e3891143",
   "metadata": {
    "id": "e3891143"
   },
   "source": [
    "### [B2] ¿Cuál es la distribución para el número de pedidos por cliente?"
   ]
  },
  {
   "cell_type": "code",
   "execution_count": 40,
   "id": "d8c26c23",
   "metadata": {
    "id": "d8c26c23",
    "trusted": false
   },
   "outputs": [
    {
     "data": {
      "image/png": "[encoded data removed]",
      "text/plain": [
       "<Figure size 640x480 with 1 Axes>"
      ]
     },
     "metadata": {},
     "output_type": "display_data"
    }
   ],
   "source": [
    "# Primero voy a agrupar en un DF que contiene la sumatoria del total de veces que un usuario ha hecho cierto número de pedidos\n",
    "\n",
    "df_order_user = df_ordenes_ic.groupby(\"user_id\").count()\n",
    "df_order_user = df_order_user.drop([\"order_number\",\"order_dow\",\"order_hour_of_day\",\"days_since_prior_order\"],axis=1)\n",
    "\n",
    "# Y ahora la graficamos \n",
    "\n",
    "df_order_user.hist(column=\"order_id\",bins=25)\n",
    "plt.title(\"Distribución del total de pedidos por cliente\")\n",
    "plt.xlim(1,25)\n",
    "plt.show()"
   ]
  },
  {
   "cell_type": "markdown",
   "id": "d2eff7d5",
   "metadata": {
    "id": "d2eff7d5"
   },
   "source": [
    "**La mayoría de las personas ha hecho entre 1 a 4 pedidos y ya apartir de ahí se ve una caída exponencial y apartir de los 40 pedidos ya la gráfica tiende a no cambiar mucho**"
   ]
  },
  {
   "cell_type": "markdown",
   "id": "54a0319c",
   "metadata": {
    "id": "54a0319c"
   },
   "source": [
    "### [B3] ¿Cuáles son los 20 productos más populares (muestra su ID y nombre)?"
   ]
  },
  {
   "cell_type": "code",
   "execution_count": 41,
   "id": "bbcdd20b",
   "metadata": {
    "id": "bbcdd20b",
    "trusted": false
   },
   "outputs": [
    {
     "name": "stdout",
     "output_type": "stream",
     "text": [
      "Estos son los 20 productos más populares:\n",
      "1.- ID: 24852 - Nombre: banana\n",
      "2.- ID: 13176 - Nombre: bag of organic bananas\n",
      "3.- ID: 21137 - Nombre: organic strawberries\n",
      "4.- ID: 21903 - Nombre: organic baby spinach\n",
      "5.- ID: 47209 - Nombre: organic hass avocado\n",
      "6.- ID: 47766 - Nombre: organic avocado\n",
      "7.- ID: 47626 - Nombre: large lemon\n",
      "8.- ID: 16797 - Nombre: strawberries\n",
      "9.- ID: 26209 - Nombre: limes\n",
      "10.- ID: 27845 - Nombre: organic whole milk\n",
      "11.- ID: 27966 - Nombre: organic raspberries\n",
      "12.- ID: 22935 - Nombre: organic yellow onion\n",
      "13.- ID: 24964 - Nombre: organic garlic\n",
      "14.- ID: 45007 - Nombre: organic zucchini\n",
      "15.- ID: 39275 - Nombre: organic blueberries\n",
      "16.- ID: 49683 - Nombre: cucumber kirby\n",
      "17.- ID: 28204 - Nombre: organic fuji apple\n",
      "18.- ID: 5876 - Nombre: organic lemon\n",
      "19.- ID: 8277 - Nombre: apple honeycrisp organic\n",
      "20.- ID: 40706 - Nombre: organic grape tomatoes\n"
     ]
    }
   ],
   "source": [
    "df_prod_mas_populares = df_ordenes.groupby(\"product_id\").count()\n",
    "df_prod_mas_populares = df_prod_mas_populares.sort_values(\"order_id\",ascending=False)\n",
    "\n",
    "prod_20_mas_populares = df_prod_mas_populares.index\n",
    "prod_20_mas_populares = prod_20_mas_populares[:20]\n",
    "\n",
    "con = 1\n",
    "print(\"Estos son los 20 productos más populares:\")\n",
    "for prod in prod_20_mas_populares:\n",
    "    for product in df_productos[\"product_id\"]:\n",
    "        if prod == product:\n",
    "            actual_index = product - 1\n",
    "            print(f'{con}.- ID: {prod} - Nombre: {df_productos.loc[actual_index,\"product_name\"]}')\n",
    "            con +=1"
   ]
  },
  {
   "cell_type": "markdown",
   "id": "7df00f47",
   "metadata": {
    "id": "7df00f47"
   },
   "source": [
    "**En toda la lista predominan las frutas y verduras orgánicas, y también aparece algún lácteo como la leche en la lista.**"
   ]
  },
  {
   "cell_type": "markdown",
   "id": "gross-theme",
   "metadata": {
    "id": "gross-theme"
   },
   "source": [
    "# [C] Difícil (deben completarse todos para aprobar)\n",
    "\n",
    "1. ¿Cuántos artículos suelen comprar las personas en un pedido? ¿Cómo es la distribución?\n",
    "2. ¿Cuáles son los 20 principales artículos que vuelven a pedirse con mayor frecuencia (muestra sus nombres e IDs de los productos)?\n",
    "3. Para cada producto, ¿cuál es la tasa de repetición del pedido (número de repeticiones de pedido/total de pedidos?\n",
    "4. Para cada cliente, ¿qué proporción de los productos que pidió ya los había pedido? Calcula la tasa de repetición de pedido para cada usuario en lugar de para cada producto.\n",
    "5. ¿Cuáles son los 20 principales artículos que la gente pone primero en sus carritos (muestra las IDs de los productos, sus nombres, y el número de veces en que fueron el primer artículo en añadirse al carrito)?"
   ]
  },
  {
   "cell_type": "markdown",
   "id": "romantic-deposit",
   "metadata": {
    "id": "romantic-deposit"
   },
   "source": [
    "### [C1] ¿Cuántos artículos compran normalmente las personas en un pedido? ¿Cómo es la distribución?"
   ]
  },
  {
   "cell_type": "code",
   "execution_count": 42,
   "id": "virtual-punch",
   "metadata": {
    "id": "virtual-punch",
    "trusted": false
   },
   "outputs": [
    {
     "name": "stdout",
     "output_type": "stream",
     "text": [
      "El valor mínimo es de: 1 artículo\n",
      "El valor máximo es de: 127 artículos\n",
      "El valor promedio es de: 10.098983215049127 artículos\n"
     ]
    },
    {
     "data": {
      "image/png": "[encoded data removed]",
      "text/plain": [
       "<Figure size 640x480 with 1 Axes>"
      ]
     },
     "metadata": {},
     "output_type": "display_data"
    }
   ],
   "source": [
    "df_por_orden = df_ordenes.groupby(\"order_id\").count()\n",
    "df_por_orden = df_por_orden.reset_index()\n",
    "df_por_orden = df_por_orden.drop([\"add_to_cart_order\",\"reordered\"],axis=1)\n",
    "print(f'El valor mínimo es de: {df_por_orden[\"product_id\"].min()} artículo')\n",
    "print(f'El valor máximo es de: {df_por_orden[\"product_id\"].max()} artículos')\n",
    "print(f'El valor promedio es de: {df_por_orden[\"product_id\"].mean()} artículos')\n",
    "\n",
    "df_por_orden['product_id'].hist(bins=20)\n",
    "plt.xlim(1)\n",
    "plt.show()"
   ]
  },
  {
   "cell_type": "markdown",
   "id": "designed-mortality",
   "metadata": {
    "id": "designed-mortality"
   },
   "source": [
    "**Con la gráfica podemos observar que la mayoría de pedidos suele ser de entre 30 productos que es donde predomina el color azul oscuro. También con las líneas de arriba podemos ver que la máxima cantidad que se han pedido es 127 y el promedio es de al rededor de 10 artículos.**\n",
    "\n",
    "**No estoy seguro de si aquí estaban esperando ver un histograma, pero no pude representar la gráfica como un histograma =(**"
   ]
  },
  {
   "cell_type": "markdown",
   "id": "5e6b5537",
   "metadata": {
    "id": "5e6b5537"
   },
   "source": [
    "### [C2] ¿Cuáles son los 20 principales artículos que vuelven a pedirse con mayor frecuencia (muestra sus nombres e IDs de los productos)?"
   ]
  },
  {
   "cell_type": "code",
   "execution_count": 43,
   "id": "48dd3658",
   "metadata": {
    "id": "48dd3658",
    "trusted": false
   },
   "outputs": [
    {
     "name": "stdout",
     "output_type": "stream",
     "text": [
      "Estos son los 20 productos más populares que se han reordenado:\n",
      "1.- ID: 24852 - Nombre: banana\n",
      "2.- ID: 13176 - Nombre: bag of organic bananas\n",
      "3.- ID: 21137 - Nombre: organic strawberries\n",
      "4.- ID: 21903 - Nombre: organic baby spinach\n",
      "5.- ID: 47209 - Nombre: organic hass avocado\n",
      "6.- ID: 47766 - Nombre: organic avocado\n",
      "7.- ID: 27845 - Nombre: organic whole milk\n",
      "8.- ID: 47626 - Nombre: large lemon\n",
      "9.- ID: 27966 - Nombre: organic raspberries\n",
      "10.- ID: 16797 - Nombre: strawberries\n",
      "11.- ID: 26209 - Nombre: limes\n",
      "12.- ID: 22935 - Nombre: organic yellow onion\n",
      "13.- ID: 24964 - Nombre: organic garlic\n",
      "14.- ID: 45007 - Nombre: organic zucchini\n",
      "15.- ID: 49683 - Nombre: cucumber kirby\n",
      "16.- ID: 28204 - Nombre: organic fuji apple\n",
      "17.- ID: 8277 - Nombre: apple honeycrisp organic\n",
      "18.- ID: 39275 - Nombre: organic blueberries\n",
      "19.- ID: 5876 - Nombre: organic lemon\n",
      "20.- ID: 49235 - Nombre: organic half & half\n"
     ]
    }
   ],
   "source": [
    "# Primero voy a separar el DF con solo los las personas que han hecho repetido algún producto, \n",
    "# o que tienen un 1 en la columna reordered.\n",
    "\n",
    "reordered_df = df_ordenes[df_ordenes[\"reordered\"] == 1]\n",
    "\n",
    "# Después voy a agrupar por la columna product_id y utilizar count() para saber cuales han sido\n",
    "# los más populares\n",
    "\n",
    "prod_mas_reordenados = reordered_df.groupby(\"product_id\").count()\n",
    "prod_mas_reordenados = prod_mas_reordenados.sort_values(\"order_id\",ascending=False)\n",
    "\n",
    "# Después hago una lista con los id de los primeros 20 \n",
    "\n",
    "prod_20_reo_populares = prod_mas_reordenados.index\n",
    "prod_20_reo_populares = prod_20_reo_populares[:20]\n",
    "\n",
    "# Y por último utilizo un ciclo de dos fors anidados para buscar cada uno de los id de la lista en \n",
    "# la columna del DF product_id y obtener su nombre\n",
    "\n",
    "con = 1\n",
    "print(\"Estos son los 20 productos más populares que se han reordenado:\")\n",
    "for prod in prod_20_reo_populares:\n",
    "    for product in df_productos[\"product_id\"]:\n",
    "        if prod == product:\n",
    "            actual_index = product - 1\n",
    "            print(f'{con}.- ID: {prod} - Nombre: {df_productos.loc[actual_index,\"product_name\"]}')\n",
    "            con +=1"
   ]
  },
  {
   "cell_type": "markdown",
   "id": "80e70c74",
   "metadata": {
    "id": "80e70c74"
   },
   "source": [
    "**Muchos de los productos más populares aparecen en esta lista, sin embargo, solo el último producto de la lista fue uno distinto. por lo cual esto nos dice que los 20 productos más comprados, son también los que se piden de nueva vez.**"
   ]
  },
  {
   "cell_type": "markdown",
   "id": "9d312b14",
   "metadata": {
    "id": "9d312b14"
   },
   "source": [
    "### [C3] Para cada producto, ¿cuál es la proporción de las veces que se pide y que se vuelve a pedir?"
   ]
  },
  {
   "cell_type": "code",
   "execution_count": 44,
   "id": "social-individual",
   "metadata": {
    "id": "social-individual",
    "trusted": false
   },
   "outputs": [
    {
     "name": "stdout",
     "output_type": "stream",
     "text": [
      "       product_id  veces_reordenadas  total_pedidos  distribución\n",
      "0               1                158            280      0.564286\n",
      "1               3                 31             42      0.738095\n",
      "2               4                 25             49      0.510204\n",
      "3               7                  1              2      0.500000\n",
      "4               8                  6             19      0.315789\n",
      "...           ...                ...            ...           ...\n",
      "36223       49690                  4              5      0.800000\n",
      "36224       49691                 31             72      0.430556\n",
      "36225       49692                  5             12      0.416667\n",
      "36226       49693                 11             25      0.440000\n",
      "36227       49694                  3              9      0.333333\n",
      "\n",
      "[36228 rows x 4 columns]\n"
     ]
    },
    {
     "data": {
      "image/png": "[encoded data removed]",
      "text/plain": [
       "<Figure size 640x480 with 1 Axes>"
      ]
     },
     "metadata": {},
     "output_type": "display_data"
    }
   ],
   "source": [
    "# Primero del DF original vamos a obtener el número de pedidos totales para todos los productos.\n",
    "# Agrupamos por productos para tener tanto los que se ordenaron 1 vez, como los que se han llegado\n",
    "# a reordenar\n",
    "\n",
    "df_total_prod_pedidos = df_ordenes.groupby(\"product_id\").count()\n",
    "df_total_prod_pedidos = df_total_prod_pedidos.reset_index()\n",
    "df_total_prod_pedidos = df_total_prod_pedidos.drop([\"add_to_cart_order\",\"reordered\"],axis=1)\n",
    "\n",
    "# Segundo hay que filtrar el DF para tener solo los productos reordenados\n",
    "\n",
    "df_reordered_productos = df_ordenes[df_ordenes[\"reordered\"]==1]\n",
    "df_reordered_productos = df_reordered_productos.groupby(\"product_id\").count()\n",
    "df_reordered_productos = df_reordered_productos.reset_index()\n",
    "df_reordered_productos = df_reordered_productos.drop([\"add_to_cart_order\",\"reordered\"],axis=1)\n",
    "\n",
    "# Ahora voy a unir los DF con merge() cambiar los nombres de las columnas que se han unido \n",
    "# y en una nueva columna calcular la distribución.\n",
    "\n",
    "merged_df = df_reordered_productos.merge(df_total_prod_pedidos,on=\"product_id\")\n",
    "nombres_nuevos = [\"product_id\",\"veces_reordenadas\",\"total_pedidos\"]\n",
    "merged_df.columns = nombres_nuevos\n",
    "merged_df[\"distribución\"] = merged_df[\"veces_reordenadas\"] / merged_df[\"total_pedidos\"]\n",
    "print(merged_df)\n",
    "\n",
    "merged_df[\"distribución\"].plot(kind=\"hist\",bins=20)\n",
    "plt.xlim(0.01,1)\n",
    "plt.show()"
   ]
  },
  {
   "cell_type": "markdown",
   "id": "I10dEIAyldcO",
   "metadata": {
    "id": "I10dEIAyldcO"
   },
   "source": [
    "**Al buscar el máximo en el DF ya combinado se obtienen poco más de 1800 productos con una distribución de 1 por lo cual todos estos siempre se han reordenado.**"
   ]
  },
  {
   "cell_type": "markdown",
   "id": "subject-boxing",
   "metadata": {
    "id": "subject-boxing"
   },
   "source": [
    "### [C4] Para cada cliente, ¿qué proporción de sus productos ya los había pedido?"
   ]
  },
  {
   "cell_type": "code",
   "execution_count": 45,
   "id": "8892e4b4",
   "metadata": {
    "id": "8892e4b4",
    "trusted": false
   },
   "outputs": [
    {
     "name": "stdout",
     "output_type": "stream",
     "text": [
      "        user_id  prod_reor_totales  prod_totales  distribución\n",
      "0             2                  1            26      0.038462\n",
      "1             4                  0             2      0.000000\n",
      "2             5                  8            12      0.666667\n",
      "3             6                  0             4      0.000000\n",
      "4             7                 13            14      0.928571\n",
      "...         ...                ...           ...           ...\n",
      "157432   206203                  6            27      0.222222\n",
      "157433   206206                 15            21      0.714286\n",
      "157434   206207                 41            46      0.891304\n",
      "157435   206208                 87           125      0.696000\n",
      "157436   206209                  8            25      0.320000\n",
      "\n",
      "[157437 rows x 4 columns]\n"
     ]
    },
    {
     "data": {
      "image/png": "[encoded data removed]",
      "text/plain": [
       "<Figure size 640x480 with 1 Axes>"
      ]
     },
     "metadata": {},
     "output_type": "display_data"
    }
   ],
   "source": [
    "# Primero voy a agrupar un DF con todos los ID de usuarios, eliminaré las columnas que están sobrando\n",
    "# y después uniré éste DF nuevo con merge para obtener uno nuevo con todos los usuarios y sus pedidos. \n",
    "\n",
    "df_usuarios = df_ordenes_ic.groupby(\"user_id\").count()\n",
    "df_usuarios = df_usuarios.reset_index()\n",
    "df_usuarios = df_usuarios.drop([\"order_id\",\"order_number\",\"order_dow\",\"order_hour_of_day\",\"days_since_prior_order\"],axis=1)\n",
    "df_usuarios = df_usuarios.merge(df_ordenes_ic,on=\"user_id\")[[\"user_id\",\"order_id\"]]\n",
    "\n",
    "# Ahora voy a usar el DF de df_ordenes SIN filtrar los productos reordenados para obtener el total\n",
    "# de productos de todos los pedidos \n",
    "\n",
    "df_pedidos_ordenes = df_ordenes.groupby(\"order_id\").count()\n",
    "df_pedidos_ordenes = df_pedidos_ordenes.reset_index()\n",
    "df_pedidos_ordenes = df_pedidos_ordenes.drop([\"add_to_cart_order\",\"reordered\"],axis=1)\n",
    "nombres_columnas = [\"order_id\",\"prod_totales\"]\n",
    "df_pedidos_ordenes.columns= nombres_columnas\n",
    "\n",
    "# Ahora voy a unir estos nuevos DF para obtener el total de productos por pedido de todos los clientes.\n",
    "\n",
    "merged_df = df_usuarios.merge(df_pedidos_ordenes,on=\"order_id\",how=\"left\")\n",
    "\n",
    "# Volvemos al DF df_ordenes para ahora SI filtrar los productos reordenados y hacer los mismos 2 pasos \n",
    "# anteriores. \n",
    "\n",
    "df_ordenes = df_ordenes[df_ordenes[\"reordered\"]==1]\n",
    "df_pedidos_reorden = df_ordenes.groupby(\"order_id\").count()\n",
    "df_pedidos_reorden = df_pedidos_reorden.reset_index()\n",
    "df_pedidos_reorden = df_pedidos_reorden.drop([\"add_to_cart_order\",\"reordered\"],axis=1)\n",
    "nombres_columnas = [\"order_id\",\"prod_reor_totales\"]\n",
    "df_pedidos_reorden.columns = nombres_columnas\n",
    "merged_df = merged_df.merge(df_pedidos_reorden,on=\"order_id\",how=\"left\")\n",
    "\n",
    "# Como hay algunos pedidos completos donde ninguno de los productos ha sido reordenado es por esto que\n",
    "# hay un resultado de valores nulos, voy a llenar dichos valores con 0. Y vamos a darle un tipo de valor \n",
    "# int a la columna prod_reor_totales.\n",
    "\n",
    "merged_df[\"prod_reor_totales\"] = merged_df[\"prod_reor_totales\"].fillna(0)\n",
    "merged_df[\"prod_reor_totales\"] = merged_df[\"prod_reor_totales\"].astype(\"int\")\n",
    "\n",
    "# Ahora vamos a agrupar por usuarios y obtener la suma de todoas las ordenes y lso productos totales y\n",
    "# reordenados.\n",
    "\n",
    "merged_df = merged_df.groupby(\"user_id\").sum()\n",
    "merged_df = merged_df.reset_index()\n",
    "merged_df[\"prod_totales\"] = merged_df[\"prod_totales\"].astype(\"int\")\n",
    "merged_df[\"distribución\"] = merged_df[\"prod_reor_totales\"] / merged_df[\"prod_totales\"]\n",
    "merged_df = merged_df.drop(\"order_id\",axis=1)\n",
    "merged_df = merged_df[[\"user_id\",\"prod_reor_totales\",\"prod_totales\",\"distribución\"]]\n",
    "print(merged_df)\n",
    "\n",
    "merged_df[\"distribución\"].plot(kind=\"hist\",bins=20)\n",
    "plt.xlim(0,1)\n",
    "plt.show()"
   ]
  },
  {
   "cell_type": "markdown",
   "id": "BgJSvXDsleXz",
   "metadata": {
    "id": "BgJSvXDsleXz"
   },
   "source": [
    "**Hay 8102 clientes que tienen una distribución de 1, lo cual nos dice que todos los productos que han pedido, los han vuelto a comprar**\n",
    "\n",
    "**Este fue el paso más complicado de procesar e idear como debía de resolver, pero al mismo tiempo el más satisfactorio (si es que llega a estar correcto jaja).**"
   ]
  },
  {
   "cell_type": "markdown",
   "id": "92d35137",
   "metadata": {
    "id": "92d35137"
   },
   "source": [
    "### [C5] ¿Cuáles son los 20 principales artículos que las personas ponen primero en sus carritos?"
   ]
  },
  {
   "cell_type": "code",
   "execution_count": 46,
   "id": "08e41ec2",
   "metadata": {
    "id": "08e41ec2",
    "trusted": false
   },
   "outputs": [
    {
     "name": "stdout",
     "output_type": "stream",
     "text": [
      "Estos son los 20 productos que los clientes primero ponen en su carrito:\n",
      "1.- ID: 24852 - Nombre: banana, fue elegido como el primero 13725 veces\n",
      "2.- ID: 13176 - Nombre: bag of organic bananas, fue elegido como el primero 9626 veces\n",
      "3.- ID: 27845 - Nombre: organic whole milk, fue elegido como el primero 3766 veces\n",
      "4.- ID: 21137 - Nombre: organic strawberries, fue elegido como el primero 3126 veces\n",
      "5.- ID: 47209 - Nombre: organic hass avocado, fue elegido como el primero 2736 veces\n",
      "6.- ID: 21903 - Nombre: organic baby spinach, fue elegido como el primero 2641 veces\n",
      "7.- ID: 47766 - Nombre: organic avocado, fue elegido como el primero 2434 veces\n",
      "8.- ID: 19660 - Nombre: spring water, fue elegido como el primero 2021 veces\n",
      "9.- ID: 16797 - Nombre: strawberries, fue elegido como el primero 1725 veces\n",
      "10.- ID: 27966 - Nombre: organic raspberries, fue elegido como el primero 1660 veces\n",
      "11.- ID: 44632 - Nombre: sparkling water grapefruit, fue elegido como el primero 1589 veces\n",
      "12.- ID: 49235 - Nombre: organic half & half, fue elegido como el primero 1505 veces\n",
      "13.- ID: 196 - Nombre: soda, fue elegido como el primero 1435 veces\n",
      "14.- ID: 47626 - Nombre: large lemon, fue elegido como el primero 1305 veces\n",
      "15.- ID: 38689 - Nombre: organic reduced fat milk, fue elegido como el primero 1224 veces\n",
      "16.- ID: 5785 - Nombre: organic reduced fat 2% milk, fue elegido como el primero 1103 veces\n",
      "17.- ID: 12341 - Nombre: hass avocados, fue elegido como el primero 1093 veces\n",
      "18.- ID: 27086 - Nombre: half & half, fue elegido como el primero 1061 veces\n",
      "19.- ID: 4210 - Nombre: whole milk, fue elegido como el primero 997 veces\n",
      "20.- ID: 43352 - Nombre: raspberries, fue elegido como el primero 973 veces\n"
     ]
    }
   ],
   "source": [
    "# Primero voy a filtrar el DF con un 1 en la columna \"add_to_cart_order\" \n",
    "\n",
    "df_primer_producto = df_ordenes[df_ordenes[\"add_to_cart_order\"] == 1]\n",
    "\n",
    "# Después voy a agrupar por la columna product_id y el número de veces que fue elegido como \n",
    "# el número 1 en el carrito.\n",
    "\n",
    "df_primer_producto = df_primer_producto.groupby(\"product_id\").count()\n",
    "df_primer_producto = df_primer_producto.sort_values(by=\"order_id\",ascending=False)\n",
    "primer_producto_20 = df_primer_producto.index\n",
    "primer_producto_20 = primer_producto_20[:20]\n",
    "\n",
    "# Y ahora con dos 2 fors anidados obtengo su ID, nombre y con el Series times_primer\n",
    "# producto utilizo el valor que obtuve con el método count que son el número de veces\n",
    "# que fueron el primer artículo en añadirse al carrito. \n",
    "\n",
    "con = 1\n",
    "print(\"Estos son los 20 productos que los clientes primero ponen en su carrito:\")\n",
    "for prod in primer_producto_20:\n",
    "    for product in df_productos[\"product_id\"]:\n",
    "        if prod == product:\n",
    "            actual_index = product - 1\n",
    "            print(f'{con}.- ID: {prod} - Nombre: {df_productos.loc[actual_index,\"product_name\"]}, fue elegido como el primero {df_primer_producto.loc[product,\"order_id\"]} veces')\n",
    "            con +=1\n"
   ]
  },
  {
   "cell_type": "markdown",
   "id": "28ce9872",
   "metadata": {
    "id": "28ce9872"
   },
   "source": [
    "**Las frutas y verduras siguen predominando como lo primero que la gente suele poner en sus carritos al iniciar sus compras, hay algunas excepciones como la leche y la soda, pero en su mayoría son productos de tipo frutas y verduras**"
   ]
  },
  {
   "cell_type": "markdown",
   "id": "uITbFCEoDosC",
   "metadata": {
    "id": "uITbFCEoDosC"
   },
   "source": [
    "### Conclusion general del proyecto:"
   ]
  },
  {
   "cell_type": "markdown",
   "id": "f4730807",
   "metadata": {
    "id": "Nk-4GS7mDwqY"
   },
   "source": [
    "**En general, éste proyecto fue el más retador en cuanto a aplicación de conocimientos, ya que implicó mucho escribir código\n",
    "en base a la prueba-error, idear cuales son los datos que necesito obtener, pensar como obtenerlos, como trabajarlos, usarlos,\n",
    "etc, fue algo complicado de sobrellevar pero el poder haber completado el proyecto (que falta que sea revisado) es muy \n",
    "satisfactorio.** \n",
    "\n",
    "**Todos los hallazgos, métodos, funciones, etc que utilicé lo expliqué ya sea en los markdowns o en las mismas líneas de código.\n",
    "No creo estar 100% correcto en todo lo que hice, pero me siento satisfecho con el resultado y ya espero con ansias los\n",
    "comentarios del examinador para saber que apliqué bien, que cosas no, y de ser necesario volver a trabjar en la revisón de éste\n",
    "proyecto.**\n",
    "\n"
   ]
  }
 ],
 "metadata": {
  "ExecuteTimeLog": [
   {
    "duration": 2251,
    "start_time": "2025-03-21T22:21:21.374Z"
   },
   {
    "duration": 518,
    "start_time": "2025-03-21T22:21:35.795Z"
   },
   {
    "duration": 4,
    "start_time": "2025-03-21T22:22:27.492Z"
   },
   {
    "duration": 66,
    "start_time": "2025-03-21T22:22:31.080Z"
   },
   {
    "duration": 1037,
    "start_time": "2025-03-21T22:23:51.030Z"
   },
   {
    "duration": 19,
    "start_time": "2025-03-21T22:23:55.186Z"
   },
   {
    "duration": 13,
    "start_time": "2025-03-21T22:24:55.230Z"
   },
   {
    "duration": 27,
    "start_time": "2025-03-21T22:25:04.631Z"
   },
   {
    "duration": 10,
    "start_time": "2025-03-21T22:25:18.381Z"
   },
   {
    "duration": 10,
    "start_time": "2025-03-21T22:25:21.975Z"
   },
   {
    "duration": 2215,
    "start_time": "2025-03-24T16:39:47.310Z"
   },
   {
    "duration": 3,
    "start_time": "2025-03-24T16:39:50.417Z"
   },
   {
    "duration": 1043,
    "start_time": "2025-03-24T16:39:54.453Z"
   },
   {
    "duration": 13,
    "start_time": "2025-03-24T16:39:58.651Z"
   },
   {
    "duration": 12,
    "start_time": "2025-03-24T16:40:03.448Z"
   },
   {
    "duration": 26,
    "start_time": "2025-03-24T16:40:08.849Z"
   },
   {
    "duration": 12,
    "start_time": "2025-03-24T16:40:14.208Z"
   },
   {
    "duration": 9,
    "start_time": "2025-03-24T16:40:17.140Z"
   },
   {
    "duration": 88,
    "start_time": "2025-03-24T17:04:16.523Z"
   },
   {
    "duration": 14,
    "start_time": "2025-03-24T17:11:21.893Z"
   },
   {
    "duration": 167,
    "start_time": "2025-03-24T17:28:58.526Z"
   },
   {
    "duration": 82,
    "start_time": "2025-03-24T17:30:07.330Z"
   },
   {
    "duration": 32,
    "start_time": "2025-03-24T17:38:20.038Z"
   },
   {
    "duration": 623,
    "start_time": "2025-03-24T17:54:23.009Z"
   },
   {
    "duration": 47,
    "start_time": "2025-03-24T17:56:14.959Z"
   },
   {
    "duration": 12,
    "start_time": "2025-03-24T17:56:32.756Z"
   },
   {
    "duration": 47,
    "start_time": "2025-03-24T17:56:40.880Z"
   },
   {
    "duration": 431,
    "start_time": "2025-03-24T17:56:55.451Z"
   },
   {
    "duration": 919,
    "start_time": "2025-03-24T17:56:55.884Z"
   },
   {
    "duration": 18,
    "start_time": "2025-03-24T17:56:56.805Z"
   },
   {
    "duration": 12,
    "start_time": "2025-03-24T17:56:56.826Z"
   },
   {
    "duration": 24,
    "start_time": "2025-03-24T17:56:56.841Z"
   },
   {
    "duration": 10,
    "start_time": "2025-03-24T17:56:56.866Z"
   },
   {
    "duration": 11,
    "start_time": "2025-03-24T17:56:56.906Z"
   },
   {
    "duration": 105,
    "start_time": "2025-03-24T17:56:56.919Z"
   },
   {
    "duration": 12,
    "start_time": "2025-03-24T17:56:57.025Z"
   },
   {
    "duration": 186,
    "start_time": "2025-03-24T17:56:57.040Z"
   },
   {
    "duration": 94,
    "start_time": "2025-03-24T17:56:57.228Z"
   },
   {
    "duration": 29,
    "start_time": "2025-03-24T17:56:57.323Z"
   },
   {
    "duration": 597,
    "start_time": "2025-03-24T17:56:57.354Z"
   },
   {
    "duration": 0,
    "start_time": "2025-03-24T17:56:57.954Z"
   },
   {
    "duration": 0,
    "start_time": "2025-03-24T17:56:57.955Z"
   },
   {
    "duration": 0,
    "start_time": "2025-03-24T17:56:57.956Z"
   },
   {
    "duration": 0,
    "start_time": "2025-03-24T17:56:57.958Z"
   },
   {
    "duration": 0,
    "start_time": "2025-03-24T17:56:57.959Z"
   },
   {
    "duration": 0,
    "start_time": "2025-03-24T17:56:57.960Z"
   },
   {
    "duration": 0,
    "start_time": "2025-03-24T17:56:57.961Z"
   },
   {
    "duration": 0,
    "start_time": "2025-03-24T17:56:57.963Z"
   },
   {
    "duration": 0,
    "start_time": "2025-03-24T17:56:57.964Z"
   },
   {
    "duration": 0,
    "start_time": "2025-03-24T17:56:57.965Z"
   },
   {
    "duration": 0,
    "start_time": "2025-03-24T17:56:57.966Z"
   },
   {
    "duration": 0,
    "start_time": "2025-03-24T17:56:57.967Z"
   },
   {
    "duration": 0,
    "start_time": "2025-03-24T17:56:57.969Z"
   },
   {
    "duration": 0,
    "start_time": "2025-03-24T17:56:57.970Z"
   },
   {
    "duration": 0,
    "start_time": "2025-03-24T17:56:57.972Z"
   },
   {
    "duration": 1,
    "start_time": "2025-03-24T17:56:58.004Z"
   },
   {
    "duration": 0,
    "start_time": "2025-03-24T17:56:58.006Z"
   },
   {
    "duration": 0,
    "start_time": "2025-03-24T17:56:58.007Z"
   },
   {
    "duration": 0,
    "start_time": "2025-03-24T17:56:58.009Z"
   },
   {
    "duration": 0,
    "start_time": "2025-03-24T17:56:58.009Z"
   },
   {
    "duration": 0,
    "start_time": "2025-03-24T17:56:58.010Z"
   },
   {
    "duration": 466,
    "start_time": "2025-03-24T17:57:31.997Z"
   },
   {
    "duration": 961,
    "start_time": "2025-03-24T17:57:32.466Z"
   },
   {
    "duration": 16,
    "start_time": "2025-03-24T17:57:33.428Z"
   },
   {
    "duration": 11,
    "start_time": "2025-03-24T17:57:33.446Z"
   },
   {
    "duration": 25,
    "start_time": "2025-03-24T17:57:33.460Z"
   },
   {
    "duration": 28,
    "start_time": "2025-03-24T17:57:33.487Z"
   },
   {
    "duration": 10,
    "start_time": "2025-03-24T17:57:33.517Z"
   },
   {
    "duration": 114,
    "start_time": "2025-03-24T17:57:33.528Z"
   },
   {
    "duration": 11,
    "start_time": "2025-03-24T17:57:33.643Z"
   },
   {
    "duration": 201,
    "start_time": "2025-03-24T17:57:33.656Z"
   },
   {
    "duration": 102,
    "start_time": "2025-03-24T17:57:33.859Z"
   },
   {
    "duration": 42,
    "start_time": "2025-03-24T17:57:33.963Z"
   },
   {
    "duration": 643,
    "start_time": "2025-03-24T17:57:34.007Z"
   },
   {
    "duration": 0,
    "start_time": "2025-03-24T17:57:34.653Z"
   },
   {
    "duration": 0,
    "start_time": "2025-03-24T17:57:34.654Z"
   },
   {
    "duration": 0,
    "start_time": "2025-03-24T17:57:34.655Z"
   },
   {
    "duration": 0,
    "start_time": "2025-03-24T17:57:34.656Z"
   },
   {
    "duration": 0,
    "start_time": "2025-03-24T17:57:34.657Z"
   },
   {
    "duration": 0,
    "start_time": "2025-03-24T17:57:34.658Z"
   },
   {
    "duration": 0,
    "start_time": "2025-03-24T17:57:34.660Z"
   },
   {
    "duration": 0,
    "start_time": "2025-03-24T17:57:34.661Z"
   },
   {
    "duration": 0,
    "start_time": "2025-03-24T17:57:34.662Z"
   },
   {
    "duration": 0,
    "start_time": "2025-03-24T17:57:34.663Z"
   },
   {
    "duration": 0,
    "start_time": "2025-03-24T17:57:34.664Z"
   },
   {
    "duration": 0,
    "start_time": "2025-03-24T17:57:34.664Z"
   },
   {
    "duration": 0,
    "start_time": "2025-03-24T17:57:34.665Z"
   },
   {
    "duration": 0,
    "start_time": "2025-03-24T17:57:34.666Z"
   },
   {
    "duration": 0,
    "start_time": "2025-03-24T17:57:34.667Z"
   },
   {
    "duration": 0,
    "start_time": "2025-03-24T17:57:34.669Z"
   },
   {
    "duration": 0,
    "start_time": "2025-03-24T17:57:34.671Z"
   },
   {
    "duration": 0,
    "start_time": "2025-03-24T17:57:34.672Z"
   },
   {
    "duration": 0,
    "start_time": "2025-03-24T17:57:34.673Z"
   },
   {
    "duration": 0,
    "start_time": "2025-03-24T17:57:34.706Z"
   },
   {
    "duration": 0,
    "start_time": "2025-03-24T17:57:34.707Z"
   },
   {
    "duration": 13,
    "start_time": "2025-03-24T17:59:26.079Z"
   },
   {
    "duration": 4,
    "start_time": "2025-03-24T18:08:37.891Z"
   },
   {
    "duration": 18,
    "start_time": "2025-03-24T18:16:30.870Z"
   },
   {
    "duration": 10,
    "start_time": "2025-03-24T18:16:55.327Z"
   },
   {
    "duration": 810,
    "start_time": "2025-03-24T18:35:00.902Z"
   },
   {
    "duration": 34,
    "start_time": "2025-03-24T18:39:00.549Z"
   },
   {
    "duration": 4,
    "start_time": "2025-03-24T18:43:34.859Z"
   },
   {
    "duration": 3,
    "start_time": "2025-03-24T18:45:54.396Z"
   },
   {
    "duration": 3,
    "start_time": "2025-03-24T18:47:55.832Z"
   },
   {
    "duration": 5,
    "start_time": "2025-03-24T18:56:05.485Z"
   },
   {
    "duration": 4,
    "start_time": "2025-03-24T18:56:51.170Z"
   },
   {
    "duration": 4,
    "start_time": "2025-03-24T18:56:53.727Z"
   },
   {
    "duration": 5,
    "start_time": "2025-03-24T18:57:13.357Z"
   },
   {
    "duration": 7,
    "start_time": "2025-03-24T19:09:35.117Z"
   },
   {
    "duration": 13,
    "start_time": "2025-03-24T19:10:01.222Z"
   },
   {
    "duration": 6,
    "start_time": "2025-03-24T19:10:29.695Z"
   },
   {
    "duration": 10,
    "start_time": "2025-03-24T19:28:56.174Z"
   },
   {
    "duration": 35,
    "start_time": "2025-03-24T21:27:03.017Z"
   },
   {
    "duration": 12,
    "start_time": "2025-03-24T21:28:59.090Z"
   },
   {
    "duration": 5,
    "start_time": "2025-03-24T21:29:18.587Z"
   },
   {
    "duration": 5,
    "start_time": "2025-03-24T21:29:35.164Z"
   },
   {
    "duration": 4,
    "start_time": "2025-03-24T21:29:52.958Z"
   },
   {
    "duration": 44,
    "start_time": "2025-03-24T21:32:03.853Z"
   },
   {
    "duration": 34,
    "start_time": "2025-03-24T21:32:40.599Z"
   },
   {
    "duration": 423,
    "start_time": "2025-03-24T21:34:24.351Z"
   },
   {
    "duration": 924,
    "start_time": "2025-03-24T21:34:24.776Z"
   },
   {
    "duration": 14,
    "start_time": "2025-03-24T21:34:25.702Z"
   },
   {
    "duration": 10,
    "start_time": "2025-03-24T21:34:25.719Z"
   },
   {
    "duration": 24,
    "start_time": "2025-03-24T21:34:25.730Z"
   },
   {
    "duration": 8,
    "start_time": "2025-03-24T21:34:25.756Z"
   },
   {
    "duration": 10,
    "start_time": "2025-03-24T21:34:25.765Z"
   },
   {
    "duration": 88,
    "start_time": "2025-03-24T21:34:25.805Z"
   },
   {
    "duration": 18,
    "start_time": "2025-03-24T21:34:25.894Z"
   },
   {
    "duration": 181,
    "start_time": "2025-03-24T21:34:25.915Z"
   },
   {
    "duration": 87,
    "start_time": "2025-03-24T21:34:26.098Z"
   },
   {
    "duration": 36,
    "start_time": "2025-03-24T21:34:26.187Z"
   },
   {
    "duration": 14,
    "start_time": "2025-03-24T21:34:26.224Z"
   },
   {
    "duration": 3,
    "start_time": "2025-03-24T21:34:26.240Z"
   },
   {
    "duration": 16,
    "start_time": "2025-03-24T21:34:26.245Z"
   },
   {
    "duration": 10,
    "start_time": "2025-03-24T21:34:26.262Z"
   },
   {
    "duration": 802,
    "start_time": "2025-03-24T21:34:26.273Z"
   },
   {
    "duration": 44,
    "start_time": "2025-03-24T21:34:27.076Z"
   },
   {
    "duration": 4,
    "start_time": "2025-03-24T21:34:27.121Z"
   },
   {
    "duration": 4,
    "start_time": "2025-03-24T21:34:27.127Z"
   },
   {
    "duration": 3,
    "start_time": "2025-03-24T21:34:27.133Z"
   },
   {
    "duration": 4,
    "start_time": "2025-03-24T21:34:27.138Z"
   },
   {
    "duration": 3,
    "start_time": "2025-03-24T21:34:27.143Z"
   },
   {
    "duration": 3,
    "start_time": "2025-03-24T21:34:27.148Z"
   },
   {
    "duration": 3,
    "start_time": "2025-03-24T21:34:27.153Z"
   },
   {
    "duration": 3,
    "start_time": "2025-03-24T21:34:27.157Z"
   },
   {
    "duration": 3,
    "start_time": "2025-03-24T21:34:27.162Z"
   },
   {
    "duration": 5,
    "start_time": "2025-03-24T21:34:27.207Z"
   },
   {
    "duration": 37,
    "start_time": "2025-03-24T21:34:27.214Z"
   },
   {
    "duration": 2,
    "start_time": "2025-03-24T21:34:27.253Z"
   },
   {
    "duration": 3,
    "start_time": "2025-03-24T21:34:27.257Z"
   },
   {
    "duration": 4,
    "start_time": "2025-03-24T21:34:27.261Z"
   },
   {
    "duration": 3,
    "start_time": "2025-03-24T21:34:27.266Z"
   },
   {
    "duration": 4,
    "start_time": "2025-03-24T21:34:27.271Z"
   },
   {
    "duration": 8,
    "start_time": "2025-03-24T21:44:50.966Z"
   },
   {
    "duration": 7,
    "start_time": "2025-03-24T21:54:20.188Z"
   },
   {
    "duration": 4,
    "start_time": "2025-03-24T21:55:12.270Z"
   },
   {
    "duration": 4,
    "start_time": "2025-03-24T21:57:00.230Z"
   },
   {
    "duration": 391,
    "start_time": "2025-03-24T21:58:17.270Z"
   },
   {
    "duration": 889,
    "start_time": "2025-03-24T21:58:17.663Z"
   },
   {
    "duration": 13,
    "start_time": "2025-03-24T21:58:18.554Z"
   },
   {
    "duration": 10,
    "start_time": "2025-03-24T21:58:18.570Z"
   },
   {
    "duration": 40,
    "start_time": "2025-03-24T21:58:18.581Z"
   },
   {
    "duration": 8,
    "start_time": "2025-03-24T21:58:18.623Z"
   },
   {
    "duration": 9,
    "start_time": "2025-03-24T21:58:18.633Z"
   },
   {
    "duration": 101,
    "start_time": "2025-03-24T21:58:18.644Z"
   },
   {
    "duration": 11,
    "start_time": "2025-03-24T21:58:18.747Z"
   },
   {
    "duration": 193,
    "start_time": "2025-03-24T21:58:18.760Z"
   },
   {
    "duration": 91,
    "start_time": "2025-03-24T21:58:18.955Z"
   },
   {
    "duration": 29,
    "start_time": "2025-03-24T21:58:19.048Z"
   },
   {
    "duration": 30,
    "start_time": "2025-03-24T21:58:19.079Z"
   },
   {
    "duration": 4,
    "start_time": "2025-03-24T21:58:19.111Z"
   },
   {
    "duration": 16,
    "start_time": "2025-03-24T21:58:19.116Z"
   },
   {
    "duration": 9,
    "start_time": "2025-03-24T21:58:19.134Z"
   },
   {
    "duration": 777,
    "start_time": "2025-03-24T21:58:19.144Z"
   },
   {
    "duration": 36,
    "start_time": "2025-03-24T21:58:19.923Z"
   },
   {
    "duration": 4,
    "start_time": "2025-03-24T21:58:19.960Z"
   },
   {
    "duration": 5,
    "start_time": "2025-03-24T21:58:19.965Z"
   },
   {
    "duration": 4,
    "start_time": "2025-03-24T21:58:19.972Z"
   },
   {
    "duration": 29,
    "start_time": "2025-03-24T21:58:19.978Z"
   },
   {
    "duration": 7,
    "start_time": "2025-03-24T21:58:20.009Z"
   },
   {
    "duration": 2,
    "start_time": "2025-03-24T21:58:20.018Z"
   },
   {
    "duration": 2,
    "start_time": "2025-03-24T21:58:20.022Z"
   },
   {
    "duration": 6,
    "start_time": "2025-03-24T21:58:20.026Z"
   },
   {
    "duration": 3,
    "start_time": "2025-03-24T21:58:20.033Z"
   },
   {
    "duration": 4,
    "start_time": "2025-03-24T21:58:20.040Z"
   },
   {
    "duration": 72,
    "start_time": "2025-03-24T21:58:20.046Z"
   },
   {
    "duration": 2,
    "start_time": "2025-03-24T21:58:20.120Z"
   },
   {
    "duration": 3,
    "start_time": "2025-03-24T21:58:20.124Z"
   },
   {
    "duration": 3,
    "start_time": "2025-03-24T21:58:20.128Z"
   },
   {
    "duration": 3,
    "start_time": "2025-03-24T21:58:20.133Z"
   },
   {
    "duration": 4,
    "start_time": "2025-03-24T21:58:20.137Z"
   },
   {
    "duration": 461,
    "start_time": "2025-03-24T22:00:53.622Z"
   },
   {
    "duration": 918,
    "start_time": "2025-03-24T22:00:54.086Z"
   },
   {
    "duration": 16,
    "start_time": "2025-03-24T22:00:55.006Z"
   },
   {
    "duration": 11,
    "start_time": "2025-03-24T22:00:55.025Z"
   },
   {
    "duration": 24,
    "start_time": "2025-03-24T22:00:55.037Z"
   },
   {
    "duration": 10,
    "start_time": "2025-03-24T22:00:55.063Z"
   },
   {
    "duration": 39,
    "start_time": "2025-03-24T22:00:55.075Z"
   },
   {
    "duration": 94,
    "start_time": "2025-03-24T22:00:55.115Z"
   },
   {
    "duration": 10,
    "start_time": "2025-03-24T22:00:55.211Z"
   },
   {
    "duration": 188,
    "start_time": "2025-03-24T22:00:55.224Z"
   },
   {
    "duration": 101,
    "start_time": "2025-03-24T22:00:55.414Z"
   },
   {
    "duration": 28,
    "start_time": "2025-03-24T22:00:55.516Z"
   },
   {
    "duration": 12,
    "start_time": "2025-03-24T22:00:55.546Z"
   },
   {
    "duration": 4,
    "start_time": "2025-03-24T22:00:55.560Z"
   },
   {
    "duration": 47,
    "start_time": "2025-03-24T22:00:55.566Z"
   },
   {
    "duration": 11,
    "start_time": "2025-03-24T22:00:55.616Z"
   },
   {
    "duration": 751,
    "start_time": "2025-03-24T22:00:55.629Z"
   },
   {
    "duration": 44,
    "start_time": "2025-03-24T22:00:56.382Z"
   },
   {
    "duration": 3,
    "start_time": "2025-03-24T22:00:56.428Z"
   },
   {
    "duration": 4,
    "start_time": "2025-03-24T22:00:56.433Z"
   },
   {
    "duration": 4,
    "start_time": "2025-03-24T22:00:56.438Z"
   },
   {
    "duration": 4,
    "start_time": "2025-03-24T22:00:56.444Z"
   },
   {
    "duration": 9,
    "start_time": "2025-03-24T22:00:56.450Z"
   },
   {
    "duration": 2,
    "start_time": "2025-03-24T22:00:56.461Z"
   },
   {
    "duration": 4,
    "start_time": "2025-03-24T22:00:56.465Z"
   },
   {
    "duration": 8,
    "start_time": "2025-03-24T22:00:56.505Z"
   },
   {
    "duration": 10,
    "start_time": "2025-03-24T22:00:56.514Z"
   },
   {
    "duration": 6,
    "start_time": "2025-03-24T22:00:56.528Z"
   },
   {
    "duration": 34,
    "start_time": "2025-03-24T22:00:56.535Z"
   },
   {
    "duration": 3,
    "start_time": "2025-03-24T22:00:56.570Z"
   },
   {
    "duration": 2,
    "start_time": "2025-03-24T22:00:56.605Z"
   },
   {
    "duration": 3,
    "start_time": "2025-03-24T22:00:56.609Z"
   },
   {
    "duration": 4,
    "start_time": "2025-03-24T22:00:56.613Z"
   },
   {
    "duration": 5,
    "start_time": "2025-03-24T22:00:56.618Z"
   },
   {
    "duration": 16,
    "start_time": "2025-03-24T22:08:58.215Z"
   },
   {
    "duration": 24,
    "start_time": "2025-03-24T22:12:43.646Z"
   },
   {
    "duration": 34,
    "start_time": "2025-03-24T22:15:44.933Z"
   },
   {
    "duration": 4,
    "start_time": "2025-03-24T22:32:19.954Z"
   },
   {
    "duration": 501,
    "start_time": "2025-03-24T23:15:44.819Z"
   },
   {
    "duration": 44,
    "start_time": "2025-03-24T23:16:26.624Z"
   },
   {
    "duration": 45,
    "start_time": "2025-03-24T23:16:35.757Z"
   },
   {
    "duration": 411,
    "start_time": "2025-03-24T23:17:10.886Z"
   },
   {
    "duration": 914,
    "start_time": "2025-03-24T23:17:11.299Z"
   },
   {
    "duration": 15,
    "start_time": "2025-03-24T23:17:12.215Z"
   },
   {
    "duration": 11,
    "start_time": "2025-03-24T23:17:12.233Z"
   },
   {
    "duration": 24,
    "start_time": "2025-03-24T23:17:12.245Z"
   },
   {
    "duration": 10,
    "start_time": "2025-03-24T23:17:12.271Z"
   },
   {
    "duration": 8,
    "start_time": "2025-03-24T23:17:12.306Z"
   },
   {
    "duration": 100,
    "start_time": "2025-03-24T23:17:12.316Z"
   },
   {
    "duration": 14,
    "start_time": "2025-03-24T23:17:12.418Z"
   },
   {
    "duration": 181,
    "start_time": "2025-03-24T23:17:12.444Z"
   },
   {
    "duration": 94,
    "start_time": "2025-03-24T23:17:12.626Z"
   },
   {
    "duration": 25,
    "start_time": "2025-03-24T23:17:12.722Z"
   },
   {
    "duration": 13,
    "start_time": "2025-03-24T23:17:12.748Z"
   },
   {
    "duration": 3,
    "start_time": "2025-03-24T23:17:12.762Z"
   },
   {
    "duration": 46,
    "start_time": "2025-03-24T23:17:12.767Z"
   },
   {
    "duration": 11,
    "start_time": "2025-03-24T23:17:12.815Z"
   },
   {
    "duration": 790,
    "start_time": "2025-03-24T23:17:12.829Z"
   },
   {
    "duration": 37,
    "start_time": "2025-03-24T23:17:13.621Z"
   },
   {
    "duration": 3,
    "start_time": "2025-03-24T23:17:13.660Z"
   },
   {
    "duration": 4,
    "start_time": "2025-03-24T23:17:13.665Z"
   },
   {
    "duration": 6,
    "start_time": "2025-03-24T23:17:13.670Z"
   },
   {
    "duration": 32,
    "start_time": "2025-03-24T23:17:13.677Z"
   },
   {
    "duration": 8,
    "start_time": "2025-03-24T23:17:13.711Z"
   },
   {
    "duration": 2,
    "start_time": "2025-03-24T23:17:13.721Z"
   },
   {
    "duration": 3,
    "start_time": "2025-03-24T23:17:13.724Z"
   },
   {
    "duration": 6,
    "start_time": "2025-03-24T23:17:13.728Z"
   },
   {
    "duration": 9,
    "start_time": "2025-03-24T23:17:13.736Z"
   },
   {
    "duration": 6,
    "start_time": "2025-03-24T23:17:13.748Z"
   },
   {
    "duration": 77,
    "start_time": "2025-03-24T23:17:13.756Z"
   },
   {
    "duration": 25,
    "start_time": "2025-03-24T23:17:13.835Z"
   },
   {
    "duration": 51,
    "start_time": "2025-03-24T23:17:13.861Z"
   },
   {
    "duration": 5,
    "start_time": "2025-03-24T23:17:13.914Z"
   },
   {
    "duration": 5,
    "start_time": "2025-03-24T23:17:13.920Z"
   },
   {
    "duration": 3,
    "start_time": "2025-03-24T23:17:13.927Z"
   },
   {
    "duration": 420,
    "start_time": "2025-03-25T14:43:00.898Z"
   },
   {
    "duration": 899,
    "start_time": "2025-03-25T14:43:01.320Z"
   },
   {
    "duration": 14,
    "start_time": "2025-03-25T14:43:02.221Z"
   },
   {
    "duration": 10,
    "start_time": "2025-03-25T14:43:02.237Z"
   },
   {
    "duration": 25,
    "start_time": "2025-03-25T14:43:02.250Z"
   },
   {
    "duration": 30,
    "start_time": "2025-03-25T14:43:02.277Z"
   },
   {
    "duration": 9,
    "start_time": "2025-03-25T14:43:02.309Z"
   },
   {
    "duration": 106,
    "start_time": "2025-03-25T14:43:02.319Z"
   },
   {
    "duration": 14,
    "start_time": "2025-03-25T14:43:02.427Z"
   },
   {
    "duration": 197,
    "start_time": "2025-03-25T14:43:02.443Z"
   },
   {
    "duration": 110,
    "start_time": "2025-03-25T14:43:02.642Z"
   },
   {
    "duration": 29,
    "start_time": "2025-03-25T14:43:02.754Z"
   },
   {
    "duration": 26,
    "start_time": "2025-03-25T14:43:02.784Z"
   },
   {
    "duration": 3,
    "start_time": "2025-03-25T14:43:02.813Z"
   },
   {
    "duration": 16,
    "start_time": "2025-03-25T14:43:02.818Z"
   },
   {
    "duration": 7,
    "start_time": "2025-03-25T14:43:02.835Z"
   },
   {
    "duration": 787,
    "start_time": "2025-03-25T14:43:02.844Z"
   },
   {
    "duration": 34,
    "start_time": "2025-03-25T14:43:03.633Z"
   },
   {
    "duration": 3,
    "start_time": "2025-03-25T14:43:03.669Z"
   },
   {
    "duration": 4,
    "start_time": "2025-03-25T14:43:03.674Z"
   },
   {
    "duration": 4,
    "start_time": "2025-03-25T14:43:03.679Z"
   },
   {
    "duration": 5,
    "start_time": "2025-03-25T14:43:03.706Z"
   },
   {
    "duration": 8,
    "start_time": "2025-03-25T14:43:03.712Z"
   },
   {
    "duration": 2,
    "start_time": "2025-03-25T14:43:03.721Z"
   },
   {
    "duration": 3,
    "start_time": "2025-03-25T14:43:03.725Z"
   },
   {
    "duration": 7,
    "start_time": "2025-03-25T14:43:03.729Z"
   },
   {
    "duration": 9,
    "start_time": "2025-03-25T14:43:03.737Z"
   },
   {
    "duration": 5,
    "start_time": "2025-03-25T14:43:03.747Z"
   },
   {
    "duration": 70,
    "start_time": "2025-03-25T14:43:03.755Z"
   },
   {
    "duration": 24,
    "start_time": "2025-03-25T14:43:03.827Z"
   },
   {
    "duration": 30,
    "start_time": "2025-03-25T14:43:03.853Z"
   },
   {
    "duration": 21,
    "start_time": "2025-03-25T14:43:03.885Z"
   },
   {
    "duration": 28,
    "start_time": "2025-03-25T14:43:03.909Z"
   },
   {
    "duration": 4,
    "start_time": "2025-03-25T14:43:03.939Z"
   },
   {
    "duration": 417,
    "start_time": "2025-03-25T15:15:08.264Z"
   },
   {
    "duration": 915,
    "start_time": "2025-03-25T15:15:08.683Z"
   },
   {
    "duration": 17,
    "start_time": "2025-03-25T15:15:09.600Z"
   },
   {
    "duration": 10,
    "start_time": "2025-03-25T15:15:09.619Z"
   },
   {
    "duration": 25,
    "start_time": "2025-03-25T15:15:09.632Z"
   },
   {
    "duration": 9,
    "start_time": "2025-03-25T15:15:09.659Z"
   },
   {
    "duration": 9,
    "start_time": "2025-03-25T15:15:09.669Z"
   },
   {
    "duration": 89,
    "start_time": "2025-03-25T15:15:09.706Z"
   },
   {
    "duration": 12,
    "start_time": "2025-03-25T15:15:09.805Z"
   },
   {
    "duration": 197,
    "start_time": "2025-03-25T15:15:09.818Z"
   },
   {
    "duration": 88,
    "start_time": "2025-03-25T15:15:10.017Z"
   },
   {
    "duration": 26,
    "start_time": "2025-03-25T15:15:10.107Z"
   },
   {
    "duration": 12,
    "start_time": "2025-03-25T15:15:10.135Z"
   },
   {
    "duration": 3,
    "start_time": "2025-03-25T15:15:10.151Z"
   },
   {
    "duration": 16,
    "start_time": "2025-03-25T15:15:10.156Z"
   },
   {
    "duration": 38,
    "start_time": "2025-03-25T15:15:10.173Z"
   },
   {
    "duration": 779,
    "start_time": "2025-03-25T15:15:10.212Z"
   },
   {
    "duration": 40,
    "start_time": "2025-03-25T15:15:10.993Z"
   },
   {
    "duration": 4,
    "start_time": "2025-03-25T15:15:11.035Z"
   },
   {
    "duration": 5,
    "start_time": "2025-03-25T15:15:11.041Z"
   },
   {
    "duration": 5,
    "start_time": "2025-03-25T15:15:11.047Z"
   },
   {
    "duration": 4,
    "start_time": "2025-03-25T15:15:11.053Z"
   },
   {
    "duration": 8,
    "start_time": "2025-03-25T15:15:11.059Z"
   },
   {
    "duration": 2,
    "start_time": "2025-03-25T15:15:11.069Z"
   },
   {
    "duration": 3,
    "start_time": "2025-03-25T15:15:11.105Z"
   },
   {
    "duration": 6,
    "start_time": "2025-03-25T15:15:11.110Z"
   },
   {
    "duration": 8,
    "start_time": "2025-03-25T15:15:11.118Z"
   },
   {
    "duration": 5,
    "start_time": "2025-03-25T15:15:11.128Z"
   },
   {
    "duration": 34,
    "start_time": "2025-03-25T15:15:11.134Z"
   },
   {
    "duration": 57,
    "start_time": "2025-03-25T15:15:11.170Z"
   },
   {
    "duration": 33,
    "start_time": "2025-03-25T15:15:11.228Z"
   },
   {
    "duration": 4,
    "start_time": "2025-03-25T15:15:11.263Z"
   },
   {
    "duration": 54,
    "start_time": "2025-03-25T15:15:11.269Z"
   },
   {
    "duration": 2,
    "start_time": "2025-03-25T15:15:11.325Z"
   },
   {
    "duration": 28,
    "start_time": "2025-03-25T15:34:46.116Z"
   },
   {
    "duration": 28,
    "start_time": "2025-03-25T15:35:59.059Z"
   },
   {
    "duration": 28,
    "start_time": "2025-03-25T15:36:10.091Z"
   },
   {
    "duration": 31,
    "start_time": "2025-03-25T15:37:12.802Z"
   },
   {
    "duration": 39,
    "start_time": "2025-03-25T15:43:52.038Z"
   },
   {
    "duration": 29,
    "start_time": "2025-03-25T15:45:34.185Z"
   },
   {
    "duration": 34,
    "start_time": "2025-03-25T15:46:25.667Z"
   },
   {
    "duration": 30,
    "start_time": "2025-03-25T15:46:53.694Z"
   },
   {
    "duration": 39,
    "start_time": "2025-03-25T15:47:33.134Z"
   },
   {
    "duration": 37,
    "start_time": "2025-03-25T15:48:01.883Z"
   },
   {
    "duration": 31,
    "start_time": "2025-03-25T15:49:25.816Z"
   },
   {
    "duration": 7,
    "start_time": "2025-03-25T15:49:37.701Z"
   },
   {
    "duration": 35,
    "start_time": "2025-03-25T15:49:44.532Z"
   },
   {
    "duration": 19,
    "start_time": "2025-03-25T15:57:41.597Z"
   },
   {
    "duration": 315,
    "start_time": "2025-03-25T16:00:34.742Z"
   },
   {
    "duration": 26,
    "start_time": "2025-03-25T16:00:45.116Z"
   },
   {
    "duration": 27,
    "start_time": "2025-03-25T16:01:21.445Z"
   },
   {
    "duration": 28,
    "start_time": "2025-03-25T16:02:02.193Z"
   },
   {
    "duration": 32,
    "start_time": "2025-03-25T16:03:17.378Z"
   },
   {
    "duration": 453,
    "start_time": "2025-03-25T16:03:23.521Z"
   },
   {
    "duration": 912,
    "start_time": "2025-03-25T16:03:23.976Z"
   },
   {
    "duration": 13,
    "start_time": "2025-03-25T16:03:24.889Z"
   },
   {
    "duration": 13,
    "start_time": "2025-03-25T16:03:24.905Z"
   },
   {
    "duration": 26,
    "start_time": "2025-03-25T16:03:24.920Z"
   },
   {
    "duration": 10,
    "start_time": "2025-03-25T16:03:24.948Z"
   },
   {
    "duration": 9,
    "start_time": "2025-03-25T16:03:24.960Z"
   },
   {
    "duration": 122,
    "start_time": "2025-03-25T16:03:24.971Z"
   },
   {
    "duration": 14,
    "start_time": "2025-03-25T16:03:25.095Z"
   },
   {
    "duration": 183,
    "start_time": "2025-03-25T16:03:25.113Z"
   },
   {
    "duration": 99,
    "start_time": "2025-03-25T16:03:25.298Z"
   },
   {
    "duration": 27,
    "start_time": "2025-03-25T16:03:25.406Z"
   },
   {
    "duration": 12,
    "start_time": "2025-03-25T16:03:25.435Z"
   },
   {
    "duration": 3,
    "start_time": "2025-03-25T16:03:25.449Z"
   },
   {
    "duration": 16,
    "start_time": "2025-03-25T16:03:25.453Z"
   },
   {
    "duration": 43,
    "start_time": "2025-03-25T16:03:25.471Z"
   },
   {
    "duration": 759,
    "start_time": "2025-03-25T16:03:25.515Z"
   },
   {
    "duration": 44,
    "start_time": "2025-03-25T16:03:26.276Z"
   },
   {
    "duration": 6,
    "start_time": "2025-03-25T16:03:26.322Z"
   },
   {
    "duration": 5,
    "start_time": "2025-03-25T16:03:26.329Z"
   },
   {
    "duration": 3,
    "start_time": "2025-03-25T16:03:26.336Z"
   },
   {
    "duration": 4,
    "start_time": "2025-03-25T16:03:26.341Z"
   },
   {
    "duration": 7,
    "start_time": "2025-03-25T16:03:26.347Z"
   },
   {
    "duration": 2,
    "start_time": "2025-03-25T16:03:26.356Z"
   },
   {
    "duration": 3,
    "start_time": "2025-03-25T16:03:26.359Z"
   },
   {
    "duration": 43,
    "start_time": "2025-03-25T16:03:26.364Z"
   },
   {
    "duration": 9,
    "start_time": "2025-03-25T16:03:26.409Z"
   },
   {
    "duration": 5,
    "start_time": "2025-03-25T16:03:26.421Z"
   },
   {
    "duration": 35,
    "start_time": "2025-03-25T16:03:26.428Z"
   },
   {
    "duration": 49,
    "start_time": "2025-03-25T16:03:26.465Z"
   },
   {
    "duration": 30,
    "start_time": "2025-03-25T16:03:26.516Z"
   },
   {
    "duration": 4,
    "start_time": "2025-03-25T16:03:26.548Z"
   },
   {
    "duration": 57,
    "start_time": "2025-03-25T16:03:26.554Z"
   },
   {
    "duration": 54,
    "start_time": "2025-03-25T16:03:26.612Z"
   },
   {
    "duration": 5,
    "start_time": "2025-03-25T16:20:40.994Z"
   },
   {
    "duration": 131,
    "start_time": "2025-03-25T17:19:04.593Z"
   },
   {
    "duration": 115,
    "start_time": "2025-03-25T17:21:58.164Z"
   },
   {
    "duration": 118,
    "start_time": "2025-03-25T17:31:05.919Z"
   },
   {
    "duration": 117,
    "start_time": "2025-03-25T17:32:38.480Z"
   },
   {
    "duration": 116,
    "start_time": "2025-03-25T17:32:41.878Z"
   },
   {
    "duration": 114,
    "start_time": "2025-03-25T17:33:00.479Z"
   },
   {
    "duration": 453,
    "start_time": "2025-03-25T18:05:49.730Z"
   },
   {
    "duration": 924,
    "start_time": "2025-03-25T18:05:50.184Z"
   },
   {
    "duration": 12,
    "start_time": "2025-03-25T18:05:51.110Z"
   },
   {
    "duration": 10,
    "start_time": "2025-03-25T18:05:51.125Z"
   },
   {
    "duration": 23,
    "start_time": "2025-03-25T18:05:51.136Z"
   },
   {
    "duration": 8,
    "start_time": "2025-03-25T18:05:51.161Z"
   },
   {
    "duration": 35,
    "start_time": "2025-03-25T18:05:51.171Z"
   },
   {
    "duration": 89,
    "start_time": "2025-03-25T18:05:51.207Z"
   },
   {
    "duration": 11,
    "start_time": "2025-03-25T18:05:51.305Z"
   },
   {
    "duration": 198,
    "start_time": "2025-03-25T18:05:51.319Z"
   },
   {
    "duration": 110,
    "start_time": "2025-03-25T18:05:51.519Z"
   },
   {
    "duration": 33,
    "start_time": "2025-03-25T18:05:51.630Z"
   },
   {
    "duration": 14,
    "start_time": "2025-03-25T18:05:51.665Z"
   },
   {
    "duration": 5,
    "start_time": "2025-03-25T18:05:51.681Z"
   },
   {
    "duration": 18,
    "start_time": "2025-03-25T18:05:51.707Z"
   },
   {
    "duration": 8,
    "start_time": "2025-03-25T18:05:51.727Z"
   },
   {
    "duration": 868,
    "start_time": "2025-03-25T18:05:51.737Z"
   },
   {
    "duration": 44,
    "start_time": "2025-03-25T18:05:52.608Z"
   },
   {
    "duration": 4,
    "start_time": "2025-03-25T18:05:52.653Z"
   },
   {
    "duration": 5,
    "start_time": "2025-03-25T18:05:52.660Z"
   },
   {
    "duration": 4,
    "start_time": "2025-03-25T18:05:52.667Z"
   },
   {
    "duration": 33,
    "start_time": "2025-03-25T18:05:52.673Z"
   },
   {
    "duration": 9,
    "start_time": "2025-03-25T18:05:52.707Z"
   },
   {
    "duration": 2,
    "start_time": "2025-03-25T18:05:52.720Z"
   },
   {
    "duration": 2,
    "start_time": "2025-03-25T18:05:52.724Z"
   },
   {
    "duration": 6,
    "start_time": "2025-03-25T18:05:52.728Z"
   },
   {
    "duration": 8,
    "start_time": "2025-03-25T18:05:52.735Z"
   },
   {
    "duration": 5,
    "start_time": "2025-03-25T18:05:52.747Z"
   },
   {
    "duration": 73,
    "start_time": "2025-03-25T18:05:52.754Z"
   },
   {
    "duration": 24,
    "start_time": "2025-03-25T18:05:52.830Z"
   },
   {
    "duration": 31,
    "start_time": "2025-03-25T18:05:52.855Z"
   },
   {
    "duration": 5,
    "start_time": "2025-03-25T18:05:52.906Z"
   },
   {
    "duration": 36,
    "start_time": "2025-03-25T18:05:52.912Z"
   },
   {
    "duration": 76,
    "start_time": "2025-03-25T18:05:52.950Z"
   },
   {
    "duration": 5,
    "start_time": "2025-03-25T18:05:53.028Z"
   },
   {
    "duration": 148,
    "start_time": "2025-03-25T18:05:53.035Z"
   },
   {
    "duration": 124,
    "start_time": "2025-03-25T18:05:53.185Z"
   },
   {
    "duration": 134,
    "start_time": "2025-03-25T18:05:53.311Z"
   },
   {
    "duration": 433,
    "start_time": "2025-03-25T18:13:57.842Z"
   },
   {
    "duration": 919,
    "start_time": "2025-03-25T18:13:58.277Z"
   },
   {
    "duration": 14,
    "start_time": "2025-03-25T18:13:59.198Z"
   },
   {
    "duration": 10,
    "start_time": "2025-03-25T18:13:59.215Z"
   },
   {
    "duration": 26,
    "start_time": "2025-03-25T18:13:59.226Z"
   },
   {
    "duration": 10,
    "start_time": "2025-03-25T18:13:59.254Z"
   },
   {
    "duration": 39,
    "start_time": "2025-03-25T18:13:59.265Z"
   },
   {
    "duration": 87,
    "start_time": "2025-03-25T18:13:59.306Z"
   },
   {
    "duration": 18,
    "start_time": "2025-03-25T18:13:59.395Z"
   },
   {
    "duration": 191,
    "start_time": "2025-03-25T18:13:59.417Z"
   },
   {
    "duration": 94,
    "start_time": "2025-03-25T18:13:59.611Z"
   },
   {
    "duration": 29,
    "start_time": "2025-03-25T18:13:59.707Z"
   },
   {
    "duration": 13,
    "start_time": "2025-03-25T18:13:59.738Z"
   },
   {
    "duration": 3,
    "start_time": "2025-03-25T18:13:59.753Z"
   },
   {
    "duration": 16,
    "start_time": "2025-03-25T18:13:59.758Z"
   },
   {
    "duration": 33,
    "start_time": "2025-03-25T18:13:59.776Z"
   },
   {
    "duration": 759,
    "start_time": "2025-03-25T18:13:59.811Z"
   },
   {
    "duration": 43,
    "start_time": "2025-03-25T18:14:00.572Z"
   },
   {
    "duration": 4,
    "start_time": "2025-03-25T18:14:00.618Z"
   },
   {
    "duration": 5,
    "start_time": "2025-03-25T18:14:00.624Z"
   },
   {
    "duration": 4,
    "start_time": "2025-03-25T18:14:00.630Z"
   },
   {
    "duration": 4,
    "start_time": "2025-03-25T18:14:00.635Z"
   },
   {
    "duration": 9,
    "start_time": "2025-03-25T18:14:00.641Z"
   },
   {
    "duration": 2,
    "start_time": "2025-03-25T18:14:00.651Z"
   },
   {
    "duration": 3,
    "start_time": "2025-03-25T18:14:00.655Z"
   },
   {
    "duration": 47,
    "start_time": "2025-03-25T18:14:00.660Z"
   },
   {
    "duration": 9,
    "start_time": "2025-03-25T18:14:00.709Z"
   },
   {
    "duration": 5,
    "start_time": "2025-03-25T18:14:00.723Z"
   },
   {
    "duration": 39,
    "start_time": "2025-03-25T18:14:00.730Z"
   },
   {
    "duration": 49,
    "start_time": "2025-03-25T18:14:00.772Z"
   },
   {
    "duration": 32,
    "start_time": "2025-03-25T18:14:00.823Z"
   },
   {
    "duration": 5,
    "start_time": "2025-03-25T18:14:00.857Z"
   },
   {
    "duration": 57,
    "start_time": "2025-03-25T18:14:00.863Z"
   },
   {
    "duration": 54,
    "start_time": "2025-03-25T18:14:00.922Z"
   },
   {
    "duration": 5,
    "start_time": "2025-03-25T18:14:00.978Z"
   },
   {
    "duration": 154,
    "start_time": "2025-03-25T18:14:00.985Z"
   },
   {
    "duration": 126,
    "start_time": "2025-03-25T18:14:01.141Z"
   },
   {
    "duration": 138,
    "start_time": "2025-03-25T18:14:01.269Z"
   },
   {
    "duration": 429,
    "start_time": "2025-03-25T20:00:06.968Z"
   },
   {
    "duration": 915,
    "start_time": "2025-03-25T20:00:07.399Z"
   },
   {
    "duration": 14,
    "start_time": "2025-03-25T20:00:08.316Z"
   },
   {
    "duration": 10,
    "start_time": "2025-03-25T20:00:08.332Z"
   },
   {
    "duration": 24,
    "start_time": "2025-03-25T20:00:08.344Z"
   },
   {
    "duration": 10,
    "start_time": "2025-03-25T20:00:08.370Z"
   },
   {
    "duration": 8,
    "start_time": "2025-03-25T20:00:08.405Z"
   },
   {
    "duration": 99,
    "start_time": "2025-03-25T20:00:08.414Z"
   },
   {
    "duration": 11,
    "start_time": "2025-03-25T20:00:08.515Z"
   },
   {
    "duration": 187,
    "start_time": "2025-03-25T20:00:08.528Z"
   },
   {
    "duration": 98,
    "start_time": "2025-03-25T20:00:08.719Z"
   },
   {
    "duration": 31,
    "start_time": "2025-03-25T20:00:08.819Z"
   },
   {
    "duration": 14,
    "start_time": "2025-03-25T20:00:08.852Z"
   },
   {
    "duration": 4,
    "start_time": "2025-03-25T20:00:08.868Z"
   },
   {
    "duration": 46,
    "start_time": "2025-03-25T20:00:08.873Z"
   },
   {
    "duration": 11,
    "start_time": "2025-03-25T20:00:08.921Z"
   },
   {
    "duration": 789,
    "start_time": "2025-03-25T20:00:08.933Z"
   },
   {
    "duration": 45,
    "start_time": "2025-03-25T20:00:09.723Z"
   },
   {
    "duration": 7,
    "start_time": "2025-03-25T20:00:09.770Z"
   },
   {
    "duration": 5,
    "start_time": "2025-03-25T20:00:09.778Z"
   },
   {
    "duration": 24,
    "start_time": "2025-03-25T20:00:09.784Z"
   },
   {
    "duration": 6,
    "start_time": "2025-03-25T20:00:09.810Z"
   },
   {
    "duration": 10,
    "start_time": "2025-03-25T20:00:09.817Z"
   },
   {
    "duration": 2,
    "start_time": "2025-03-25T20:00:09.829Z"
   },
   {
    "duration": 2,
    "start_time": "2025-03-25T20:00:09.833Z"
   },
   {
    "duration": 7,
    "start_time": "2025-03-25T20:00:09.836Z"
   },
   {
    "duration": 8,
    "start_time": "2025-03-25T20:00:09.845Z"
   },
   {
    "duration": 7,
    "start_time": "2025-03-25T20:00:09.858Z"
   },
   {
    "duration": 74,
    "start_time": "2025-03-25T20:00:09.866Z"
   },
   {
    "duration": 25,
    "start_time": "2025-03-25T20:00:09.942Z"
   },
   {
    "duration": 57,
    "start_time": "2025-03-25T20:00:09.969Z"
   },
   {
    "duration": 4,
    "start_time": "2025-03-25T20:00:10.027Z"
   },
   {
    "duration": 35,
    "start_time": "2025-03-25T20:00:10.033Z"
   },
   {
    "duration": 80,
    "start_time": "2025-03-25T20:00:10.070Z"
   },
   {
    "duration": 5,
    "start_time": "2025-03-25T20:00:10.152Z"
   },
   {
    "duration": 144,
    "start_time": "2025-03-25T20:00:10.158Z"
   },
   {
    "duration": 135,
    "start_time": "2025-03-25T20:00:10.305Z"
   },
   {
    "duration": 131,
    "start_time": "2025-03-25T20:00:10.443Z"
   },
   {
    "duration": 234,
    "start_time": "2025-03-25T20:00:10.576Z"
   },
   {
    "duration": 246,
    "start_time": "2025-03-25T20:01:11.502Z"
   },
   {
    "duration": 224,
    "start_time": "2025-03-25T20:01:29.373Z"
   },
   {
    "duration": 450,
    "start_time": "2025-03-25T22:21:13.874Z"
   },
   {
    "duration": 944,
    "start_time": "2025-03-25T22:21:14.326Z"
   },
   {
    "duration": 16,
    "start_time": "2025-03-25T22:21:15.272Z"
   },
   {
    "duration": 21,
    "start_time": "2025-03-25T22:21:15.290Z"
   },
   {
    "duration": 28,
    "start_time": "2025-03-25T22:21:15.313Z"
   },
   {
    "duration": 9,
    "start_time": "2025-03-25T22:21:15.343Z"
   },
   {
    "duration": 9,
    "start_time": "2025-03-25T22:21:15.356Z"
   },
   {
    "duration": 135,
    "start_time": "2025-03-25T22:21:15.367Z"
   },
   {
    "duration": 12,
    "start_time": "2025-03-25T22:21:15.505Z"
   },
   {
    "duration": 230,
    "start_time": "2025-03-25T22:21:15.521Z"
   },
   {
    "duration": 108,
    "start_time": "2025-03-25T22:21:15.753Z"
   },
   {
    "duration": 32,
    "start_time": "2025-03-25T22:21:15.862Z"
   },
   {
    "duration": 15,
    "start_time": "2025-03-25T22:21:15.905Z"
   },
   {
    "duration": 3,
    "start_time": "2025-03-25T22:21:15.922Z"
   },
   {
    "duration": 19,
    "start_time": "2025-03-25T22:21:15.928Z"
   },
   {
    "duration": 10,
    "start_time": "2025-03-25T22:21:15.949Z"
   },
   {
    "duration": 817,
    "start_time": "2025-03-25T22:21:15.961Z"
   },
   {
    "duration": 57,
    "start_time": "2025-03-25T22:21:16.780Z"
   },
   {
    "duration": 4,
    "start_time": "2025-03-25T22:21:16.839Z"
   },
   {
    "duration": 5,
    "start_time": "2025-03-25T22:21:16.844Z"
   },
   {
    "duration": 3,
    "start_time": "2025-03-25T22:21:16.851Z"
   },
   {
    "duration": 6,
    "start_time": "2025-03-25T22:21:16.856Z"
   },
   {
    "duration": 8,
    "start_time": "2025-03-25T22:21:16.863Z"
   },
   {
    "duration": 2,
    "start_time": "2025-03-25T22:21:16.872Z"
   },
   {
    "duration": 31,
    "start_time": "2025-03-25T22:21:16.875Z"
   },
   {
    "duration": 6,
    "start_time": "2025-03-25T22:21:16.908Z"
   },
   {
    "duration": 8,
    "start_time": "2025-03-25T22:21:16.916Z"
   },
   {
    "duration": 5,
    "start_time": "2025-03-25T22:21:16.928Z"
   },
   {
    "duration": 34,
    "start_time": "2025-03-25T22:21:16.935Z"
   },
   {
    "duration": 55,
    "start_time": "2025-03-25T22:21:16.971Z"
   },
   {
    "duration": 34,
    "start_time": "2025-03-25T22:21:17.028Z"
   },
   {
    "duration": 4,
    "start_time": "2025-03-25T22:21:17.064Z"
   },
   {
    "duration": 58,
    "start_time": "2025-03-25T22:21:17.070Z"
   },
   {
    "duration": 56,
    "start_time": "2025-03-25T22:21:17.129Z"
   },
   {
    "duration": 18,
    "start_time": "2025-03-25T22:21:17.187Z"
   },
   {
    "duration": 143,
    "start_time": "2025-03-25T22:21:17.207Z"
   },
   {
    "duration": 120,
    "start_time": "2025-03-25T22:21:17.352Z"
   },
   {
    "duration": 133,
    "start_time": "2025-03-25T22:21:17.474Z"
   },
   {
    "duration": 255,
    "start_time": "2025-03-25T22:21:17.609Z"
   },
   {
    "duration": 6,
    "start_time": "2025-03-25T22:21:17.866Z"
   },
   {
    "duration": 449,
    "start_time": "2025-03-25T22:21:29.676Z"
   },
   {
    "duration": 926,
    "start_time": "2025-03-25T22:21:30.127Z"
   },
   {
    "duration": 16,
    "start_time": "2025-03-25T22:21:31.054Z"
   },
   {
    "duration": 10,
    "start_time": "2025-03-25T22:21:31.073Z"
   },
   {
    "duration": 41,
    "start_time": "2025-03-25T22:21:31.085Z"
   },
   {
    "duration": 9,
    "start_time": "2025-03-25T22:21:31.128Z"
   },
   {
    "duration": 9,
    "start_time": "2025-03-25T22:21:31.138Z"
   },
   {
    "duration": 120,
    "start_time": "2025-03-25T22:21:31.148Z"
   },
   {
    "duration": 13,
    "start_time": "2025-03-25T22:21:31.272Z"
   },
   {
    "duration": 193,
    "start_time": "2025-03-25T22:21:31.290Z"
   },
   {
    "duration": 100,
    "start_time": "2025-03-25T22:21:31.485Z"
   },
   {
    "duration": 31,
    "start_time": "2025-03-25T22:21:31.588Z"
   },
   {
    "duration": 14,
    "start_time": "2025-03-25T22:21:31.620Z"
   },
   {
    "duration": 3,
    "start_time": "2025-03-25T22:21:31.635Z"
   },
   {
    "duration": 16,
    "start_time": "2025-03-25T22:21:31.640Z"
   },
   {
    "duration": 10,
    "start_time": "2025-03-25T22:21:31.657Z"
   },
   {
    "duration": 802,
    "start_time": "2025-03-25T22:21:31.668Z"
   },
   {
    "duration": 46,
    "start_time": "2025-03-25T22:21:32.472Z"
   },
   {
    "duration": 5,
    "start_time": "2025-03-25T22:21:32.520Z"
   },
   {
    "duration": 5,
    "start_time": "2025-03-25T22:21:32.528Z"
   },
   {
    "duration": 5,
    "start_time": "2025-03-25T22:21:32.534Z"
   },
   {
    "duration": 4,
    "start_time": "2025-03-25T22:21:32.540Z"
   },
   {
    "duration": 8,
    "start_time": "2025-03-25T22:21:32.546Z"
   },
   {
    "duration": 2,
    "start_time": "2025-03-25T22:21:32.555Z"
   },
   {
    "duration": 2,
    "start_time": "2025-03-25T22:21:32.559Z"
   },
   {
    "duration": 45,
    "start_time": "2025-03-25T22:21:32.563Z"
   },
   {
    "duration": 11,
    "start_time": "2025-03-25T22:21:32.610Z"
   },
   {
    "duration": 5,
    "start_time": "2025-03-25T22:21:32.625Z"
   },
   {
    "duration": 38,
    "start_time": "2025-03-25T22:21:32.632Z"
   },
   {
    "duration": 51,
    "start_time": "2025-03-25T22:21:32.672Z"
   },
   {
    "duration": 31,
    "start_time": "2025-03-25T22:21:32.725Z"
   },
   {
    "duration": 3,
    "start_time": "2025-03-25T22:21:32.760Z"
   },
   {
    "duration": 59,
    "start_time": "2025-03-25T22:21:32.765Z"
   },
   {
    "duration": 55,
    "start_time": "2025-03-25T22:21:32.826Z"
   },
   {
    "duration": 22,
    "start_time": "2025-03-25T22:21:32.883Z"
   },
   {
    "duration": 139,
    "start_time": "2025-03-25T22:21:32.907Z"
   },
   {
    "duration": 127,
    "start_time": "2025-03-25T22:21:33.048Z"
   },
   {
    "duration": 148,
    "start_time": "2025-03-25T22:21:33.177Z"
   },
   {
    "duration": 266,
    "start_time": "2025-03-25T22:21:33.327Z"
   },
   {
    "duration": 138,
    "start_time": "2025-03-25T22:21:33.595Z"
   },
   {
    "duration": 449,
    "start_time": "2025-03-25T22:21:56.117Z"
   },
   {
    "duration": 938,
    "start_time": "2025-03-25T22:21:56.568Z"
   },
   {
    "duration": 14,
    "start_time": "2025-03-25T22:21:57.508Z"
   },
   {
    "duration": 11,
    "start_time": "2025-03-25T22:21:57.525Z"
   },
   {
    "duration": 26,
    "start_time": "2025-03-25T22:21:57.537Z"
   },
   {
    "duration": 8,
    "start_time": "2025-03-25T22:21:57.565Z"
   },
   {
    "duration": 36,
    "start_time": "2025-03-25T22:21:57.576Z"
   },
   {
    "duration": 102,
    "start_time": "2025-03-25T22:21:57.614Z"
   },
   {
    "duration": 10,
    "start_time": "2025-03-25T22:21:57.718Z"
   },
   {
    "duration": 184,
    "start_time": "2025-03-25T22:21:57.731Z"
   },
   {
    "duration": 94,
    "start_time": "2025-03-25T22:21:57.917Z"
   },
   {
    "duration": 26,
    "start_time": "2025-03-25T22:21:58.013Z"
   },
   {
    "duration": 13,
    "start_time": "2025-03-25T22:21:58.041Z"
   },
   {
    "duration": 4,
    "start_time": "2025-03-25T22:21:58.055Z"
   },
   {
    "duration": 16,
    "start_time": "2025-03-25T22:21:58.060Z"
   },
   {
    "duration": 8,
    "start_time": "2025-03-25T22:21:58.105Z"
   },
   {
    "duration": 821,
    "start_time": "2025-03-25T22:21:58.114Z"
   },
   {
    "duration": 35,
    "start_time": "2025-03-25T22:21:58.937Z"
   },
   {
    "duration": 4,
    "start_time": "2025-03-25T22:21:58.974Z"
   },
   {
    "duration": 26,
    "start_time": "2025-03-25T22:21:58.980Z"
   },
   {
    "duration": 5,
    "start_time": "2025-03-25T22:21:59.008Z"
   },
   {
    "duration": 5,
    "start_time": "2025-03-25T22:21:59.014Z"
   },
   {
    "duration": 8,
    "start_time": "2025-03-25T22:21:59.020Z"
   },
   {
    "duration": 2,
    "start_time": "2025-03-25T22:21:59.030Z"
   },
   {
    "duration": 3,
    "start_time": "2025-03-25T22:21:59.034Z"
   },
   {
    "duration": 6,
    "start_time": "2025-03-25T22:21:59.038Z"
   },
   {
    "duration": 10,
    "start_time": "2025-03-25T22:21:59.046Z"
   },
   {
    "duration": 45,
    "start_time": "2025-03-25T22:21:59.061Z"
   },
   {
    "duration": 36,
    "start_time": "2025-03-25T22:21:59.108Z"
   },
   {
    "duration": 25,
    "start_time": "2025-03-25T22:21:59.147Z"
   },
   {
    "duration": 53,
    "start_time": "2025-03-25T22:21:59.175Z"
   },
   {
    "duration": 4,
    "start_time": "2025-03-25T22:21:59.230Z"
   },
   {
    "duration": 36,
    "start_time": "2025-03-25T22:21:59.236Z"
   },
   {
    "duration": 81,
    "start_time": "2025-03-25T22:21:59.274Z"
   },
   {
    "duration": 5,
    "start_time": "2025-03-25T22:21:59.357Z"
   },
   {
    "duration": 152,
    "start_time": "2025-03-25T22:21:59.363Z"
   },
   {
    "duration": 132,
    "start_time": "2025-03-25T22:21:59.517Z"
   },
   {
    "duration": 132,
    "start_time": "2025-03-25T22:21:59.651Z"
   },
   {
    "duration": 237,
    "start_time": "2025-03-25T22:21:59.785Z"
   },
   {
    "duration": 129,
    "start_time": "2025-03-25T22:22:00.024Z"
   },
   {
    "duration": 476,
    "start_time": "2025-03-25T23:20:58.032Z"
   },
   {
    "duration": 939,
    "start_time": "2025-03-25T23:20:58.510Z"
   },
   {
    "duration": 18,
    "start_time": "2025-03-25T23:20:59.451Z"
   },
   {
    "duration": 12,
    "start_time": "2025-03-25T23:20:59.472Z"
   },
   {
    "duration": 39,
    "start_time": "2025-03-25T23:20:59.485Z"
   },
   {
    "duration": 10,
    "start_time": "2025-03-25T23:20:59.526Z"
   },
   {
    "duration": 9,
    "start_time": "2025-03-25T23:20:59.538Z"
   },
   {
    "duration": 108,
    "start_time": "2025-03-25T23:20:59.548Z"
   },
   {
    "duration": 11,
    "start_time": "2025-03-25T23:20:59.658Z"
   },
   {
    "duration": 199,
    "start_time": "2025-03-25T23:20:59.671Z"
   },
   {
    "duration": 98,
    "start_time": "2025-03-25T23:20:59.872Z"
   },
   {
    "duration": 33,
    "start_time": "2025-03-25T23:20:59.972Z"
   },
   {
    "duration": 14,
    "start_time": "2025-03-25T23:21:00.007Z"
   },
   {
    "duration": 4,
    "start_time": "2025-03-25T23:21:00.022Z"
   },
   {
    "duration": 15,
    "start_time": "2025-03-25T23:21:00.028Z"
   },
   {
    "duration": 8,
    "start_time": "2025-03-25T23:21:00.045Z"
   },
   {
    "duration": 794,
    "start_time": "2025-03-25T23:21:00.055Z"
   },
   {
    "duration": 37,
    "start_time": "2025-03-25T23:21:00.851Z"
   },
   {
    "duration": 16,
    "start_time": "2025-03-25T23:21:00.889Z"
   },
   {
    "duration": 3,
    "start_time": "2025-03-25T23:21:00.907Z"
   },
   {
    "duration": 4,
    "start_time": "2025-03-25T23:21:00.912Z"
   },
   {
    "duration": 5,
    "start_time": "2025-03-25T23:21:00.917Z"
   },
   {
    "duration": 8,
    "start_time": "2025-03-25T23:21:00.923Z"
   },
   {
    "duration": 2,
    "start_time": "2025-03-25T23:21:00.933Z"
   },
   {
    "duration": 3,
    "start_time": "2025-03-25T23:21:00.937Z"
   },
   {
    "duration": 6,
    "start_time": "2025-03-25T23:21:00.941Z"
   },
   {
    "duration": 8,
    "start_time": "2025-03-25T23:21:00.949Z"
   },
   {
    "duration": 46,
    "start_time": "2025-03-25T23:21:00.961Z"
   },
   {
    "duration": 40,
    "start_time": "2025-03-25T23:21:01.009Z"
   },
   {
    "duration": 28,
    "start_time": "2025-03-25T23:21:01.051Z"
   },
   {
    "duration": 55,
    "start_time": "2025-03-25T23:21:01.081Z"
   },
   {
    "duration": 4,
    "start_time": "2025-03-25T23:21:01.139Z"
   },
   {
    "duration": 60,
    "start_time": "2025-03-25T23:21:01.145Z"
   },
   {
    "duration": 75,
    "start_time": "2025-03-25T23:21:01.207Z"
   },
   {
    "duration": 23,
    "start_time": "2025-03-25T23:21:01.284Z"
   },
   {
    "duration": 151,
    "start_time": "2025-03-25T23:21:01.309Z"
   },
   {
    "duration": 142,
    "start_time": "2025-03-25T23:21:01.463Z"
   },
   {
    "duration": 144,
    "start_time": "2025-03-25T23:21:01.607Z"
   },
   {
    "duration": 259,
    "start_time": "2025-03-25T23:21:01.754Z"
   },
   {
    "duration": 132,
    "start_time": "2025-03-25T23:21:02.015Z"
   },
   {
    "duration": 252,
    "start_time": "2025-03-25T23:21:02.149Z"
   },
   {
    "duration": 461,
    "start_time": "2025-03-26T14:27:02.787Z"
   },
   {
    "duration": 1111,
    "start_time": "2025-03-26T14:27:03.251Z"
   },
   {
    "duration": 14,
    "start_time": "2025-03-26T14:27:04.364Z"
   },
   {
    "duration": 11,
    "start_time": "2025-03-26T14:27:04.379Z"
   },
   {
    "duration": 32,
    "start_time": "2025-03-26T14:27:04.392Z"
   },
   {
    "duration": 14,
    "start_time": "2025-03-26T14:27:04.426Z"
   },
   {
    "duration": 9,
    "start_time": "2025-03-26T14:27:04.442Z"
   },
   {
    "duration": 123,
    "start_time": "2025-03-26T14:27:04.454Z"
   },
   {
    "duration": 11,
    "start_time": "2025-03-26T14:27:04.578Z"
   },
   {
    "duration": 204,
    "start_time": "2025-03-26T14:27:04.591Z"
   },
   {
    "duration": 94,
    "start_time": "2025-03-26T14:27:04.797Z"
   },
   {
    "duration": 43,
    "start_time": "2025-03-26T14:27:04.893Z"
   },
   {
    "duration": 12,
    "start_time": "2025-03-26T14:27:04.938Z"
   },
   {
    "duration": 3,
    "start_time": "2025-03-26T14:27:04.955Z"
   },
   {
    "duration": 18,
    "start_time": "2025-03-26T14:27:04.960Z"
   },
   {
    "duration": 28,
    "start_time": "2025-03-26T14:27:04.980Z"
   },
   {
    "duration": 935,
    "start_time": "2025-03-26T14:27:05.010Z"
   },
   {
    "duration": 38,
    "start_time": "2025-03-26T14:27:05.946Z"
   },
   {
    "duration": 23,
    "start_time": "2025-03-26T14:27:05.986Z"
   },
   {
    "duration": 14,
    "start_time": "2025-03-26T14:27:06.017Z"
   },
   {
    "duration": 4,
    "start_time": "2025-03-26T14:27:06.033Z"
   },
   {
    "duration": 4,
    "start_time": "2025-03-26T14:27:06.039Z"
   },
   {
    "duration": 10,
    "start_time": "2025-03-26T14:27:06.045Z"
   },
   {
    "duration": 3,
    "start_time": "2025-03-26T14:27:06.057Z"
   },
   {
    "duration": 3,
    "start_time": "2025-03-26T14:27:06.061Z"
   },
   {
    "duration": 7,
    "start_time": "2025-03-26T14:27:06.066Z"
   },
   {
    "duration": 34,
    "start_time": "2025-03-26T14:27:06.075Z"
   },
   {
    "duration": 19,
    "start_time": "2025-03-26T14:27:06.112Z"
   },
   {
    "duration": 40,
    "start_time": "2025-03-26T14:27:06.133Z"
   },
   {
    "duration": 36,
    "start_time": "2025-03-26T14:27:06.176Z"
   },
   {
    "duration": 35,
    "start_time": "2025-03-26T14:27:06.224Z"
   },
   {
    "duration": 4,
    "start_time": "2025-03-26T14:27:06.261Z"
   },
   {
    "duration": 49,
    "start_time": "2025-03-26T14:27:06.268Z"
   },
   {
    "duration": 67,
    "start_time": "2025-03-26T14:27:06.321Z"
   },
   {
    "duration": 5,
    "start_time": "2025-03-26T14:27:06.391Z"
   },
   {
    "duration": 174,
    "start_time": "2025-03-26T14:27:06.399Z"
   },
   {
    "duration": 127,
    "start_time": "2025-03-26T14:27:06.576Z"
   },
   {
    "duration": 141,
    "start_time": "2025-03-26T14:27:06.705Z"
   },
   {
    "duration": 263,
    "start_time": "2025-03-26T14:27:06.848Z"
   },
   {
    "duration": 147,
    "start_time": "2025-03-26T14:27:07.113Z"
   },
   {
    "duration": 290,
    "start_time": "2025-03-26T14:27:07.265Z"
   },
   {
    "duration": 458,
    "start_time": "2025-03-26T15:21:40.261Z"
   },
   {
    "duration": 953,
    "start_time": "2025-03-26T15:21:40.721Z"
   },
   {
    "duration": 25,
    "start_time": "2025-03-26T15:21:41.680Z"
   },
   {
    "duration": 12,
    "start_time": "2025-03-26T15:21:41.707Z"
   },
   {
    "duration": 26,
    "start_time": "2025-03-26T15:21:41.721Z"
   },
   {
    "duration": 10,
    "start_time": "2025-03-26T15:21:41.749Z"
   },
   {
    "duration": 10,
    "start_time": "2025-03-26T15:21:41.761Z"
   },
   {
    "duration": 102,
    "start_time": "2025-03-26T15:21:41.805Z"
   },
   {
    "duration": 12,
    "start_time": "2025-03-26T15:21:41.909Z"
   },
   {
    "duration": 213,
    "start_time": "2025-03-26T15:21:41.923Z"
   },
   {
    "duration": 106,
    "start_time": "2025-03-26T15:21:42.138Z"
   },
   {
    "duration": 27,
    "start_time": "2025-03-26T15:21:42.247Z"
   },
   {
    "duration": 12,
    "start_time": "2025-03-26T15:21:42.275Z"
   },
   {
    "duration": 17,
    "start_time": "2025-03-26T15:21:42.289Z"
   },
   {
    "duration": 17,
    "start_time": "2025-03-26T15:21:42.308Z"
   },
   {
    "duration": 7,
    "start_time": "2025-03-26T15:21:42.327Z"
   },
   {
    "duration": 854,
    "start_time": "2025-03-26T15:21:42.335Z"
   },
   {
    "duration": 43,
    "start_time": "2025-03-26T15:21:43.191Z"
   },
   {
    "duration": 4,
    "start_time": "2025-03-26T15:21:43.236Z"
   },
   {
    "duration": 5,
    "start_time": "2025-03-26T15:21:43.242Z"
   },
   {
    "duration": 4,
    "start_time": "2025-03-26T15:21:43.248Z"
   },
   {
    "duration": 5,
    "start_time": "2025-03-26T15:21:43.254Z"
   },
   {
    "duration": 9,
    "start_time": "2025-03-26T15:21:43.260Z"
   },
   {
    "duration": 36,
    "start_time": "2025-03-26T15:21:43.270Z"
   },
   {
    "duration": 4,
    "start_time": "2025-03-26T15:21:43.307Z"
   },
   {
    "duration": 5,
    "start_time": "2025-03-26T15:21:43.315Z"
   },
   {
    "duration": 8,
    "start_time": "2025-03-26T15:21:43.322Z"
   },
   {
    "duration": 6,
    "start_time": "2025-03-26T15:21:43.332Z"
   },
   {
    "duration": 38,
    "start_time": "2025-03-26T15:21:43.339Z"
   },
   {
    "duration": 28,
    "start_time": "2025-03-26T15:21:43.406Z"
   },
   {
    "duration": 35,
    "start_time": "2025-03-26T15:21:43.437Z"
   },
   {
    "duration": 31,
    "start_time": "2025-03-26T15:21:43.474Z"
   },
   {
    "duration": 37,
    "start_time": "2025-03-26T15:21:43.508Z"
   },
   {
    "duration": 76,
    "start_time": "2025-03-26T15:21:43.547Z"
   },
   {
    "duration": 5,
    "start_time": "2025-03-26T15:21:43.625Z"
   },
   {
    "duration": 152,
    "start_time": "2025-03-26T15:21:43.632Z"
   },
   {
    "duration": 129,
    "start_time": "2025-03-26T15:21:43.786Z"
   },
   {
    "duration": 136,
    "start_time": "2025-03-26T15:21:43.917Z"
   },
   {
    "duration": 244,
    "start_time": "2025-03-26T15:21:44.055Z"
   },
   {
    "duration": 123,
    "start_time": "2025-03-26T15:21:44.305Z"
   },
   {
    "duration": 264,
    "start_time": "2025-03-26T15:21:44.430Z"
   },
   {
    "duration": 209,
    "start_time": "2025-03-26T15:21:44.696Z"
   },
   {
    "duration": 460,
    "start_time": "2025-03-26T16:07:09.292Z"
   },
   {
    "duration": 945,
    "start_time": "2025-03-26T16:07:09.754Z"
   },
   {
    "duration": 17,
    "start_time": "2025-03-26T16:07:10.701Z"
   },
   {
    "duration": 11,
    "start_time": "2025-03-26T16:07:10.722Z"
   },
   {
    "duration": 29,
    "start_time": "2025-03-26T16:07:10.736Z"
   },
   {
    "duration": 10,
    "start_time": "2025-03-26T16:07:10.766Z"
   },
   {
    "duration": 10,
    "start_time": "2025-03-26T16:07:10.806Z"
   },
   {
    "duration": 117,
    "start_time": "2025-03-26T16:07:10.818Z"
   },
   {
    "duration": 10,
    "start_time": "2025-03-26T16:07:10.936Z"
   },
   {
    "duration": 195,
    "start_time": "2025-03-26T16:07:10.950Z"
   },
   {
    "duration": 95,
    "start_time": "2025-03-26T16:07:11.146Z"
   },
   {
    "duration": 26,
    "start_time": "2025-03-26T16:07:11.244Z"
   },
   {
    "duration": 17,
    "start_time": "2025-03-26T16:07:11.272Z"
   },
   {
    "duration": 3,
    "start_time": "2025-03-26T16:07:11.305Z"
   },
   {
    "duration": 20,
    "start_time": "2025-03-26T16:07:11.309Z"
   },
   {
    "duration": 7,
    "start_time": "2025-03-26T16:07:11.330Z"
   },
   {
    "duration": 788,
    "start_time": "2025-03-26T16:07:11.339Z"
   },
   {
    "duration": 36,
    "start_time": "2025-03-26T16:07:12.129Z"
   },
   {
    "duration": 4,
    "start_time": "2025-03-26T16:07:12.167Z"
   },
   {
    "duration": 5,
    "start_time": "2025-03-26T16:07:12.173Z"
   },
   {
    "duration": 26,
    "start_time": "2025-03-26T16:07:12.180Z"
   },
   {
    "duration": 5,
    "start_time": "2025-03-26T16:07:12.208Z"
   },
   {
    "duration": 8,
    "start_time": "2025-03-26T16:07:12.215Z"
   },
   {
    "duration": 2,
    "start_time": "2025-03-26T16:07:12.226Z"
   },
   {
    "duration": 3,
    "start_time": "2025-03-26T16:07:12.230Z"
   },
   {
    "duration": 7,
    "start_time": "2025-03-26T16:07:12.235Z"
   },
   {
    "duration": 11,
    "start_time": "2025-03-26T16:07:12.244Z"
   },
   {
    "duration": 46,
    "start_time": "2025-03-26T16:07:12.259Z"
   },
   {
    "duration": 39,
    "start_time": "2025-03-26T16:07:12.308Z"
   },
   {
    "duration": 27,
    "start_time": "2025-03-26T16:07:12.349Z"
   },
   {
    "duration": 66,
    "start_time": "2025-03-26T16:07:12.379Z"
   },
   {
    "duration": 7,
    "start_time": "2025-03-26T16:07:12.450Z"
   },
   {
    "duration": 47,
    "start_time": "2025-03-26T16:07:12.458Z"
   },
   {
    "duration": 66,
    "start_time": "2025-03-26T16:07:12.507Z"
   },
   {
    "duration": 5,
    "start_time": "2025-03-26T16:07:12.575Z"
   },
   {
    "duration": 148,
    "start_time": "2025-03-26T16:07:12.606Z"
   },
   {
    "duration": 127,
    "start_time": "2025-03-26T16:07:12.756Z"
   },
   {
    "duration": 139,
    "start_time": "2025-03-26T16:07:12.885Z"
   },
   {
    "duration": 245,
    "start_time": "2025-03-26T16:07:13.026Z"
   },
   {
    "duration": 130,
    "start_time": "2025-03-26T16:07:13.274Z"
   },
   {
    "duration": 244,
    "start_time": "2025-03-26T16:07:13.405Z"
   },
   {
    "duration": 215,
    "start_time": "2025-03-26T16:07:13.652Z"
   },
   {
    "duration": 139,
    "start_time": "2025-03-26T16:07:13.869Z"
   },
   {
    "duration": 436,
    "start_time": "2025-03-26T16:07:55.246Z"
   },
   {
    "duration": 943,
    "start_time": "2025-03-26T16:07:55.684Z"
   },
   {
    "duration": 14,
    "start_time": "2025-03-26T16:07:56.629Z"
   },
   {
    "duration": 10,
    "start_time": "2025-03-26T16:07:56.645Z"
   },
   {
    "duration": 23,
    "start_time": "2025-03-26T16:07:56.657Z"
   },
   {
    "duration": 32,
    "start_time": "2025-03-26T16:07:56.682Z"
   },
   {
    "duration": 11,
    "start_time": "2025-03-26T16:07:56.717Z"
   },
   {
    "duration": 106,
    "start_time": "2025-03-26T16:07:56.729Z"
   },
   {
    "duration": 10,
    "start_time": "2025-03-26T16:07:56.837Z"
   },
   {
    "duration": 193,
    "start_time": "2025-03-26T16:07:56.850Z"
   },
   {
    "duration": 95,
    "start_time": "2025-03-26T16:07:57.045Z"
   },
   {
    "duration": 29,
    "start_time": "2025-03-26T16:07:57.141Z"
   },
   {
    "duration": 12,
    "start_time": "2025-03-26T16:07:57.172Z"
   },
   {
    "duration": 22,
    "start_time": "2025-03-26T16:07:57.185Z"
   },
   {
    "duration": 18,
    "start_time": "2025-03-26T16:07:57.209Z"
   },
   {
    "duration": 8,
    "start_time": "2025-03-26T16:07:57.228Z"
   },
   {
    "duration": 782,
    "start_time": "2025-03-26T16:07:57.237Z"
   },
   {
    "duration": 35,
    "start_time": "2025-03-26T16:07:58.021Z"
   },
   {
    "duration": 3,
    "start_time": "2025-03-26T16:07:58.059Z"
   },
   {
    "duration": 5,
    "start_time": "2025-03-26T16:07:58.064Z"
   },
   {
    "duration": 3,
    "start_time": "2025-03-26T16:07:58.070Z"
   },
   {
    "duration": 33,
    "start_time": "2025-03-26T16:07:58.075Z"
   },
   {
    "duration": 8,
    "start_time": "2025-03-26T16:07:58.111Z"
   },
   {
    "duration": 2,
    "start_time": "2025-03-26T16:07:58.120Z"
   },
   {
    "duration": 2,
    "start_time": "2025-03-26T16:07:58.124Z"
   },
   {
    "duration": 6,
    "start_time": "2025-03-26T16:07:58.128Z"
   },
   {
    "duration": 8,
    "start_time": "2025-03-26T16:07:58.136Z"
   },
   {
    "duration": 5,
    "start_time": "2025-03-26T16:07:58.149Z"
   },
   {
    "duration": 73,
    "start_time": "2025-03-26T16:07:58.155Z"
   },
   {
    "duration": 25,
    "start_time": "2025-03-26T16:07:58.229Z"
   },
   {
    "duration": 50,
    "start_time": "2025-03-26T16:07:58.255Z"
   },
   {
    "duration": 5,
    "start_time": "2025-03-26T16:07:58.307Z"
   },
   {
    "duration": 34,
    "start_time": "2025-03-26T16:07:58.314Z"
   },
   {
    "duration": 80,
    "start_time": "2025-03-26T16:07:58.350Z"
   },
   {
    "duration": 4,
    "start_time": "2025-03-26T16:07:58.432Z"
   },
   {
    "duration": 141,
    "start_time": "2025-03-26T16:07:58.438Z"
   },
   {
    "duration": 128,
    "start_time": "2025-03-26T16:07:58.581Z"
   },
   {
    "duration": 133,
    "start_time": "2025-03-26T16:07:58.712Z"
   },
   {
    "duration": 243,
    "start_time": "2025-03-26T16:07:58.848Z"
   },
   {
    "duration": 128,
    "start_time": "2025-03-26T16:07:59.092Z"
   },
   {
    "duration": 245,
    "start_time": "2025-03-26T16:07:59.222Z"
   },
   {
    "duration": 208,
    "start_time": "2025-03-26T16:07:59.470Z"
   },
   {
    "duration": 134,
    "start_time": "2025-03-26T16:07:59.680Z"
   },
   {
    "duration": 432,
    "start_time": "2025-03-26T19:25:51.809Z"
   },
   {
    "duration": 931,
    "start_time": "2025-03-26T19:25:52.243Z"
   },
   {
    "duration": 15,
    "start_time": "2025-03-26T19:25:53.176Z"
   },
   {
    "duration": 17,
    "start_time": "2025-03-26T19:25:53.192Z"
   },
   {
    "duration": 23,
    "start_time": "2025-03-26T19:25:53.211Z"
   },
   {
    "duration": 9,
    "start_time": "2025-03-26T19:25:53.236Z"
   },
   {
    "duration": 9,
    "start_time": "2025-03-26T19:25:53.246Z"
   },
   {
    "duration": 116,
    "start_time": "2025-03-26T19:25:53.257Z"
   },
   {
    "duration": 11,
    "start_time": "2025-03-26T19:25:53.375Z"
   },
   {
    "duration": 197,
    "start_time": "2025-03-26T19:25:53.388Z"
   },
   {
    "duration": 105,
    "start_time": "2025-03-26T19:25:53.587Z"
   },
   {
    "duration": 38,
    "start_time": "2025-03-26T19:25:53.694Z"
   },
   {
    "duration": 23,
    "start_time": "2025-03-26T19:25:53.734Z"
   },
   {
    "duration": 3,
    "start_time": "2025-03-26T19:25:53.762Z"
   },
   {
    "duration": 43,
    "start_time": "2025-03-26T19:25:53.767Z"
   },
   {
    "duration": 9,
    "start_time": "2025-03-26T19:25:53.812Z"
   },
   {
    "duration": 815,
    "start_time": "2025-03-26T19:25:53.823Z"
   },
   {
    "duration": 35,
    "start_time": "2025-03-26T19:25:54.639Z"
   },
   {
    "duration": 4,
    "start_time": "2025-03-26T19:25:54.676Z"
   },
   {
    "duration": 23,
    "start_time": "2025-03-26T19:25:54.682Z"
   },
   {
    "duration": 5,
    "start_time": "2025-03-26T19:25:54.707Z"
   },
   {
    "duration": 5,
    "start_time": "2025-03-26T19:25:54.715Z"
   },
   {
    "duration": 8,
    "start_time": "2025-03-26T19:25:54.721Z"
   },
   {
    "duration": 2,
    "start_time": "2025-03-26T19:25:54.730Z"
   },
   {
    "duration": 3,
    "start_time": "2025-03-26T19:25:54.734Z"
   },
   {
    "duration": 7,
    "start_time": "2025-03-26T19:25:54.738Z"
   },
   {
    "duration": 9,
    "start_time": "2025-03-26T19:25:54.747Z"
   },
   {
    "duration": 47,
    "start_time": "2025-03-26T19:25:54.758Z"
   },
   {
    "duration": 39,
    "start_time": "2025-03-26T19:25:54.807Z"
   },
   {
    "duration": 25,
    "start_time": "2025-03-26T19:25:54.849Z"
   },
   {
    "duration": 53,
    "start_time": "2025-03-26T19:25:54.876Z"
   },
   {
    "duration": 5,
    "start_time": "2025-03-26T19:25:54.930Z"
   },
   {
    "duration": 35,
    "start_time": "2025-03-26T19:25:54.937Z"
   },
   {
    "duration": 86,
    "start_time": "2025-03-26T19:25:54.974Z"
   },
   {
    "duration": 5,
    "start_time": "2025-03-26T19:25:55.063Z"
   },
   {
    "duration": 147,
    "start_time": "2025-03-26T19:25:55.070Z"
   },
   {
    "duration": 124,
    "start_time": "2025-03-26T19:25:55.218Z"
   },
   {
    "duration": 134,
    "start_time": "2025-03-26T19:25:55.344Z"
   },
   {
    "duration": 247,
    "start_time": "2025-03-26T19:25:55.480Z"
   },
   {
    "duration": 121,
    "start_time": "2025-03-26T19:25:55.729Z"
   },
   {
    "duration": 251,
    "start_time": "2025-03-26T19:25:55.855Z"
   },
   {
    "duration": 284,
    "start_time": "2025-03-26T19:25:56.108Z"
   },
   {
    "duration": 205,
    "start_time": "2025-03-26T19:25:56.394Z"
   },
   {
    "duration": 119,
    "start_time": "2025-03-26T19:25:56.605Z"
   },
   {
    "duration": 431,
    "start_time": "2025-03-26T19:27:19.137Z"
   },
   {
    "duration": 962,
    "start_time": "2025-03-26T19:27:19.570Z"
   },
   {
    "duration": 15,
    "start_time": "2025-03-26T19:27:20.533Z"
   },
   {
    "duration": 9,
    "start_time": "2025-03-26T19:27:20.550Z"
   },
   {
    "duration": 25,
    "start_time": "2025-03-26T19:27:20.561Z"
   },
   {
    "duration": 9,
    "start_time": "2025-03-26T19:27:20.606Z"
   },
   {
    "duration": 9,
    "start_time": "2025-03-26T19:27:20.617Z"
   },
   {
    "duration": 109,
    "start_time": "2025-03-26T19:27:20.628Z"
   },
   {
    "duration": 11,
    "start_time": "2025-03-26T19:27:20.739Z"
   },
   {
    "duration": 191,
    "start_time": "2025-03-26T19:27:20.753Z"
   },
   {
    "duration": 94,
    "start_time": "2025-03-26T19:27:20.945Z"
   },
   {
    "duration": 27,
    "start_time": "2025-03-26T19:27:21.041Z"
   },
   {
    "duration": 12,
    "start_time": "2025-03-26T19:27:21.070Z"
   },
   {
    "duration": 22,
    "start_time": "2025-03-26T19:27:21.084Z"
   },
   {
    "duration": 18,
    "start_time": "2025-03-26T19:27:21.108Z"
   },
   {
    "duration": 7,
    "start_time": "2025-03-26T19:27:21.127Z"
   },
   {
    "duration": 756,
    "start_time": "2025-03-26T19:27:21.136Z"
   },
   {
    "duration": 43,
    "start_time": "2025-03-26T19:27:21.894Z"
   },
   {
    "duration": 4,
    "start_time": "2025-03-26T19:27:21.939Z"
   },
   {
    "duration": 5,
    "start_time": "2025-03-26T19:27:21.944Z"
   },
   {
    "duration": 5,
    "start_time": "2025-03-26T19:27:21.950Z"
   },
   {
    "duration": 4,
    "start_time": "2025-03-26T19:27:21.957Z"
   },
   {
    "duration": 8,
    "start_time": "2025-03-26T19:27:21.963Z"
   },
   {
    "duration": 2,
    "start_time": "2025-03-26T19:27:21.972Z"
   },
   {
    "duration": 3,
    "start_time": "2025-03-26T19:27:22.005Z"
   },
   {
    "duration": 7,
    "start_time": "2025-03-26T19:27:22.009Z"
   },
   {
    "duration": 9,
    "start_time": "2025-03-26T19:27:22.018Z"
   },
   {
    "duration": 7,
    "start_time": "2025-03-26T19:27:22.034Z"
   },
   {
    "duration": 36,
    "start_time": "2025-03-26T19:27:22.044Z"
   },
   {
    "duration": 24,
    "start_time": "2025-03-26T19:27:22.106Z"
   },
   {
    "duration": 31,
    "start_time": "2025-03-26T19:27:22.132Z"
   },
   {
    "duration": 4,
    "start_time": "2025-03-26T19:27:22.165Z"
   },
   {
    "duration": 64,
    "start_time": "2025-03-26T19:27:22.170Z"
   },
   {
    "duration": 68,
    "start_time": "2025-03-26T19:27:22.236Z"
   },
   {
    "duration": 4,
    "start_time": "2025-03-26T19:27:22.306Z"
   },
   {
    "duration": 148,
    "start_time": "2025-03-26T19:27:22.312Z"
   },
   {
    "duration": 127,
    "start_time": "2025-03-26T19:27:22.462Z"
   },
   {
    "duration": 135,
    "start_time": "2025-03-26T19:27:22.592Z"
   },
   {
    "duration": 242,
    "start_time": "2025-03-26T19:27:22.728Z"
   },
   {
    "duration": 122,
    "start_time": "2025-03-26T19:27:22.972Z"
   },
   {
    "duration": 238,
    "start_time": "2025-03-26T19:27:23.104Z"
   },
   {
    "duration": 310,
    "start_time": "2025-03-26T19:27:23.344Z"
   },
   {
    "duration": 203,
    "start_time": "2025-03-26T19:27:23.656Z"
   },
   {
    "duration": 127,
    "start_time": "2025-03-26T19:27:23.861Z"
   },
   {
    "duration": 449,
    "start_time": "2025-03-26T19:49:34.428Z"
   },
   {
    "duration": 919,
    "start_time": "2025-03-26T19:49:34.879Z"
   },
   {
    "duration": 14,
    "start_time": "2025-03-26T19:49:35.799Z"
   },
   {
    "duration": 10,
    "start_time": "2025-03-26T19:49:35.815Z"
   },
   {
    "duration": 26,
    "start_time": "2025-03-26T19:49:35.826Z"
   },
   {
    "duration": 8,
    "start_time": "2025-03-26T19:49:35.854Z"
   },
   {
    "duration": 9,
    "start_time": "2025-03-26T19:49:35.864Z"
   },
   {
    "duration": 118,
    "start_time": "2025-03-26T19:49:35.874Z"
   },
   {
    "duration": 19,
    "start_time": "2025-03-26T19:49:35.993Z"
   },
   {
    "duration": 176,
    "start_time": "2025-03-26T19:49:36.015Z"
   },
   {
    "duration": 101,
    "start_time": "2025-03-26T19:49:36.193Z"
   },
   {
    "duration": 39,
    "start_time": "2025-03-26T19:49:36.296Z"
   },
   {
    "duration": 13,
    "start_time": "2025-03-26T19:49:36.336Z"
   },
   {
    "duration": 3,
    "start_time": "2025-03-26T19:49:36.350Z"
   },
   {
    "duration": 17,
    "start_time": "2025-03-26T19:49:36.355Z"
   },
   {
    "duration": 35,
    "start_time": "2025-03-26T19:49:36.373Z"
   },
   {
    "duration": 808,
    "start_time": "2025-03-26T19:49:36.411Z"
   },
   {
    "duration": 36,
    "start_time": "2025-03-26T19:49:37.221Z"
   },
   {
    "duration": 4,
    "start_time": "2025-03-26T19:49:37.258Z"
   },
   {
    "duration": 5,
    "start_time": "2025-03-26T19:49:37.263Z"
   },
   {
    "duration": 5,
    "start_time": "2025-03-26T19:49:37.269Z"
   },
   {
    "duration": 31,
    "start_time": "2025-03-26T19:49:37.276Z"
   },
   {
    "duration": 8,
    "start_time": "2025-03-26T19:49:37.308Z"
   },
   {
    "duration": 3,
    "start_time": "2025-03-26T19:49:37.317Z"
   },
   {
    "duration": 2,
    "start_time": "2025-03-26T19:49:37.322Z"
   },
   {
    "duration": 6,
    "start_time": "2025-03-26T19:49:37.326Z"
   },
   {
    "duration": 8,
    "start_time": "2025-03-26T19:49:37.334Z"
   },
   {
    "duration": 5,
    "start_time": "2025-03-26T19:49:37.347Z"
   },
   {
    "duration": 78,
    "start_time": "2025-03-26T19:49:37.353Z"
   },
   {
    "duration": 24,
    "start_time": "2025-03-26T19:49:37.433Z"
   },
   {
    "duration": 49,
    "start_time": "2025-03-26T19:49:37.459Z"
   },
   {
    "duration": 4,
    "start_time": "2025-03-26T19:49:37.509Z"
   },
   {
    "duration": 34,
    "start_time": "2025-03-26T19:49:37.515Z"
   },
   {
    "duration": 83,
    "start_time": "2025-03-26T19:49:37.551Z"
   },
   {
    "duration": 4,
    "start_time": "2025-03-26T19:49:37.636Z"
   },
   {
    "duration": 144,
    "start_time": "2025-03-26T19:49:37.642Z"
   },
   {
    "duration": 122,
    "start_time": "2025-03-26T19:49:37.788Z"
   },
   {
    "duration": 131,
    "start_time": "2025-03-26T19:49:37.912Z"
   },
   {
    "duration": 250,
    "start_time": "2025-03-26T19:49:38.045Z"
   },
   {
    "duration": 119,
    "start_time": "2025-03-26T19:49:38.297Z"
   },
   {
    "duration": 239,
    "start_time": "2025-03-26T19:49:38.418Z"
   },
   {
    "duration": 5,
    "start_time": "2025-03-26T19:49:38.659Z"
   },
   {
    "duration": 0,
    "start_time": "2025-03-26T19:49:38.666Z"
   },
   {
    "duration": 0,
    "start_time": "2025-03-26T19:49:38.667Z"
   },
   {
    "duration": 481,
    "start_time": "2025-03-26T19:50:16.043Z"
   },
   {
    "duration": 972,
    "start_time": "2025-03-26T19:50:16.529Z"
   },
   {
    "duration": 17,
    "start_time": "2025-03-26T19:50:17.503Z"
   },
   {
    "duration": 12,
    "start_time": "2025-03-26T19:50:17.522Z"
   },
   {
    "duration": 37,
    "start_time": "2025-03-26T19:50:17.537Z"
   },
   {
    "duration": 32,
    "start_time": "2025-03-26T19:50:17.576Z"
   },
   {
    "duration": 11,
    "start_time": "2025-03-26T19:50:17.611Z"
   },
   {
    "duration": 121,
    "start_time": "2025-03-26T19:50:17.624Z"
   },
   {
    "duration": 11,
    "start_time": "2025-03-26T19:50:17.748Z"
   },
   {
    "duration": 234,
    "start_time": "2025-03-26T19:50:17.761Z"
   },
   {
    "duration": 123,
    "start_time": "2025-03-26T19:50:17.997Z"
   },
   {
    "duration": 32,
    "start_time": "2025-03-26T19:50:18.122Z"
   },
   {
    "duration": 16,
    "start_time": "2025-03-26T19:50:18.156Z"
   },
   {
    "duration": 3,
    "start_time": "2025-03-26T19:50:18.177Z"
   },
   {
    "duration": 20,
    "start_time": "2025-03-26T19:50:18.205Z"
   },
   {
    "duration": 9,
    "start_time": "2025-03-26T19:50:18.227Z"
   },
   {
    "duration": 935,
    "start_time": "2025-03-26T19:50:18.238Z"
   },
   {
    "duration": 48,
    "start_time": "2025-03-26T19:50:19.175Z"
   },
   {
    "duration": 4,
    "start_time": "2025-03-26T19:50:19.226Z"
   },
   {
    "duration": 6,
    "start_time": "2025-03-26T19:50:19.231Z"
   },
   {
    "duration": 4,
    "start_time": "2025-03-26T19:50:19.239Z"
   },
   {
    "duration": 5,
    "start_time": "2025-03-26T19:50:19.246Z"
   },
   {
    "duration": 8,
    "start_time": "2025-03-26T19:50:19.254Z"
   },
   {
    "duration": 3,
    "start_time": "2025-03-26T19:50:19.264Z"
   },
   {
    "duration": 3,
    "start_time": "2025-03-26T19:50:19.305Z"
   },
   {
    "duration": 8,
    "start_time": "2025-03-26T19:50:19.310Z"
   },
   {
    "duration": 12,
    "start_time": "2025-03-26T19:50:19.321Z"
   },
   {
    "duration": 5,
    "start_time": "2025-03-26T19:50:19.335Z"
   },
   {
    "duration": 68,
    "start_time": "2025-03-26T19:50:19.342Z"
   },
   {
    "duration": 30,
    "start_time": "2025-03-26T19:50:19.412Z"
   },
   {
    "duration": 44,
    "start_time": "2025-03-26T19:50:19.444Z"
   },
   {
    "duration": 5,
    "start_time": "2025-03-26T19:50:19.506Z"
   },
   {
    "duration": 36,
    "start_time": "2025-03-26T19:50:19.513Z"
   },
   {
    "duration": 79,
    "start_time": "2025-03-26T19:50:19.551Z"
   },
   {
    "duration": 5,
    "start_time": "2025-03-26T19:50:19.632Z"
   },
   {
    "duration": 174,
    "start_time": "2025-03-26T19:50:19.638Z"
   },
   {
    "duration": 125,
    "start_time": "2025-03-26T19:50:19.814Z"
   },
   {
    "duration": 168,
    "start_time": "2025-03-26T19:50:19.942Z"
   },
   {
    "duration": 282,
    "start_time": "2025-03-26T19:50:20.112Z"
   },
   {
    "duration": 152,
    "start_time": "2025-03-26T19:50:20.396Z"
   },
   {
    "duration": 251,
    "start_time": "2025-03-26T19:50:20.554Z"
   },
   {
    "duration": 1243,
    "start_time": "2025-03-26T19:50:20.807Z"
   },
   {
    "duration": 208,
    "start_time": "2025-03-26T19:50:22.051Z"
   },
   {
    "duration": 125,
    "start_time": "2025-03-26T19:50:22.262Z"
   },
   {
    "duration": 414,
    "start_time": "2025-03-26T19:51:42.091Z"
   },
   {
    "duration": 941,
    "start_time": "2025-03-26T19:51:42.507Z"
   },
   {
    "duration": 14,
    "start_time": "2025-03-26T19:51:43.450Z"
   },
   {
    "duration": 10,
    "start_time": "2025-03-26T19:51:43.466Z"
   },
   {
    "duration": 41,
    "start_time": "2025-03-26T19:51:43.478Z"
   },
   {
    "duration": 9,
    "start_time": "2025-03-26T19:51:43.520Z"
   },
   {
    "duration": 10,
    "start_time": "2025-03-26T19:51:43.530Z"
   },
   {
    "duration": 113,
    "start_time": "2025-03-26T19:51:43.542Z"
   },
   {
    "duration": 11,
    "start_time": "2025-03-26T19:51:43.657Z"
   },
   {
    "duration": 189,
    "start_time": "2025-03-26T19:51:43.671Z"
   },
   {
    "duration": 100,
    "start_time": "2025-03-26T19:51:43.862Z"
   },
   {
    "duration": 28,
    "start_time": "2025-03-26T19:51:43.964Z"
   },
   {
    "duration": 12,
    "start_time": "2025-03-26T19:51:44.005Z"
   },
   {
    "duration": 3,
    "start_time": "2025-03-26T19:51:44.019Z"
   },
   {
    "duration": 18,
    "start_time": "2025-03-26T19:51:44.024Z"
   },
   {
    "duration": 10,
    "start_time": "2025-03-26T19:51:44.043Z"
   },
   {
    "duration": 798,
    "start_time": "2025-03-26T19:51:44.054Z"
   },
   {
    "duration": 57,
    "start_time": "2025-03-26T19:51:44.854Z"
   },
   {
    "duration": 3,
    "start_time": "2025-03-26T19:51:44.913Z"
   },
   {
    "duration": 5,
    "start_time": "2025-03-26T19:51:44.918Z"
   },
   {
    "duration": 4,
    "start_time": "2025-03-26T19:51:44.925Z"
   },
   {
    "duration": 5,
    "start_time": "2025-03-26T19:51:44.930Z"
   },
   {
    "duration": 7,
    "start_time": "2025-03-26T19:51:44.936Z"
   },
   {
    "duration": 2,
    "start_time": "2025-03-26T19:51:44.945Z"
   },
   {
    "duration": 3,
    "start_time": "2025-03-26T19:51:44.949Z"
   },
   {
    "duration": 6,
    "start_time": "2025-03-26T19:51:44.953Z"
   },
   {
    "duration": 50,
    "start_time": "2025-03-26T19:51:44.961Z"
   },
   {
    "duration": 6,
    "start_time": "2025-03-26T19:51:45.014Z"
   },
   {
    "duration": 37,
    "start_time": "2025-03-26T19:51:45.022Z"
   },
   {
    "duration": 49,
    "start_time": "2025-03-26T19:51:45.060Z"
   },
   {
    "duration": 32,
    "start_time": "2025-03-26T19:51:45.111Z"
   },
   {
    "duration": 4,
    "start_time": "2025-03-26T19:51:45.145Z"
   },
   {
    "duration": 55,
    "start_time": "2025-03-26T19:51:45.151Z"
   },
   {
    "duration": 59,
    "start_time": "2025-03-26T19:51:45.207Z"
   },
   {
    "duration": 6,
    "start_time": "2025-03-26T19:51:45.268Z"
   },
   {
    "duration": 153,
    "start_time": "2025-03-26T19:51:45.276Z"
   },
   {
    "duration": 124,
    "start_time": "2025-03-26T19:51:45.431Z"
   },
   {
    "duration": 129,
    "start_time": "2025-03-26T19:51:45.557Z"
   },
   {
    "duration": 248,
    "start_time": "2025-03-26T19:51:45.688Z"
   },
   {
    "duration": 130,
    "start_time": "2025-03-26T19:51:45.938Z"
   },
   {
    "duration": 246,
    "start_time": "2025-03-26T19:51:46.070Z"
   },
   {
    "duration": 1216,
    "start_time": "2025-03-26T19:51:46.317Z"
   },
   {
    "duration": 199,
    "start_time": "2025-03-26T19:51:47.535Z"
   },
   {
    "duration": 123,
    "start_time": "2025-03-26T19:51:47.736Z"
   },
   {
    "duration": 441,
    "start_time": "2025-03-26T23:31:24.281Z"
   },
   {
    "duration": 919,
    "start_time": "2025-03-26T23:31:24.723Z"
   },
   {
    "duration": 13,
    "start_time": "2025-03-26T23:31:25.643Z"
   },
   {
    "duration": 10,
    "start_time": "2025-03-26T23:31:25.658Z"
   },
   {
    "duration": 36,
    "start_time": "2025-03-26T23:31:25.670Z"
   },
   {
    "duration": 9,
    "start_time": "2025-03-26T23:31:25.708Z"
   },
   {
    "duration": 9,
    "start_time": "2025-03-26T23:31:25.719Z"
   },
   {
    "duration": 105,
    "start_time": "2025-03-26T23:31:25.729Z"
   },
   {
    "duration": 21,
    "start_time": "2025-03-26T23:31:25.835Z"
   },
   {
    "duration": 188,
    "start_time": "2025-03-26T23:31:25.858Z"
   },
   {
    "duration": 96,
    "start_time": "2025-03-26T23:31:26.048Z"
   },
   {
    "duration": 28,
    "start_time": "2025-03-26T23:31:26.146Z"
   },
   {
    "duration": 13,
    "start_time": "2025-03-26T23:31:26.175Z"
   },
   {
    "duration": 3,
    "start_time": "2025-03-26T23:31:26.204Z"
   },
   {
    "duration": 18,
    "start_time": "2025-03-26T23:31:26.209Z"
   },
   {
    "duration": 7,
    "start_time": "2025-03-26T23:31:26.228Z"
   },
   {
    "duration": 817,
    "start_time": "2025-03-26T23:31:26.237Z"
   },
   {
    "duration": 36,
    "start_time": "2025-03-26T23:31:27.055Z"
   },
   {
    "duration": 14,
    "start_time": "2025-03-26T23:31:27.092Z"
   },
   {
    "duration": 5,
    "start_time": "2025-03-26T23:31:27.108Z"
   },
   {
    "duration": 4,
    "start_time": "2025-03-26T23:31:27.115Z"
   },
   {
    "duration": 5,
    "start_time": "2025-03-26T23:31:27.121Z"
   },
   {
    "duration": 8,
    "start_time": "2025-03-26T23:31:27.127Z"
   },
   {
    "duration": 3,
    "start_time": "2025-03-26T23:31:27.136Z"
   },
   {
    "duration": 1,
    "start_time": "2025-03-26T23:31:27.142Z"
   },
   {
    "duration": 6,
    "start_time": "2025-03-26T23:31:27.145Z"
   },
   {
    "duration": 8,
    "start_time": "2025-03-26T23:31:27.153Z"
   },
   {
    "duration": 6,
    "start_time": "2025-03-26T23:31:27.205Z"
   },
   {
    "duration": 34,
    "start_time": "2025-03-26T23:31:27.213Z"
   },
   {
    "duration": 25,
    "start_time": "2025-03-26T23:31:27.249Z"
   },
   {
    "duration": 57,
    "start_time": "2025-03-26T23:31:27.276Z"
   },
   {
    "duration": 5,
    "start_time": "2025-03-26T23:31:27.334Z"
   },
   {
    "duration": 34,
    "start_time": "2025-03-26T23:31:27.340Z"
   },
   {
    "duration": 78,
    "start_time": "2025-03-26T23:31:27.375Z"
   },
   {
    "duration": 5,
    "start_time": "2025-03-26T23:31:27.455Z"
   },
   {
    "duration": 143,
    "start_time": "2025-03-26T23:31:27.462Z"
   },
   {
    "duration": 121,
    "start_time": "2025-03-26T23:31:27.607Z"
   },
   {
    "duration": 142,
    "start_time": "2025-03-26T23:31:27.731Z"
   },
   {
    "duration": 232,
    "start_time": "2025-03-26T23:31:27.875Z"
   },
   {
    "duration": 121,
    "start_time": "2025-03-26T23:31:28.108Z"
   },
   {
    "duration": 236,
    "start_time": "2025-03-26T23:31:28.233Z"
   },
   {
    "duration": 1226,
    "start_time": "2025-03-26T23:31:28.471Z"
   },
   {
    "duration": 202,
    "start_time": "2025-03-26T23:31:29.699Z"
   },
   {
    "duration": 226,
    "start_time": "2025-03-26T23:31:29.904Z"
   },
   {
    "duration": 126,
    "start_time": "2025-03-26T23:31:30.132Z"
   },
   {
    "duration": 204,
    "start_time": "2025-03-26T23:54:21.215Z"
   },
   {
    "duration": 866,
    "start_time": "2025-03-26T23:54:40.115Z"
   },
   {
    "duration": 340,
    "start_time": "2025-03-26T23:54:49.351Z"
   },
   {
    "duration": 276,
    "start_time": "2025-03-26T23:55:06.397Z"
   },
   {
    "duration": 269,
    "start_time": "2025-03-26T23:55:29.872Z"
   },
   {
    "duration": 266,
    "start_time": "2025-03-26T23:56:13.965Z"
   },
   {
    "duration": 451,
    "start_time": "2025-03-27T17:45:32.636Z"
   },
   {
    "duration": 932,
    "start_time": "2025-03-27T17:45:33.089Z"
   },
   {
    "duration": 14,
    "start_time": "2025-03-27T17:45:34.023Z"
   },
   {
    "duration": 11,
    "start_time": "2025-03-27T17:45:34.039Z"
   },
   {
    "duration": 26,
    "start_time": "2025-03-27T17:45:34.053Z"
   },
   {
    "duration": 31,
    "start_time": "2025-03-27T17:45:34.081Z"
   },
   {
    "duration": 9,
    "start_time": "2025-03-27T17:45:34.114Z"
   },
   {
    "duration": 113,
    "start_time": "2025-03-27T17:45:34.125Z"
   },
   {
    "duration": 10,
    "start_time": "2025-03-27T17:45:34.239Z"
   },
   {
    "duration": 202,
    "start_time": "2025-03-27T17:45:34.251Z"
   },
   {
    "duration": 103,
    "start_time": "2025-03-27T17:45:34.455Z"
   },
   {
    "duration": 29,
    "start_time": "2025-03-27T17:45:34.560Z"
   },
   {
    "duration": 24,
    "start_time": "2025-03-27T17:45:34.591Z"
   },
   {
    "duration": 3,
    "start_time": "2025-03-27T17:45:34.619Z"
   },
   {
    "duration": 18,
    "start_time": "2025-03-27T17:45:34.624Z"
   },
   {
    "duration": 8,
    "start_time": "2025-03-27T17:45:34.644Z"
   },
   {
    "duration": 818,
    "start_time": "2025-03-27T17:45:34.653Z"
   },
   {
    "duration": 44,
    "start_time": "2025-03-27T17:45:35.473Z"
   },
   {
    "duration": 4,
    "start_time": "2025-03-27T17:45:35.519Z"
   },
   {
    "duration": 6,
    "start_time": "2025-03-27T17:45:35.524Z"
   },
   {
    "duration": 6,
    "start_time": "2025-03-27T17:45:35.531Z"
   },
   {
    "duration": 5,
    "start_time": "2025-03-27T17:45:35.539Z"
   },
   {
    "duration": 7,
    "start_time": "2025-03-27T17:45:35.545Z"
   },
   {
    "duration": 2,
    "start_time": "2025-03-27T17:45:35.554Z"
   },
   {
    "duration": 3,
    "start_time": "2025-03-27T17:45:35.557Z"
   },
   {
    "duration": 6,
    "start_time": "2025-03-27T17:45:35.562Z"
   },
   {
    "duration": 10,
    "start_time": "2025-03-27T17:45:35.605Z"
   },
   {
    "duration": 6,
    "start_time": "2025-03-27T17:45:35.617Z"
   },
   {
    "duration": 35,
    "start_time": "2025-03-27T17:45:35.624Z"
   },
   {
    "duration": 49,
    "start_time": "2025-03-27T17:45:35.661Z"
   },
   {
    "duration": 32,
    "start_time": "2025-03-27T17:45:35.713Z"
   },
   {
    "duration": 5,
    "start_time": "2025-03-27T17:45:35.747Z"
   },
   {
    "duration": 61,
    "start_time": "2025-03-27T17:45:35.754Z"
   },
   {
    "duration": 60,
    "start_time": "2025-03-27T17:45:35.816Z"
   },
   {
    "duration": 6,
    "start_time": "2025-03-27T17:45:35.878Z"
   },
   {
    "duration": 145,
    "start_time": "2025-03-27T17:45:35.904Z"
   },
   {
    "duration": 124,
    "start_time": "2025-03-27T17:45:36.051Z"
   },
   {
    "duration": 124,
    "start_time": "2025-03-27T17:45:36.177Z"
   },
   {
    "duration": 242,
    "start_time": "2025-03-27T17:45:36.305Z"
   },
   {
    "duration": 132,
    "start_time": "2025-03-27T17:45:36.549Z"
   },
   {
    "duration": 254,
    "start_time": "2025-03-27T17:45:36.685Z"
   },
   {
    "duration": 1256,
    "start_time": "2025-03-27T17:45:36.941Z"
   },
   {
    "duration": 224,
    "start_time": "2025-03-27T17:45:38.200Z"
   },
   {
    "duration": 224,
    "start_time": "2025-03-27T17:45:38.426Z"
   },
   {
    "duration": 992,
    "start_time": "2025-03-27T17:45:38.652Z"
   },
   {
    "duration": 112,
    "start_time": "2025-03-27T17:45:39.646Z"
   },
   {
    "duration": 5,
    "start_time": "2025-03-27T18:45:43.085Z"
   },
   {
    "duration": 450,
    "start_time": "2025-03-27T18:46:00.355Z"
   },
   {
    "duration": 950,
    "start_time": "2025-03-27T18:46:00.807Z"
   },
   {
    "duration": 13,
    "start_time": "2025-03-27T18:46:01.759Z"
   },
   {
    "duration": 11,
    "start_time": "2025-03-27T18:46:01.775Z"
   },
   {
    "duration": 37,
    "start_time": "2025-03-27T18:46:01.787Z"
   },
   {
    "duration": 11,
    "start_time": "2025-03-27T18:46:01.826Z"
   },
   {
    "duration": 10,
    "start_time": "2025-03-27T18:46:01.839Z"
   },
   {
    "duration": 119,
    "start_time": "2025-03-27T18:46:01.851Z"
   },
   {
    "duration": 12,
    "start_time": "2025-03-27T18:46:01.972Z"
   },
   {
    "duration": 187,
    "start_time": "2025-03-27T18:46:01.988Z"
   },
   {
    "duration": 100,
    "start_time": "2025-03-27T18:46:02.177Z"
   },
   {
    "duration": 33,
    "start_time": "2025-03-27T18:46:02.279Z"
   },
   {
    "duration": 14,
    "start_time": "2025-03-27T18:46:02.314Z"
   },
   {
    "duration": 3,
    "start_time": "2025-03-27T18:46:02.330Z"
   },
   {
    "duration": 19,
    "start_time": "2025-03-27T18:46:02.334Z"
   },
   {
    "duration": 9,
    "start_time": "2025-03-27T18:46:02.354Z"
   },
   {
    "duration": 877,
    "start_time": "2025-03-27T18:46:02.365Z"
   },
   {
    "duration": 35,
    "start_time": "2025-03-27T18:46:03.244Z"
   },
   {
    "duration": 3,
    "start_time": "2025-03-27T18:46:03.281Z"
   },
   {
    "duration": 19,
    "start_time": "2025-03-27T18:46:03.286Z"
   },
   {
    "duration": 4,
    "start_time": "2025-03-27T18:46:03.307Z"
   },
   {
    "duration": 5,
    "start_time": "2025-03-27T18:46:03.312Z"
   },
   {
    "duration": 8,
    "start_time": "2025-03-27T18:46:03.319Z"
   },
   {
    "duration": 3,
    "start_time": "2025-03-27T18:46:03.328Z"
   },
   {
    "duration": 4,
    "start_time": "2025-03-27T18:46:03.332Z"
   },
   {
    "duration": 7,
    "start_time": "2025-03-27T18:46:03.337Z"
   },
   {
    "duration": 10,
    "start_time": "2025-03-27T18:46:03.346Z"
   },
   {
    "duration": 46,
    "start_time": "2025-03-27T18:46:03.360Z"
   },
   {
    "duration": 37,
    "start_time": "2025-03-27T18:46:03.408Z"
   },
   {
    "duration": 26,
    "start_time": "2025-03-27T18:46:03.446Z"
   },
   {
    "duration": 53,
    "start_time": "2025-03-27T18:46:03.474Z"
   },
   {
    "duration": 4,
    "start_time": "2025-03-27T18:46:03.530Z"
   },
   {
    "duration": 35,
    "start_time": "2025-03-27T18:46:03.536Z"
   },
   {
    "duration": 79,
    "start_time": "2025-03-27T18:46:03.573Z"
   },
   {
    "duration": 5,
    "start_time": "2025-03-27T18:46:03.653Z"
   },
   {
    "duration": 155,
    "start_time": "2025-03-27T18:46:03.659Z"
   },
   {
    "duration": 124,
    "start_time": "2025-03-27T18:46:03.816Z"
   },
   {
    "duration": 134,
    "start_time": "2025-03-27T18:46:03.943Z"
   },
   {
    "duration": 249,
    "start_time": "2025-03-27T18:46:04.079Z"
   },
   {
    "duration": 126,
    "start_time": "2025-03-27T18:46:04.329Z"
   },
   {
    "duration": 239,
    "start_time": "2025-03-27T18:46:04.457Z"
   },
   {
    "duration": 1242,
    "start_time": "2025-03-27T18:46:04.699Z"
   },
   {
    "duration": 205,
    "start_time": "2025-03-27T18:46:05.944Z"
   },
   {
    "duration": 230,
    "start_time": "2025-03-27T18:46:06.151Z"
   },
   {
    "duration": 967,
    "start_time": "2025-03-27T18:46:06.383Z"
   },
   {
    "duration": 120,
    "start_time": "2025-03-27T18:46:07.352Z"
   },
   {
    "duration": 437,
    "start_time": "2025-03-28T15:56:01.276Z"
   },
   {
    "duration": 1026,
    "start_time": "2025-03-28T15:56:01.715Z"
   },
   {
    "duration": 15,
    "start_time": "2025-03-28T15:56:02.742Z"
   },
   {
    "duration": 10,
    "start_time": "2025-03-28T15:56:02.760Z"
   },
   {
    "duration": 23,
    "start_time": "2025-03-28T15:56:02.772Z"
   },
   {
    "duration": 9,
    "start_time": "2025-03-28T15:56:02.797Z"
   },
   {
    "duration": 9,
    "start_time": "2025-03-28T15:56:02.831Z"
   },
   {
    "duration": 104,
    "start_time": "2025-03-28T15:56:02.842Z"
   },
   {
    "duration": 10,
    "start_time": "2025-03-28T15:56:02.948Z"
   },
   {
    "duration": 182,
    "start_time": "2025-03-28T15:56:02.961Z"
   },
   {
    "duration": 93,
    "start_time": "2025-03-28T15:56:03.145Z"
   },
   {
    "duration": 26,
    "start_time": "2025-03-28T15:56:03.240Z"
   },
   {
    "duration": 12,
    "start_time": "2025-03-28T15:56:03.268Z"
   },
   {
    "duration": 4,
    "start_time": "2025-03-28T15:56:03.281Z"
   },
   {
    "duration": 44,
    "start_time": "2025-03-28T15:56:03.287Z"
   },
   {
    "duration": 8,
    "start_time": "2025-03-28T15:56:03.333Z"
   },
   {
    "duration": 793,
    "start_time": "2025-03-28T15:56:03.343Z"
   },
   {
    "duration": 34,
    "start_time": "2025-03-28T15:56:04.138Z"
   },
   {
    "duration": 4,
    "start_time": "2025-03-28T15:56:04.174Z"
   },
   {
    "duration": 5,
    "start_time": "2025-03-28T15:56:04.181Z"
   },
   {
    "duration": 4,
    "start_time": "2025-03-28T15:56:04.187Z"
   },
   {
    "duration": 4,
    "start_time": "2025-03-28T15:56:04.193Z"
   },
   {
    "duration": 35,
    "start_time": "2025-03-28T15:56:04.199Z"
   },
   {
    "duration": 2,
    "start_time": "2025-03-28T15:56:04.236Z"
   },
   {
    "duration": 3,
    "start_time": "2025-03-28T15:56:04.240Z"
   },
   {
    "duration": 7,
    "start_time": "2025-03-28T15:56:04.244Z"
   },
   {
    "duration": 7,
    "start_time": "2025-03-28T15:56:04.253Z"
   },
   {
    "duration": 6,
    "start_time": "2025-03-28T15:56:04.265Z"
   },
   {
    "duration": 67,
    "start_time": "2025-03-28T15:56:04.272Z"
   },
   {
    "duration": 25,
    "start_time": "2025-03-28T15:56:04.340Z"
   },
   {
    "duration": 30,
    "start_time": "2025-03-28T15:56:04.367Z"
   },
   {
    "duration": 4,
    "start_time": "2025-03-28T15:56:04.399Z"
   },
   {
    "duration": 58,
    "start_time": "2025-03-28T15:56:04.404Z"
   },
   {
    "duration": 72,
    "start_time": "2025-03-28T15:56:04.464Z"
   },
   {
    "duration": 5,
    "start_time": "2025-03-28T15:56:04.538Z"
   },
   {
    "duration": 138,
    "start_time": "2025-03-28T15:56:04.544Z"
   },
   {
    "duration": 127,
    "start_time": "2025-03-28T15:56:04.684Z"
   },
   {
    "duration": 132,
    "start_time": "2025-03-28T15:56:04.814Z"
   },
   {
    "duration": 249,
    "start_time": "2025-03-28T15:56:04.948Z"
   },
   {
    "duration": 130,
    "start_time": "2025-03-28T15:56:05.199Z"
   },
   {
    "duration": 241,
    "start_time": "2025-03-28T15:56:05.332Z"
   },
   {
    "duration": 1206,
    "start_time": "2025-03-28T15:56:05.575Z"
   },
   {
    "duration": 225,
    "start_time": "2025-03-28T15:56:06.784Z"
   },
   {
    "duration": 271,
    "start_time": "2025-03-28T15:56:07.011Z"
   },
   {
    "duration": 840,
    "start_time": "2025-03-28T15:56:07.284Z"
   },
   {
    "duration": 141,
    "start_time": "2025-03-28T15:56:08.126Z"
   },
   {
    "duration": 6,
    "start_time": "2025-03-28T16:03:10.398Z"
   },
   {
    "duration": 2,
    "start_time": "2025-03-28T16:03:18.534Z"
   },
   {
    "duration": 10,
    "start_time": "2025-03-28T16:19:29.905Z"
   },
   {
    "duration": 66,
    "start_time": "2025-03-28T16:19:41.088Z"
   },
   {
    "duration": 128,
    "start_time": "2025-03-28T16:19:52.040Z"
   },
   {
    "duration": 136,
    "start_time": "2025-03-28T16:19:55.544Z"
   },
   {
    "duration": 860,
    "start_time": "2025-03-28T16:20:26.166Z"
   },
   {
    "duration": 133,
    "start_time": "2025-03-28T16:20:30.491Z"
   },
   {
    "duration": 1163,
    "start_time": "2025-03-28T16:25:52.830Z"
   },
   {
    "duration": 7,
    "start_time": "2025-03-28T16:25:57.658Z"
   },
   {
    "duration": 115,
    "start_time": "2025-03-28T16:26:11.297Z"
   },
   {
    "duration": 8,
    "start_time": "2025-03-28T16:30:03.160Z"
   },
   {
    "duration": 8,
    "start_time": "2025-03-28T16:30:13.876Z"
   },
   {
    "duration": 8,
    "start_time": "2025-03-28T16:31:01.580Z"
   },
   {
    "duration": 9,
    "start_time": "2025-03-28T16:31:07.443Z"
   },
   {
    "duration": 94,
    "start_time": "2025-03-28T16:32:00.534Z"
   },
   {
    "duration": 6,
    "start_time": "2025-03-28T16:32:03.012Z"
   },
   {
    "duration": 157,
    "start_time": "2025-03-30T13:01:47.555Z"
   },
   {
    "duration": 2381,
    "start_time": "2025-03-30T13:01:58.776Z"
   },
   {
    "duration": 1070,
    "start_time": "2025-03-30T13:02:01.159Z"
   },
   {
    "duration": 17,
    "start_time": "2025-03-30T13:02:02.232Z"
   },
   {
    "duration": 12,
    "start_time": "2025-03-30T13:02:02.252Z"
   },
   {
    "duration": 33,
    "start_time": "2025-03-30T13:02:02.266Z"
   },
   {
    "duration": 14,
    "start_time": "2025-03-30T13:02:02.301Z"
   },
   {
    "duration": 10,
    "start_time": "2025-03-30T13:02:02.317Z"
   },
   {
    "duration": 113,
    "start_time": "2025-03-30T13:02:02.329Z"
   },
   {
    "duration": 11,
    "start_time": "2025-03-30T13:02:02.444Z"
   },
   {
    "duration": 191,
    "start_time": "2025-03-30T13:02:02.459Z"
   },
   {
    "duration": 104,
    "start_time": "2025-03-30T13:02:02.652Z"
   },
   {
    "duration": 28,
    "start_time": "2025-03-30T13:02:02.758Z"
   },
   {
    "duration": 29,
    "start_time": "2025-03-30T13:02:02.787Z"
   },
   {
    "duration": 4,
    "start_time": "2025-03-30T13:02:02.818Z"
   },
   {
    "duration": 27,
    "start_time": "2025-03-30T13:02:02.824Z"
   },
   {
    "duration": 11,
    "start_time": "2025-03-30T13:02:02.853Z"
   },
   {
    "duration": 809,
    "start_time": "2025-03-30T13:02:02.866Z"
   },
   {
    "duration": 43,
    "start_time": "2025-03-30T13:02:03.677Z"
   },
   {
    "duration": 4,
    "start_time": "2025-03-30T13:02:03.722Z"
   },
   {
    "duration": 4,
    "start_time": "2025-03-30T13:02:03.728Z"
   },
   {
    "duration": 4,
    "start_time": "2025-03-30T13:02:03.734Z"
   },
   {
    "duration": 6,
    "start_time": "2025-03-30T13:02:03.739Z"
   },
   {
    "duration": 11,
    "start_time": "2025-03-30T13:02:03.749Z"
   },
   {
    "duration": 650,
    "start_time": "2025-03-30T13:02:03.762Z"
   },
   {
    "duration": 0,
    "start_time": "2025-03-30T13:02:04.416Z"
   },
   {
    "duration": 0,
    "start_time": "2025-03-30T13:02:04.417Z"
   },
   {
    "duration": 0,
    "start_time": "2025-03-30T13:02:04.419Z"
   },
   {
    "duration": 0,
    "start_time": "2025-03-30T13:02:04.424Z"
   },
   {
    "duration": 0,
    "start_time": "2025-03-30T13:02:04.425Z"
   },
   {
    "duration": 0,
    "start_time": "2025-03-30T13:02:04.427Z"
   },
   {
    "duration": 0,
    "start_time": "2025-03-30T13:02:04.428Z"
   },
   {
    "duration": 0,
    "start_time": "2025-03-30T13:02:04.429Z"
   },
   {
    "duration": 0,
    "start_time": "2025-03-30T13:02:04.431Z"
   },
   {
    "duration": 0,
    "start_time": "2025-03-30T13:02:04.432Z"
   },
   {
    "duration": 0,
    "start_time": "2025-03-30T13:02:04.433Z"
   },
   {
    "duration": 0,
    "start_time": "2025-03-30T13:02:04.435Z"
   },
   {
    "duration": 0,
    "start_time": "2025-03-30T13:02:04.436Z"
   },
   {
    "duration": 0,
    "start_time": "2025-03-30T13:02:04.438Z"
   },
   {
    "duration": 0,
    "start_time": "2025-03-30T13:02:04.439Z"
   },
   {
    "duration": 0,
    "start_time": "2025-03-30T13:02:04.440Z"
   },
   {
    "duration": 0,
    "start_time": "2025-03-30T13:02:04.442Z"
   },
   {
    "duration": 0,
    "start_time": "2025-03-30T13:02:04.443Z"
   },
   {
    "duration": 0,
    "start_time": "2025-03-30T13:02:04.445Z"
   },
   {
    "duration": 0,
    "start_time": "2025-03-30T13:02:04.446Z"
   },
   {
    "duration": 0,
    "start_time": "2025-03-30T13:02:04.448Z"
   },
   {
    "duration": 0,
    "start_time": "2025-03-30T13:02:04.449Z"
   },
   {
    "duration": 3,
    "start_time": "2025-03-30T13:02:23.015Z"
   },
   {
    "duration": 3,
    "start_time": "2025-03-30T13:02:26.892Z"
   },
   {
    "duration": 7,
    "start_time": "2025-03-30T13:13:12.473Z"
   },
   {
    "duration": 480,
    "start_time": "2025-03-30T13:15:29.629Z"
   },
   {
    "duration": 937,
    "start_time": "2025-03-30T13:15:32.185Z"
   },
   {
    "duration": 20,
    "start_time": "2025-03-30T13:16:10.554Z"
   },
   {
    "duration": 16,
    "start_time": "2025-03-30T13:16:23.150Z"
   },
   {
    "duration": 16,
    "start_time": "2025-03-30T13:16:35.381Z"
   },
   {
    "duration": 29,
    "start_time": "2025-03-30T13:16:42.050Z"
   },
   {
    "duration": 13,
    "start_time": "2025-03-30T13:16:55.648Z"
   },
   {
    "duration": 12,
    "start_time": "2025-03-30T13:17:07.366Z"
   },
   {
    "duration": 96,
    "start_time": "2025-03-30T13:17:21.684Z"
   },
   {
    "duration": 17,
    "start_time": "2025-03-30T13:17:27.158Z"
   },
   {
    "duration": 220,
    "start_time": "2025-03-30T13:17:31.705Z"
   },
   {
    "duration": 106,
    "start_time": "2025-03-30T13:17:35.503Z"
   },
   {
    "duration": 30,
    "start_time": "2025-03-30T13:17:39.394Z"
   },
   {
    "duration": 15,
    "start_time": "2025-03-30T13:17:55.633Z"
   },
   {
    "duration": 3,
    "start_time": "2025-03-30T13:18:03.552Z"
   },
   {
    "duration": 19,
    "start_time": "2025-03-30T13:18:16.236Z"
   },
   {
    "duration": 11,
    "start_time": "2025-03-30T13:18:21.768Z"
   },
   {
    "duration": 777,
    "start_time": "2025-03-30T13:18:46.778Z"
   },
   {
    "duration": 34,
    "start_time": "2025-03-30T13:18:52.090Z"
   },
   {
    "duration": 4,
    "start_time": "2025-03-30T13:19:08.116Z"
   },
   {
    "duration": 4,
    "start_time": "2025-03-30T13:19:11.949Z"
   },
   {
    "duration": 3,
    "start_time": "2025-03-30T13:19:22.965Z"
   },
   {
    "duration": 4,
    "start_time": "2025-03-30T13:19:28.107Z"
   },
   {
    "duration": 10,
    "start_time": "2025-03-30T13:19:41.098Z"
   },
   {
    "duration": 3,
    "start_time": "2025-03-30T13:19:49.589Z"
   },
   {
    "duration": 3,
    "start_time": "2025-03-30T13:19:53.948Z"
   },
   {
    "duration": 7,
    "start_time": "2025-03-30T13:20:03.036Z"
   },
   {
    "duration": 9,
    "start_time": "2025-03-30T13:20:08.232Z"
   },
   {
    "duration": 6,
    "start_time": "2025-03-30T13:20:12.620Z"
   },
   {
    "duration": 11,
    "start_time": "2025-03-30T13:29:46.322Z"
   },
   {
    "duration": 11,
    "start_time": "2025-03-30T13:32:39.614Z"
   },
   {
    "duration": 28,
    "start_time": "2025-03-30T13:34:16.661Z"
   },
   {
    "duration": 32,
    "start_time": "2025-03-30T13:34:31.270Z"
   },
   {
    "duration": 20,
    "start_time": "2025-03-30T13:41:17.418Z"
   },
   {
    "duration": 19,
    "start_time": "2025-03-30T13:42:10.078Z"
   },
   {
    "duration": 32,
    "start_time": "2025-03-30T13:42:21.484Z"
   },
   {
    "duration": 7,
    "start_time": "2025-03-30T13:47:02.875Z"
   },
   {
    "duration": 6,
    "start_time": "2025-03-30T13:48:20.812Z"
   },
   {
    "duration": 9,
    "start_time": "2025-03-30T13:51:03.051Z"
   },
   {
    "duration": 6,
    "start_time": "2025-03-30T13:51:19.783Z"
   },
   {
    "duration": 9,
    "start_time": "2025-03-30T13:51:24.990Z"
   },
   {
    "duration": 4,
    "start_time": "2025-03-30T13:55:52.814Z"
   },
   {
    "duration": 6,
    "start_time": "2025-03-30T13:56:00.469Z"
   },
   {
    "duration": 749,
    "start_time": "2025-03-30T13:56:30.739Z"
   },
   {
    "duration": 5,
    "start_time": "2025-03-30T13:56:47.436Z"
   },
   {
    "duration": 4,
    "start_time": "2025-03-30T13:56:53.684Z"
   },
   {
    "duration": 22,
    "start_time": "2025-03-30T13:56:58.130Z"
   },
   {
    "duration": 7,
    "start_time": "2025-03-30T13:57:01.960Z"
   },
   {
    "duration": 7,
    "start_time": "2025-03-30T13:57:35.196Z"
   },
   {
    "duration": 368,
    "start_time": "2025-03-30T14:11:44.754Z"
   },
   {
    "duration": 519,
    "start_time": "2025-03-30T14:12:18.718Z"
   },
   {
    "duration": 57,
    "start_time": "2025-03-30T14:13:49.979Z"
   },
   {
    "duration": 8,
    "start_time": "2025-03-30T14:14:47.195Z"
   },
   {
    "duration": 194,
    "start_time": "2025-03-30T14:14:51.182Z"
   },
   {
    "duration": 113,
    "start_time": "2025-03-30T14:14:59.478Z"
   },
   {
    "duration": 126,
    "start_time": "2025-03-30T14:15:07.631Z"
   },
   {
    "duration": 220,
    "start_time": "2025-03-30T14:16:19.748Z"
   },
   {
    "duration": 4,
    "start_time": "2025-03-30T14:17:14.347Z"
   },
   {
    "duration": 3,
    "start_time": "2025-03-30T14:17:34.396Z"
   },
   {
    "duration": 5,
    "start_time": "2025-03-30T14:18:38.128Z"
   },
   {
    "duration": 4,
    "start_time": "2025-03-30T14:19:21.203Z"
   },
   {
    "duration": 228,
    "start_time": "2025-03-30T14:20:15.303Z"
   },
   {
    "duration": 115,
    "start_time": "2025-03-30T14:20:19.537Z"
   },
   {
    "duration": 215,
    "start_time": "2025-03-30T14:21:36.065Z"
   },
   {
    "duration": 47,
    "start_time": "2025-03-30T14:23:52.965Z"
   },
   {
    "duration": 85,
    "start_time": "2025-03-30T14:26:04.422Z"
   },
   {
    "duration": 49,
    "start_time": "2025-03-30T14:26:17.956Z"
   },
   {
    "duration": 44,
    "start_time": "2025-03-30T14:26:40.171Z"
   },
   {
    "duration": 145,
    "start_time": "2025-03-30T14:28:09.868Z"
   },
   {
    "duration": 203,
    "start_time": "2025-03-30T14:28:31.999Z"
   },
   {
    "duration": 157,
    "start_time": "2025-03-30T14:28:50.267Z"
   },
   {
    "duration": 185,
    "start_time": "2025-03-30T14:30:12.000Z"
   },
   {
    "duration": 144,
    "start_time": "2025-03-30T14:30:30.938Z"
   },
   {
    "duration": 151,
    "start_time": "2025-03-30T14:30:43.904Z"
   },
   {
    "duration": 149,
    "start_time": "2025-03-30T14:36:23.232Z"
   },
   {
    "duration": 150,
    "start_time": "2025-03-30T14:37:45.976Z"
   },
   {
    "duration": 577,
    "start_time": "2025-03-30T14:39:38.412Z"
   },
   {
    "duration": 145,
    "start_time": "2025-03-30T14:40:34.054Z"
   },
   {
    "duration": 449,
    "start_time": "2025-03-30T14:43:14.068Z"
   },
   {
    "duration": 352,
    "start_time": "2025-03-30T14:45:37.590Z"
   },
   {
    "duration": 206,
    "start_time": "2025-03-30T14:47:53.307Z"
   },
   {
    "duration": 217,
    "start_time": "2025-03-30T14:49:35.155Z"
   },
   {
    "duration": 232,
    "start_time": "2025-03-30T14:49:48.549Z"
   },
   {
    "duration": 364,
    "start_time": "2025-03-30T14:50:17.179Z"
   },
   {
    "duration": 323,
    "start_time": "2025-03-30T14:50:35.451Z"
   },
   {
    "duration": 327,
    "start_time": "2025-03-30T14:50:48.659Z"
   },
   {
    "duration": 324,
    "start_time": "2025-03-30T14:51:11.502Z"
   },
   {
    "duration": 337,
    "start_time": "2025-03-30T14:52:24.007Z"
   },
   {
    "duration": 383,
    "start_time": "2025-03-30T14:52:37.373Z"
   },
   {
    "duration": 807,
    "start_time": "2025-03-30T14:54:41.855Z"
   },
   {
    "duration": 743,
    "start_time": "2025-03-30T14:55:48.174Z"
   },
   {
    "duration": 393,
    "start_time": "2025-03-30T14:56:12.791Z"
   },
   {
    "duration": 906,
    "start_time": "2025-03-30T14:56:13.186Z"
   },
   {
    "duration": 19,
    "start_time": "2025-03-30T14:56:14.093Z"
   },
   {
    "duration": 13,
    "start_time": "2025-03-30T14:56:14.115Z"
   },
   {
    "duration": 27,
    "start_time": "2025-03-30T14:56:14.130Z"
   },
   {
    "duration": 12,
    "start_time": "2025-03-30T14:56:14.159Z"
   },
   {
    "duration": 43,
    "start_time": "2025-03-30T14:56:14.173Z"
   },
   {
    "duration": 101,
    "start_time": "2025-03-30T14:56:14.217Z"
   },
   {
    "duration": 10,
    "start_time": "2025-03-30T14:56:14.320Z"
   },
   {
    "duration": 182,
    "start_time": "2025-03-30T14:56:14.334Z"
   },
   {
    "duration": 91,
    "start_time": "2025-03-30T14:56:14.518Z"
   },
   {
    "duration": 27,
    "start_time": "2025-03-30T14:56:14.610Z"
   },
   {
    "duration": 12,
    "start_time": "2025-03-30T14:56:14.639Z"
   },
   {
    "duration": 4,
    "start_time": "2025-03-30T14:56:14.652Z"
   },
   {
    "duration": 18,
    "start_time": "2025-03-30T14:56:14.657Z"
   },
   {
    "duration": 37,
    "start_time": "2025-03-30T14:56:14.676Z"
   },
   {
    "duration": 755,
    "start_time": "2025-03-30T14:56:14.715Z"
   },
   {
    "duration": 39,
    "start_time": "2025-03-30T14:56:15.472Z"
   },
   {
    "duration": 4,
    "start_time": "2025-03-30T14:56:15.513Z"
   },
   {
    "duration": 5,
    "start_time": "2025-03-30T14:56:15.519Z"
   },
   {
    "duration": 4,
    "start_time": "2025-03-30T14:56:15.525Z"
   },
   {
    "duration": 4,
    "start_time": "2025-03-30T14:56:15.530Z"
   },
   {
    "duration": 10,
    "start_time": "2025-03-30T14:56:15.536Z"
   },
   {
    "duration": 4,
    "start_time": "2025-03-30T14:56:15.547Z"
   },
   {
    "duration": 3,
    "start_time": "2025-03-30T14:56:15.552Z"
   },
   {
    "duration": 52,
    "start_time": "2025-03-30T14:56:15.557Z"
   },
   {
    "duration": 8,
    "start_time": "2025-03-30T14:56:15.610Z"
   },
   {
    "duration": 4,
    "start_time": "2025-03-30T14:56:15.623Z"
   },
   {
    "duration": 10,
    "start_time": "2025-03-30T14:56:15.629Z"
   },
   {
    "duration": 25,
    "start_time": "2025-03-30T14:56:15.641Z"
   },
   {
    "duration": 63,
    "start_time": "2025-03-30T14:56:15.668Z"
   },
   {
    "duration": 9,
    "start_time": "2025-03-30T14:56:15.733Z"
   },
   {
    "duration": 350,
    "start_time": "2025-03-30T14:56:15.743Z"
   },
   {
    "duration": 67,
    "start_time": "2025-03-30T14:56:16.094Z"
   },
   {
    "duration": 5,
    "start_time": "2025-03-30T14:56:16.165Z"
   },
   {
    "duration": 138,
    "start_time": "2025-03-30T14:56:16.172Z"
   },
   {
    "duration": 121,
    "start_time": "2025-03-30T14:56:16.312Z"
   },
   {
    "duration": 228,
    "start_time": "2025-03-30T14:56:16.436Z"
   },
   {
    "duration": 231,
    "start_time": "2025-03-30T14:56:16.665Z"
   },
   {
    "duration": 158,
    "start_time": "2025-03-30T14:56:16.898Z"
   },
   {
    "duration": 290,
    "start_time": "2025-03-30T14:56:17.058Z"
   },
   {
    "duration": 408,
    "start_time": "2025-03-30T14:56:17.350Z"
   },
   {
    "duration": 215,
    "start_time": "2025-03-30T14:56:17.759Z"
   },
   {
    "duration": 339,
    "start_time": "2025-03-30T14:56:17.977Z"
   },
   {
    "duration": 971,
    "start_time": "2025-03-30T14:56:18.317Z"
   },
   {
    "duration": 126,
    "start_time": "2025-03-30T14:56:19.290Z"
   }
  ],
  "colab": {
   "provenance": []
  },
  "kernelspec": {
   "display_name": "Python 3 (ipykernel)",
   "language": "python",
   "name": "python3"
  },
  "language_info": {
   "codemirror_mode": {
    "name": "ipython",
    "version": 3
   },
   "file_extension": ".py",
   "mimetype": "text/x-python",
   "name": "python",
   "nbconvert_exporter": "python",
   "pygments_lexer": "ipython3",
   "version": "3.9.19"
  },
  "toc": {
   "base_numbering": 1,
   "nav_menu": {},
   "number_sections": true,
   "sideBar": true,
   "skip_h1_title": true,
   "title_cell": "Table of Contents",
   "title_sidebar": "Contents",
   "toc_cell": false,
   "toc_position": {},
   "toc_section_display": true,
   "toc_window_display": false
  },
  "vscode": {
   "interpreter": {
    "hash": "01a7be9ec63e704a62cefc5fe7a4756944464ee731be31632bdf42a4cb4688cf"
   }
  }
 },
 "nbformat": 4,
 "nbformat_minor": 5
}
